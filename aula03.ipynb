{
  "cells": [
    {
      "cell_type": "markdown",
      "metadata": {
        "id": "GFJ4EVNomx-9",
        "colab_type": "text"
      },
      "source": [
        "## **Semana de Data Science**\n",
        "\n",
        "- Minerando Dados"
      ]
    },
    {
      "cell_type": "markdown",
      "metadata": {
        "id": "4vhNe3CadOcI",
        "colab_type": "text"
      },
      "source": [
        "### Conhecendo a base de dados"
      ]
    },
    {
      "cell_type": "markdown",
      "metadata": {
        "id": "UIKcG9cuf73S",
        "colab_type": "text"
      },
      "source": [
        "Monta o drive"
      ]
    },
    {
      "cell_type": "code",
      "metadata": {
        "id": "Pra_pLjfAW3d",
        "colab_type": "code",
        "colab": {}
      },
      "source": [
        "from google.colab import drive\n",
        "drive.mount('/content/drive')"
      ],
      "execution_count": 0,
      "outputs": []
    },
    {
      "cell_type": "markdown",
      "metadata": {
        "id": "LpI7iiKFVv85",
        "colab_type": "text"
      },
      "source": [
        "Importando as bibliotecas básicas"
      ]
    },
    {
      "cell_type": "code",
      "metadata": {
        "id": "KrCFI6wjVy8r",
        "colab_type": "code",
        "colab": {}
      },
      "source": [
        "import pandas as pd\n",
        "import seaborn as sns\n",
        "import numpy as np\n",
        "import matplotlib.pyplot as plt"
      ],
      "execution_count": 2,
      "outputs": []
    },
    {
      "cell_type": "markdown",
      "metadata": {
        "id": "pN6MI_aOdLkK",
        "colab_type": "text"
      },
      "source": [
        "Carregando a Base de Dados"
      ]
    },
    {
      "cell_type": "code",
      "metadata": {
        "id": "fH08VuIvDYqC",
        "colab_type": "code",
        "colab": {}
      },
      "source": [
        "# carrega o dataset de london\n",
        "from sklearn.datasets import load_boston\n",
        "boston = load_boston()"
      ],
      "execution_count": 3,
      "outputs": []
    },
    {
      "cell_type": "code",
      "metadata": {
        "id": "vdncFGtm9EZe",
        "colab_type": "code",
        "colab": {}
      },
      "source": [
        "# descrição do dataset\n",
        "print (boston.DESCR)"
      ],
      "execution_count": 4,
      "outputs": [
        {
          "output_type": "stream",
          "name": "stdout",
          "text": ".. _boston_dataset:\n\nBoston house prices dataset\n---------------------------\n\n**Data Set Characteristics:**  \n\n    :Number of Instances: 506 \n\n    :Number of Attributes: 13 numeric/categorical predictive. Median Value (attribute 14) is usually the target.\n\n    :Attribute Information (in order):\n        - CRIM     per capita crime rate by town\n        - ZN       proportion of residential land zoned for lots over 25,000 sq.ft.\n        - INDUS    proportion of non-retail business acres per town\n        - CHAS     Charles River dummy variable (= 1 if tract bounds river; 0 otherwise)\n        - NOX      nitric oxides concentration (parts per 10 million)\n        - RM       average number of rooms per dwelling\n        - AGE      proportion of owner-occupied units built prior to 1940\n        - DIS      weighted distances to five Boston employment centres\n        - RAD      index of accessibility to radial highways\n        - TAX      full-value property-tax rate per $10,000\n        - PTRATIO  pupil-teacher ratio by town\n        - B        1000(Bk - 0.63)^2 where Bk is the proportion of blacks by town\n        - LSTAT    % lower status of the population\n        - MEDV     Median value of owner-occupied homes in $1000's\n\n    :Missing Attribute Values: None\n\n    :Creator: Harrison, D. and Rubinfeld, D.L.\n\nThis is a copy of UCI ML housing dataset.\nhttps://archive.ics.uci.edu/ml/machine-learning-databases/housing/\n\n\nThis dataset was taken from the StatLib library which is maintained at Carnegie Mellon University.\n\nThe Boston house-price data of Harrison, D. and Rubinfeld, D.L. 'Hedonic\nprices and the demand for clean air', J. Environ. Economics & Management,\nvol.5, 81-102, 1978.   Used in Belsley, Kuh & Welsch, 'Regression diagnostics\n...', Wiley, 1980.   N.B. Various transformations are used in the table on\npages 244-261 of the latter.\n\nThe Boston house-price data has been used in many machine learning papers that address regression\nproblems.   \n     \n.. topic:: References\n\n   - Belsley, Kuh & Welsch, 'Regression diagnostics: Identifying Influential Data and Sources of Collinearity', Wiley, 1980. 244-261.\n   - Quinlan,R. (1993). Combining Instance-Based and Model-Based Learning. In Proceedings on the Tenth International Conference of Machine Learning, 236-243, University of Massachusetts, Amherst. Morgan Kaufmann.\n\n"
        }
      ]
    },
    {
      "cell_type": "code",
      "metadata": {
        "id": "e1d1cfElD_aD",
        "colab_type": "code",
        "colab": {}
      },
      "source": [
        "# cria um dataframe pandas\n",
        "data = pd.DataFrame(boston.data, columns=boston.feature_names)"
      ],
      "execution_count": 6,
      "outputs": []
    },
    {
      "cell_type": "markdown",
      "metadata": {
        "id": "2DqDhU9Gdkme",
        "colab_type": "text"
      },
      "source": [
        "Adicionando a coluna que será nossa variável alvo"
      ]
    },
    {
      "cell_type": "code",
      "metadata": {
        "id": "WaGqRi0vElWS",
        "colab_type": "code",
        "colab": {}
      },
      "source": [
        "# adiciona a variável MEDV\n",
        "data['MEDV'] = boston.target"
      ],
      "execution_count": 7,
      "outputs": []
    },
    {
      "cell_type": "code",
      "metadata": {
        "id": "caKPkl_SFil0",
        "colab_type": "code",
        "colab": {}
      },
      "source": [
        "# filtra os top 16 maiores registro da coluna MEDV\n",
        "top16 = data.nlargest(16, 'MEDV').index"
      ],
      "execution_count": 8,
      "outputs": []
    },
    {
      "cell_type": "code",
      "metadata": {
        "id": "cicsUFf4OELZ",
        "colab_type": "code",
        "colab": {}
      },
      "source": [
        "# remove os valores listados em top16\n",
        "data.drop(top16, inplace=True)"
      ],
      "execution_count": 9,
      "outputs": []
    },
    {
      "cell_type": "markdown",
      "metadata": {
        "id": "X2mMG-H_xfCU",
        "colab_type": "text"
      },
      "source": [
        "**Definindo um Baseline**\n",
        "\n",
        "- `Uma baseline é importante para ter marcos no projeto`.\n",
        "- `Permite uma explicação fácil para todos os envolvidos`.\n",
        "- `É algo que sempre tentaremos ganhar na medida do possível`."
      ]
    },
    {
      "cell_type": "code",
      "metadata": {
        "id": "q-k-jC68Tmra",
        "colab_type": "code",
        "colab": {}
      },
      "source": [
        "# converte os dados\n",
        "data.RM = data.RM.astype(int)"
      ],
      "execution_count": 10,
      "outputs": []
    },
    {
      "cell_type": "code",
      "metadata": {
        "id": "cA9VCNRnUOPi",
        "colab_type": "code",
        "colab": {}
      },
      "source": [
        "data.info()"
      ],
      "execution_count": 11,
      "outputs": [
        {
          "output_type": "stream",
          "name": "stdout",
          "text": "<class 'pandas.core.frame.DataFrame'>\nInt64Index: 490 entries, 0 to 505\nData columns (total 14 columns):\n #   Column   Non-Null Count  Dtype  \n---  ------   --------------  -----  \n 0   CRIM     490 non-null    float64\n 1   ZN       490 non-null    float64\n 2   INDUS    490 non-null    float64\n 3   CHAS     490 non-null    float64\n 4   NOX      490 non-null    float64\n 5   RM       490 non-null    int32  \n 6   AGE      490 non-null    float64\n 7   DIS      490 non-null    float64\n 8   RAD      490 non-null    float64\n 9   TAX      490 non-null    float64\n 10  PTRATIO  490 non-null    float64\n 11  B        490 non-null    float64\n 12  LSTAT    490 non-null    float64\n 13  MEDV     490 non-null    float64\ndtypes: float64(13), int32(1)\nmemory usage: 55.5 KB\n"
        }
      ]
    },
    {
      "cell_type": "code",
      "metadata": {
        "id": "K_-mp-6WtUee",
        "colab_type": "code",
        "colab": {}
      },
      "source": [
        "# estatística descritiva da coluna numero de quartos\n",
        "data.RM.describe()"
      ],
      "execution_count": 12,
      "outputs": [
        {
          "output_type": "execute_result",
          "data": {
            "text/plain": "count    490.000000\nmean       5.740816\nstd        0.737657\nmin        3.000000\n25%        5.000000\n50%        6.000000\n75%        6.000000\nmax        8.000000\nName: RM, dtype: float64"
          },
          "metadata": {},
          "execution_count": 12
        }
      ]
    },
    {
      "cell_type": "code",
      "metadata": {
        "id": "HIknobGdtUQR",
        "colab_type": "code",
        "colab": {}
      },
      "source": [
        "# definindo a regra para categorizar os dados\n",
        "categorias = []"
      ],
      "execution_count": 13,
      "outputs": []
    },
    {
      "cell_type": "code",
      "metadata": {
        "id": "faL-8m1onPP2",
        "colab_type": "code",
        "colab": {}
      },
      "source": [
        "# alimenta a lista categorias\n",
        "for i in data.RM.iteritems():\n",
        "  valor = (i[1])\n",
        "  if valor <= 4:\n",
        "    categorias.append('Pequeno')\n",
        "  elif valor < 7:\n",
        "    categorias.append('Medio')\n",
        "  else:\n",
        "    categorias.append('Grande')"
      ],
      "execution_count": 14,
      "outputs": []
    },
    {
      "cell_type": "code",
      "metadata": {
        "id": "-nEk0wXeNFWE",
        "colab_type": "code",
        "colab": {}
      },
      "source": [
        "# cria a coluna categorias\n",
        "data['categorias'] = categorias"
      ],
      "execution_count": 15,
      "outputs": []
    },
    {
      "cell_type": "code",
      "metadata": {
        "id": "i-iVO76sR-am",
        "colab_type": "code",
        "colab": {}
      },
      "source": [
        "# imprime a contagem de categorias\n",
        "data.categorias.value_counts()"
      ],
      "execution_count": 16,
      "outputs": [
        {
          "output_type": "execute_result",
          "data": {
            "text/plain": "Medio      424\nGrande      52\nPequeno     14\nName: categorias, dtype: int64"
          },
          "metadata": {},
          "execution_count": 16
        }
      ]
    },
    {
      "cell_type": "code",
      "metadata": {
        "id": "Gxa6OrD8Ht-0",
        "colab_type": "code",
        "colab": {}
      },
      "source": [
        "# agrupa as categorias e calcula as médias\n",
        "medias_categorias = data.groupby(by='categorias')['MEDV'].mean()"
      ],
      "execution_count": 17,
      "outputs": []
    },
    {
      "cell_type": "code",
      "metadata": {
        "id": "zYMhxnzDIM2X",
        "colab_type": "code",
        "colab": {}
      },
      "source": [
        "# visualizando a variável medias_categorias\n",
        "medias_categorias"
      ],
      "execution_count": 18,
      "outputs": [
        {
          "output_type": "execute_result",
          "data": {
            "text/plain": "categorias\nGrande     35.719231\nMedio      20.130425\nPequeno    14.921429\nName: MEDV, dtype: float64"
          },
          "metadata": {},
          "execution_count": 18
        }
      ]
    },
    {
      "cell_type": "code",
      "metadata": {
        "id": "wJHkQXozHcYN",
        "colab_type": "code",
        "colab": {}
      },
      "source": [
        "# criando o dicionario com chaves medio, grande e pequeno e seus valores\n",
        "dic_baseline = dict(medias_categorias)"
      ],
      "execution_count": 22,
      "outputs": []
    },
    {
      "cell_type": "code",
      "metadata": {
        "id": "AMrYkM_T7eqS",
        "colab_type": "code",
        "colab": {}
      },
      "source": [
        "# imprime dicionario\n",
        "dic_baseline"
      ],
      "execution_count": 23,
      "outputs": [
        {
          "output_type": "execute_result",
          "data": {
            "text/plain": "{'Grande': 35.71923076923077,\n 'Medio': 20.1304245283019,\n 'Pequeno': 14.921428571428574}"
          },
          "metadata": {},
          "execution_count": 23
        }
      ]
    },
    {
      "cell_type": "code",
      "metadata": {
        "id": "7lfDPAmL8kjX",
        "colab_type": "code",
        "colab": {}
      },
      "source": [
        "# cria a função retorna baseline\n",
        "def retorna_baseline(num_quartos):\n",
        "  if num_quartos <= 4:\n",
        "    return dic_baseline.get('Pequeno')\n",
        "  elif num_quartos < 7:\n",
        "    return dic_baseline.get('Medio')\n",
        "  else:\n",
        "    return dic_baseline.get('Grande')"
      ],
      "execution_count": 24,
      "outputs": []
    },
    {
      "cell_type": "code",
      "metadata": {
        "id": "um5I8oQ2Arhe",
        "colab_type": "code",
        "colab": {}
      },
      "source": [
        "# chama a função retorna baseline\n",
        "retorna_baseline(7)"
      ],
      "execution_count": 25,
      "outputs": [
        {
          "output_type": "execute_result",
          "data": {
            "text/plain": "35.71923076923077"
          },
          "metadata": {},
          "execution_count": 25
        }
      ]
    },
    {
      "cell_type": "code",
      "metadata": {
        "id": "785EhcLuCoqw",
        "colab_type": "code",
        "colab": {},
        "tags": [
          "outputPrepend"
        ]
      },
      "source": [
        "for i in data.RM.iteritems():\n",
        "  n_quartos = i[1]\n",
        "  print('Número de quartos é: {} , Valor médio: {}'.format(n_quartos,retorna_baseline(n_quartos)))"
      ],
      "execution_count": 26,
      "outputs": [
        {
          "output_type": "stream",
          "name": "stdout",
          "text": "o: 20.1304245283019\nNúmero de quartos é: 6 , Valor médio: 20.1304245283019\nNúmero de quartos é: 5 , Valor médio: 20.1304245283019\nNúmero de quartos é: 6 , Valor médio: 20.1304245283019\nNúmero de quartos é: 6 , Valor médio: 20.1304245283019\nNúmero de quartos é: 6 , Valor médio: 20.1304245283019\nNúmero de quartos é: 5 , Valor médio: 20.1304245283019\nNúmero de quartos é: 5 , Valor médio: 20.1304245283019\nNúmero de quartos é: 6 , Valor médio: 20.1304245283019\nNúmero de quartos é: 5 , Valor médio: 20.1304245283019\nNúmero de quartos é: 6 , Valor médio: 20.1304245283019\nNúmero de quartos é: 5 , Valor médio: 20.1304245283019\nNúmero de quartos é: 6 , Valor médio: 20.1304245283019\nNúmero de quartos é: 6 , Valor médio: 20.1304245283019\nNúmero de quartos é: 5 , Valor médio: 20.1304245283019\nNúmero de quartos é: 5 , Valor médio: 20.1304245283019\nNúmero de quartos é: 5 , Valor médio: 20.1304245283019\nNúmero de quartos é: 4 , Valor médio: 14.921428571428574\nNúmero de quartos é: 6 , Valor médio: 20.1304245283019\nNúmero de quartos é: 5 , Valor médio: 20.1304245283019\nNúmero de quartos é: 4 , Valor médio: 14.921428571428574\nNúmero de quartos é: 5 , Valor médio: 20.1304245283019\nNúmero de quartos é: 5 , Valor médio: 20.1304245283019\nNúmero de quartos é: 6 , Valor médio: 20.1304245283019\nNúmero de quartos é: 5 , Valor médio: 20.1304245283019\nNúmero de quartos é: 5 , Valor médio: 20.1304245283019\nNúmero de quartos é: 5 , Valor médio: 20.1304245283019\nNúmero de quartos é: 6 , Valor médio: 20.1304245283019\nNúmero de quartos é: 6 , Valor médio: 20.1304245283019\nNúmero de quartos é: 5 , Valor médio: 20.1304245283019\nNúmero de quartos é: 6 , Valor médio: 20.1304245283019\nNúmero de quartos é: 6 , Valor médio: 20.1304245283019\nNúmero de quartos é: 6 , Valor médio: 20.1304245283019\nNúmero de quartos é: 6 , Valor médio: 20.1304245283019\nNúmero de quartos é: 5 , Valor médio: 20.1304245283019\nNúmero de quartos é: 6 , Valor médio: 20.1304245283019\nNúmero de quartos é: 5 , Valor médio: 20.1304245283019\nNúmero de quartos é: 6 , Valor médio: 20.1304245283019\nNúmero de quartos é: 6 , Valor médio: 20.1304245283019\nNúmero de quartos é: 5 , Valor médio: 20.1304245283019\nNúmero de quartos é: 5 , Valor médio: 20.1304245283019\nNúmero de quartos é: 5 , Valor médio: 20.1304245283019\nNúmero de quartos é: 6 , Valor médio: 20.1304245283019\nNúmero de quartos é: 5 , Valor médio: 20.1304245283019\nNúmero de quartos é: 6 , Valor médio: 20.1304245283019\nNúmero de quartos é: 6 , Valor médio: 20.1304245283019\nNúmero de quartos é: 6 , Valor médio: 20.1304245283019\nNúmero de quartos é: 6 , Valor médio: 20.1304245283019\nNúmero de quartos é: 6 , Valor médio: 20.1304245283019\nNúmero de quartos é: 7 , Valor médio: 35.71923076923077\nNúmero de quartos é: 6 , Valor médio: 20.1304245283019\nNúmero de quartos é: 7 , Valor médio: 35.71923076923077\nNúmero de quartos é: 6 , Valor médio: 20.1304245283019\nNúmero de quartos é: 5 , Valor médio: 20.1304245283019\nNúmero de quartos é: 6 , Valor médio: 20.1304245283019\nNúmero de quartos é: 6 , Valor médio: 20.1304245283019\nNúmero de quartos é: 6 , Valor médio: 20.1304245283019\nNúmero de quartos é: 7 , Valor médio: 35.71923076923077\nNúmero de quartos é: 6 , Valor médio: 20.1304245283019\nNúmero de quartos é: 6 , Valor médio: 20.1304245283019\nNúmero de quartos é: 7 , Valor médio: 35.71923076923077\nNúmero de quartos é: 6 , Valor médio: 20.1304245283019\nNúmero de quartos é: 6 , Valor médio: 20.1304245283019\nNúmero de quartos é: 7 , Valor médio: 35.71923076923077\nNúmero de quartos é: 7 , Valor médio: 35.71923076923077\nNúmero de quartos é: 7 , Valor médio: 35.71923076923077\nNúmero de quartos é: 6 , Valor médio: 20.1304245283019\nNúmero de quartos é: 7 , Valor médio: 35.71923076923077\nNúmero de quartos é: 6 , Valor médio: 20.1304245283019\nNúmero de quartos é: 7 , Valor médio: 35.71923076923077\nNúmero de quartos é: 7 , Valor médio: 35.71923076923077\nNúmero de quartos é: 5 , Valor médio: 20.1304245283019\nNúmero de quartos é: 6 , Valor médio: 20.1304245283019\nNúmero de quartos é: 5 , Valor médio: 20.1304245283019\nNúmero de quartos é: 6 , Valor médio: 20.1304245283019\nNúmero de quartos é: 5 , Valor médio: 20.1304245283019\nNúmero de quartos é: 5 , Valor médio: 20.1304245283019\nNúmero de quartos é: 5 , Valor médio: 20.1304245283019\nNúmero de quartos é: 5 , Valor médio: 20.1304245283019\nNúmero de quartos é: 6 , Valor médio: 20.1304245283019\nNúmero de quartos é: 5 , Valor médio: 20.1304245283019\nNúmero de quartos é: 6 , Valor médio: 20.1304245283019\nNúmero de quartos é: 5 , Valor médio: 20.1304245283019\nNúmero de quartos é: 6 , Valor médio: 20.1304245283019\nNúmero de quartos é: 5 , Valor médio: 20.1304245283019\nNúmero de quartos é: 6 , Valor médio: 20.1304245283019\nNúmero de quartos é: 6 , Valor médio: 20.1304245283019\nNúmero de quartos é: 6 , Valor médio: 20.1304245283019\nNúmero de quartos é: 6 , Valor médio: 20.1304245283019\nNúmero de quartos é: 6 , Valor médio: 20.1304245283019\nNúmero de quartos é: 8 , Valor médio: 35.71923076923077\nNúmero de quartos é: 8 , Valor médio: 35.71923076923077\nNúmero de quartos é: 7 , Valor médio: 35.71923076923077\nNúmero de quartos é: 7 , Valor médio: 35.71923076923077\nNúmero de quartos é: 6 , Valor médio: 20.1304245283019\nNúmero de quartos é: 5 , Valor médio: 20.1304245283019\nNúmero de quartos é: 7 , Valor médio: 35.71923076923077\nNúmero de quartos é: 8 , Valor médio: 35.71923076923077\nNúmero de quartos é: 8 , Valor médio: 35.71923076923077\nNúmero de quartos é: 6 , Valor médio: 20.1304245283019\nNúmero de quartos é: 6 , Valor médio: 20.1304245283019\nNúmero de quartos é: 6 , Valor médio: 20.1304245283019\nNúmero de quartos é: 7 , Valor médio: 35.71923076923077\nNúmero de quartos é: 6 , Valor médio: 20.1304245283019\nNúmero de quartos é: 6 , Valor médio: 20.1304245283019\nNúmero de quartos é: 6 , Valor médio: 20.1304245283019\nNúmero de quartos é: 6 , Valor médio: 20.1304245283019\nNúmero de quartos é: 6 , Valor médio: 20.1304245283019\nNúmero de quartos é: 6 , Valor médio: 20.1304245283019\nNúmero de quartos é: 5 , Valor médio: 20.1304245283019\nNúmero de quartos é: 5 , Valor médio: 20.1304245283019\nNúmero de quartos é: 6 , Valor médio: 20.1304245283019\nNúmero de quartos é: 6 , Valor médio: 20.1304245283019\nNúmero de quartos é: 6 , Valor médio: 20.1304245283019\nNúmero de quartos é: 6 , Valor médio: 20.1304245283019\nNúmero de quartos é: 6 , Valor médio: 20.1304245283019\nNúmero de quartos é: 6 , Valor médio: 20.1304245283019\nNúmero de quartos é: 6 , Valor médio: 20.1304245283019\nNúmero de quartos é: 8 , Valor médio: 35.71923076923077\nNúmero de quartos é: 6 , Valor médio: 20.1304245283019\nNúmero de quartos é: 5 , Valor médio: 20.1304245283019\nNúmero de quartos é: 7 , Valor médio: 35.71923076923077\nNúmero de quartos é: 7 , Valor médio: 35.71923076923077\nNúmero de quartos é: 6 , Valor médio: 20.1304245283019\nNúmero de quartos é: 7 , Valor médio: 35.71923076923077\nNúmero de quartos é: 7 , Valor médio: 35.71923076923077\nNúmero de quartos é: 8 , Valor médio: 35.71923076923077\nNúmero de quartos é: 7 , Valor médio: 35.71923076923077\nNúmero de quartos é: 7 , Valor médio: 35.71923076923077\nNúmero de quartos é: 5 , Valor médio: 20.1304245283019\nNúmero de quartos é: 7 , Valor médio: 35.71923076923077\nNúmero de quartos é: 7 , Valor médio: 35.71923076923077\nNúmero de quartos é: 5 , Valor médio: 20.1304245283019\nNúmero de quartos é: 5 , Valor médio: 20.1304245283019\nNúmero de quartos é: 6 , Valor médio: 20.1304245283019\nNúmero de quartos é: 6 , Valor médio: 20.1304245283019\nNúmero de quartos é: 7 , Valor médio: 35.71923076923077\nNúmero de quartos é: 6 , Valor médio: 20.1304245283019\nNúmero de quartos é: 6 , Valor médio: 20.1304245283019\nNúmero de quartos é: 7 , Valor médio: 35.71923076923077\nNúmero de quartos é: 6 , Valor médio: 20.1304245283019\nNúmero de quartos é: 6 , Valor médio: 20.1304245283019\nNúmero de quartos é: 6 , Valor médio: 20.1304245283019\nNúmero de quartos é: 7 , Valor médio: 35.71923076923077\nNúmero de quartos é: 6 , Valor médio: 20.1304245283019\nNúmero de quartos é: 7 , Valor médio: 35.71923076923077\nNúmero de quartos é: 7 , Valor médio: 35.71923076923077\nNúmero de quartos é: 6 , Valor médio: 20.1304245283019\nNúmero de quartos é: 6 , Valor médio: 20.1304245283019\nNúmero de quartos é: 6 , Valor médio: 20.1304245283019\nNúmero de quartos é: 6 , Valor médio: 20.1304245283019\nNúmero de quartos é: 6 , Valor médio: 20.1304245283019\nNúmero de quartos é: 6 , Valor médio: 20.1304245283019\nNúmero de quartos é: 7 , Valor médio: 35.71923076923077\nNúmero de quartos é: 6 , Valor médio: 20.1304245283019\nNúmero de quartos é: 6 , Valor médio: 20.1304245283019\nNúmero de quartos é: 6 , Valor médio: 20.1304245283019\nNúmero de quartos é: 6 , Valor médio: 20.1304245283019\nNúmero de quartos é: 6 , Valor médio: 20.1304245283019\nNúmero de quartos é: 5 , Valor médio: 20.1304245283019\nNúmero de quartos é: 6 , Valor médio: 20.1304245283019\nNúmero de quartos é: 7 , Valor médio: 35.71923076923077\nNúmero de quartos é: 6 , Valor médio: 20.1304245283019\nNúmero de quartos é: 6 , Valor médio: 20.1304245283019\nNúmero de quartos é: 6 , Valor médio: 20.1304245283019\nNúmero de quartos é: 6 , Valor médio: 20.1304245283019\nNúmero de quartos é: 7 , Valor médio: 35.71923076923077\nNúmero de quartos é: 6 , Valor médio: 20.1304245283019\nNúmero de quartos é: 7 , Valor médio: 35.71923076923077\nNúmero de quartos é: 6 , Valor médio: 20.1304245283019\nNúmero de quartos é: 6 , Valor médio: 20.1304245283019\nNúmero de quartos é: 5 , Valor médio: 20.1304245283019\nNúmero de quartos é: 4 , Valor médio: 14.921428571428574\nNúmero de quartos é: 6 , Valor médio: 20.1304245283019\nNúmero de quartos é: 6 , Valor médio: 20.1304245283019\nNúmero de quartos é: 6 , Valor médio: 20.1304245283019\nNúmero de quartos é: 6 , Valor médio: 20.1304245283019\nNúmero de quartos é: 5 , Valor médio: 20.1304245283019\nNúmero de quartos é: 5 , Valor médio: 20.1304245283019\nNúmero de quartos é: 5 , Valor médio: 20.1304245283019\nNúmero de quartos é: 6 , Valor médio: 20.1304245283019\nNúmero de quartos é: 6 , Valor médio: 20.1304245283019\nNúmero de quartos é: 6 , Valor médio: 20.1304245283019\nNúmero de quartos é: 6 , Valor médio: 20.1304245283019\nNúmero de quartos é: 6 , Valor médio: 20.1304245283019\nNúmero de quartos é: 5 , Valor médio: 20.1304245283019\nNúmero de quartos é: 6 , Valor médio: 20.1304245283019\nNúmero de quartos é: 6 , Valor médio: 20.1304245283019\nNúmero de quartos é: 6 , Valor médio: 20.1304245283019\nNúmero de quartos é: 6 , Valor médio: 20.1304245283019\nNúmero de quartos é: 5 , Valor médio: 20.1304245283019\nNúmero de quartos é: 6 , Valor médio: 20.1304245283019\nNúmero de quartos é: 6 , Valor médio: 20.1304245283019\nNúmero de quartos é: 5 , Valor médio: 20.1304245283019\nNúmero de quartos é: 6 , Valor médio: 20.1304245283019\nNúmero de quartos é: 6 , Valor médio: 20.1304245283019\nNúmero de quartos é: 6 , Valor médio: 20.1304245283019\nNúmero de quartos é: 6 , Valor médio: 20.1304245283019\nNúmero de quartos é: 5 , Valor médio: 20.1304245283019\nNúmero de quartos é: 5 , Valor médio: 20.1304245283019\nNúmero de quartos é: 6 , Valor médio: 20.1304245283019\nNúmero de quartos é: 5 , Valor médio: 20.1304245283019\nNúmero de quartos é: 5 , Valor médio: 20.1304245283019\nNúmero de quartos é: 7 , Valor médio: 35.71923076923077\nNúmero de quartos é: 6 , Valor médio: 20.1304245283019\nNúmero de quartos é: 6 , Valor médio: 20.1304245283019\nNúmero de quartos é: 6 , Valor médio: 20.1304245283019\nNúmero de quartos é: 6 , Valor médio: 20.1304245283019\nNúmero de quartos é: 5 , Valor médio: 20.1304245283019\nNúmero de quartos é: 6 , Valor médio: 20.1304245283019\nNúmero de quartos é: 6 , Valor médio: 20.1304245283019\nNúmero de quartos é: 6 , Valor médio: 20.1304245283019\nNúmero de quartos é: 6 , Valor médio: 20.1304245283019\nNúmero de quartos é: 6 , Valor médio: 20.1304245283019\nNúmero de quartos é: 5 , Valor médio: 20.1304245283019\nNúmero de quartos é: 6 , Valor médio: 20.1304245283019\nNúmero de quartos é: 5 , Valor médio: 20.1304245283019\nNúmero de quartos é: 5 , Valor médio: 20.1304245283019\nNúmero de quartos é: 6 , Valor médio: 20.1304245283019\nNúmero de quartos é: 6 , Valor médio: 20.1304245283019\nNúmero de quartos é: 6 , Valor médio: 20.1304245283019\nNúmero de quartos é: 6 , Valor médio: 20.1304245283019\nNúmero de quartos é: 6 , Valor médio: 20.1304245283019\nNúmero de quartos é: 6 , Valor médio: 20.1304245283019\nNúmero de quartos é: 5 , Valor médio: 20.1304245283019\nNúmero de quartos é: 5 , Valor médio: 20.1304245283019\nNúmero de quartos é: 8 , Valor médio: 35.71923076923077\nNúmero de quartos é: 3 , Valor médio: 14.921428571428574\nNúmero de quartos é: 4 , Valor médio: 14.921428571428574\nNúmero de quartos é: 3 , Valor médio: 14.921428571428574\nNúmero de quartos é: 4 , Valor médio: 14.921428571428574\nNúmero de quartos é: 4 , Valor médio: 14.921428571428574\nNúmero de quartos é: 7 , Valor médio: 35.71923076923077\nNúmero de quartos é: 6 , Valor médio: 20.1304245283019\nNúmero de quartos é: 6 , Valor médio: 20.1304245283019\nNúmero de quartos é: 6 , Valor médio: 20.1304245283019\nNúmero de quartos é: 6 , Valor médio: 20.1304245283019\nNúmero de quartos é: 6 , Valor médio: 20.1304245283019\nNúmero de quartos é: 6 , Valor médio: 20.1304245283019\nNúmero de quartos é: 5 , Valor médio: 20.1304245283019\nNúmero de quartos é: 5 , Valor médio: 20.1304245283019\nNúmero de quartos é: 4 , Valor médio: 14.921428571428574\nNúmero de quartos é: 5 , Valor médio: 20.1304245283019\nNúmero de quartos é: 4 , Valor médio: 14.921428571428574\nNúmero de quartos é: 5 , Valor médio: 20.1304245283019\nNúmero de quartos é: 4 , Valor médio: 14.921428571428574\nNúmero de quartos é: 5 , Valor médio: 20.1304245283019\nNúmero de quartos é: 5 , Valor médio: 20.1304245283019\nNúmero de quartos é: 6 , Valor médio: 20.1304245283019\nNúmero de quartos é: 5 , Valor médio: 20.1304245283019\nNúmero de quartos é: 6 , Valor médio: 20.1304245283019\nNúmero de quartos é: 5 , Valor médio: 20.1304245283019\nNúmero de quartos é: 6 , Valor médio: 20.1304245283019\nNúmero de quartos é: 6 , Valor médio: 20.1304245283019\nNúmero de quartos é: 5 , Valor médio: 20.1304245283019\nNúmero de quartos é: 5 , Valor médio: 20.1304245283019\nNúmero de quartos é: 5 , Valor médio: 20.1304245283019\nNúmero de quartos é: 5 , Valor médio: 20.1304245283019\nNúmero de quartos é: 6 , Valor médio: 20.1304245283019\nNúmero de quartos é: 6 , Valor médio: 20.1304245283019\nNúmero de quartos é: 5 , Valor médio: 20.1304245283019\nNúmero de quartos é: 5 , Valor médio: 20.1304245283019\nNúmero de quartos é: 5 , Valor médio: 20.1304245283019\nNúmero de quartos é: 4 , Valor médio: 14.921428571428574\nNúmero de quartos é: 5 , Valor médio: 20.1304245283019\nNúmero de quartos é: 5 , Valor médio: 20.1304245283019\nNúmero de quartos é: 6 , Valor médio: 20.1304245283019\nNúmero de quartos é: 5 , Valor médio: 20.1304245283019\nNúmero de quartos é: 6 , Valor médio: 20.1304245283019\nNúmero de quartos é: 4 , Valor médio: 14.921428571428574\nNúmero de quartos é: 5 , Valor médio: 20.1304245283019\nNúmero de quartos é: 4 , Valor médio: 14.921428571428574\nNúmero de quartos é: 6 , Valor médio: 20.1304245283019\nNúmero de quartos é: 6 , Valor médio: 20.1304245283019\nNúmero de quartos é: 5 , Valor médio: 20.1304245283019\nNúmero de quartos é: 5 , Valor médio: 20.1304245283019\nNúmero de quartos é: 6 , Valor médio: 20.1304245283019\nNúmero de quartos é: 6 , Valor médio: 20.1304245283019\nNúmero de quartos é: 6 , Valor médio: 20.1304245283019\nNúmero de quartos é: 5 , Valor médio: 20.1304245283019\nNúmero de quartos é: 6 , Valor médio: 20.1304245283019\nNúmero de quartos é: 5 , Valor médio: 20.1304245283019\nNúmero de quartos é: 5 , Valor médio: 20.1304245283019\nNúmero de quartos é: 5 , Valor médio: 20.1304245283019\nNúmero de quartos é: 6 , Valor médio: 20.1304245283019\nNúmero de quartos é: 6 , Valor médio: 20.1304245283019\nNúmero de quartos é: 6 , Valor médio: 20.1304245283019\nNúmero de quartos é: 6 , Valor médio: 20.1304245283019\nNúmero de quartos é: 6 , Valor médio: 20.1304245283019\nNúmero de quartos é: 6 , Valor médio: 20.1304245283019\nNúmero de quartos é: 6 , Valor médio: 20.1304245283019\nNúmero de quartos é: 6 , Valor médio: 20.1304245283019\nNúmero de quartos é: 6 , Valor médio: 20.1304245283019\nNúmero de quartos é: 6 , Valor médio: 20.1304245283019\nNúmero de quartos é: 6 , Valor médio: 20.1304245283019\nNúmero de quartos é: 5 , Valor médio: 20.1304245283019\nNúmero de quartos é: 5 , Valor médio: 20.1304245283019\nNúmero de quartos é: 5 , Valor médio: 20.1304245283019\nNúmero de quartos é: 6 , Valor médio: 20.1304245283019\nNúmero de quartos é: 6 , Valor médio: 20.1304245283019\nNúmero de quartos é: 6 , Valor médio: 20.1304245283019\nNúmero de quartos é: 5 , Valor médio: 20.1304245283019\nNúmero de quartos é: 6 , Valor médio: 20.1304245283019\nNúmero de quartos é: 6 , Valor médio: 20.1304245283019\nNúmero de quartos é: 6 , Valor médio: 20.1304245283019\nNúmero de quartos é: 6 , Valor médio: 20.1304245283019\nNúmero de quartos é: 6 , Valor médio: 20.1304245283019\nNúmero de quartos é: 6 , Valor médio: 20.1304245283019\nNúmero de quartos é: 6 , Valor médio: 20.1304245283019\nNúmero de quartos é: 6 , Valor médio: 20.1304245283019\nNúmero de quartos é: 7 , Valor médio: 35.71923076923077\nNúmero de quartos é: 6 , Valor médio: 20.1304245283019\nNúmero de quartos é: 6 , Valor médio: 20.1304245283019\nNúmero de quartos é: 5 , Valor médio: 20.1304245283019\nNúmero de quartos é: 5 , Valor médio: 20.1304245283019\nNúmero de quartos é: 6 , Valor médio: 20.1304245283019\nNúmero de quartos é: 6 , Valor médio: 20.1304245283019\nNúmero de quartos é: 6 , Valor médio: 20.1304245283019\nNúmero de quartos é: 6 , Valor médio: 20.1304245283019\nNúmero de quartos é: 6 , Valor médio: 20.1304245283019\nNúmero de quartos é: 6 , Valor médio: 20.1304245283019\nNúmero de quartos é: 6 , Valor médio: 20.1304245283019\nNúmero de quartos é: 5 , Valor médio: 20.1304245283019\nNúmero de quartos é: 5 , Valor médio: 20.1304245283019\nNúmero de quartos é: 6 , Valor médio: 20.1304245283019\nNúmero de quartos é: 5 , Valor médio: 20.1304245283019\nNúmero de quartos é: 5 , Valor médio: 20.1304245283019\nNúmero de quartos é: 6 , Valor médio: 20.1304245283019\nNúmero de quartos é: 6 , Valor médio: 20.1304245283019\nNúmero de quartos é: 6 , Valor médio: 20.1304245283019\nNúmero de quartos é: 6 , Valor médio: 20.1304245283019\nNúmero de quartos é: 5 , Valor médio: 20.1304245283019\nNúmero de quartos é: 6 , Valor médio: 20.1304245283019\nNúmero de quartos é: 6 , Valor médio: 20.1304245283019\nNúmero de quartos é: 5 , Valor médio: 20.1304245283019\nNúmero de quartos é: 6 , Valor médio: 20.1304245283019\nNúmero de quartos é: 6 , Valor médio: 20.1304245283019\nNúmero de quartos é: 6 , Valor médio: 20.1304245283019\nNúmero de quartos é: 6 , Valor médio: 20.1304245283019\nNúmero de quartos é: 7 , Valor médio: 35.71923076923077\nNúmero de quartos é: 5 , Valor médio: 20.1304245283019\nNúmero de quartos é: 5 , Valor médio: 20.1304245283019\nNúmero de quartos é: 6 , Valor médio: 20.1304245283019\nNúmero de quartos é: 6 , Valor médio: 20.1304245283019\nNúmero de quartos é: 5 , Valor médio: 20.1304245283019\nNúmero de quartos é: 5 , Valor médio: 20.1304245283019\nNúmero de quartos é: 5 , Valor médio: 20.1304245283019\nNúmero de quartos é: 5 , Valor médio: 20.1304245283019\nNúmero de quartos é: 5 , Valor médio: 20.1304245283019\nNúmero de quartos é: 5 , Valor médio: 20.1304245283019\nNúmero de quartos é: 5 , Valor médio: 20.1304245283019\nNúmero de quartos é: 5 , Valor médio: 20.1304245283019\nNúmero de quartos é: 5 , Valor médio: 20.1304245283019\nNúmero de quartos é: 5 , Valor médio: 20.1304245283019\nNúmero de quartos é: 5 , Valor médio: 20.1304245283019\nNúmero de quartos é: 6 , Valor médio: 20.1304245283019\nNúmero de quartos é: 5 , Valor médio: 20.1304245283019\nNúmero de quartos é: 6 , Valor médio: 20.1304245283019\nNúmero de quartos é: 6 , Valor médio: 20.1304245283019\nNúmero de quartos é: 6 , Valor médio: 20.1304245283019\nNúmero de quartos é: 6 , Valor médio: 20.1304245283019\nNúmero de quartos é: 6 , Valor médio: 20.1304245283019\nNúmero de quartos é: 6 , Valor médio: 20.1304245283019\n"
        }
      ]
    },
    {
      "cell_type": "code",
      "metadata": {
        "id": "7Is3KDjcXzBG",
        "colab_type": "code",
        "colab": {}
      },
      "source": [
        "# imprime as 5 primeiras linhas do dataframe\n",
        "data.head()"
      ],
      "execution_count": 27,
      "outputs": [
        {
          "output_type": "execute_result",
          "data": {
            "text/plain": "      CRIM    ZN  INDUS  CHAS    NOX  RM   AGE     DIS  RAD    TAX  PTRATIO  \\\n0  0.00632  18.0   2.31   0.0  0.538   6  65.2  4.0900  1.0  296.0     15.3   \n1  0.02731   0.0   7.07   0.0  0.469   6  78.9  4.9671  2.0  242.0     17.8   \n2  0.02729   0.0   7.07   0.0  0.469   7  61.1  4.9671  2.0  242.0     17.8   \n3  0.03237   0.0   2.18   0.0  0.458   6  45.8  6.0622  3.0  222.0     18.7   \n4  0.06905   0.0   2.18   0.0  0.458   7  54.2  6.0622  3.0  222.0     18.7   \n\n        B  LSTAT  MEDV categorias  \n0  396.90   4.98  24.0      Medio  \n1  396.90   9.14  21.6      Medio  \n2  392.83   4.03  34.7     Grande  \n3  394.63   2.94  33.4      Medio  \n4  396.90   5.33  36.2     Grande  ",
            "text/html": "<div>\n<style scoped>\n    .dataframe tbody tr th:only-of-type {\n        vertical-align: middle;\n    }\n\n    .dataframe tbody tr th {\n        vertical-align: top;\n    }\n\n    .dataframe thead th {\n        text-align: right;\n    }\n</style>\n<table border=\"1\" class=\"dataframe\">\n  <thead>\n    <tr style=\"text-align: right;\">\n      <th></th>\n      <th>CRIM</th>\n      <th>ZN</th>\n      <th>INDUS</th>\n      <th>CHAS</th>\n      <th>NOX</th>\n      <th>RM</th>\n      <th>AGE</th>\n      <th>DIS</th>\n      <th>RAD</th>\n      <th>TAX</th>\n      <th>PTRATIO</th>\n      <th>B</th>\n      <th>LSTAT</th>\n      <th>MEDV</th>\n      <th>categorias</th>\n    </tr>\n  </thead>\n  <tbody>\n    <tr>\n      <th>0</th>\n      <td>0.00632</td>\n      <td>18.0</td>\n      <td>2.31</td>\n      <td>0.0</td>\n      <td>0.538</td>\n      <td>6</td>\n      <td>65.2</td>\n      <td>4.0900</td>\n      <td>1.0</td>\n      <td>296.0</td>\n      <td>15.3</td>\n      <td>396.90</td>\n      <td>4.98</td>\n      <td>24.0</td>\n      <td>Medio</td>\n    </tr>\n    <tr>\n      <th>1</th>\n      <td>0.02731</td>\n      <td>0.0</td>\n      <td>7.07</td>\n      <td>0.0</td>\n      <td>0.469</td>\n      <td>6</td>\n      <td>78.9</td>\n      <td>4.9671</td>\n      <td>2.0</td>\n      <td>242.0</td>\n      <td>17.8</td>\n      <td>396.90</td>\n      <td>9.14</td>\n      <td>21.6</td>\n      <td>Medio</td>\n    </tr>\n    <tr>\n      <th>2</th>\n      <td>0.02729</td>\n      <td>0.0</td>\n      <td>7.07</td>\n      <td>0.0</td>\n      <td>0.469</td>\n      <td>7</td>\n      <td>61.1</td>\n      <td>4.9671</td>\n      <td>2.0</td>\n      <td>242.0</td>\n      <td>17.8</td>\n      <td>392.83</td>\n      <td>4.03</td>\n      <td>34.7</td>\n      <td>Grande</td>\n    </tr>\n    <tr>\n      <th>3</th>\n      <td>0.03237</td>\n      <td>0.0</td>\n      <td>2.18</td>\n      <td>0.0</td>\n      <td>0.458</td>\n      <td>6</td>\n      <td>45.8</td>\n      <td>6.0622</td>\n      <td>3.0</td>\n      <td>222.0</td>\n      <td>18.7</td>\n      <td>394.63</td>\n      <td>2.94</td>\n      <td>33.4</td>\n      <td>Medio</td>\n    </tr>\n    <tr>\n      <th>4</th>\n      <td>0.06905</td>\n      <td>0.0</td>\n      <td>2.18</td>\n      <td>0.0</td>\n      <td>0.458</td>\n      <td>7</td>\n      <td>54.2</td>\n      <td>6.0622</td>\n      <td>3.0</td>\n      <td>222.0</td>\n      <td>18.7</td>\n      <td>396.90</td>\n      <td>5.33</td>\n      <td>36.2</td>\n      <td>Grande</td>\n    </tr>\n  </tbody>\n</table>\n</div>"
          },
          "metadata": {},
          "execution_count": 27
        }
      ]
    },
    {
      "cell_type": "markdown",
      "metadata": {
        "id": "SaYmsVtotcF_",
        "colab_type": "text"
      },
      "source": [
        "### Trabalhando com a baseline"
      ]
    },
    {
      "cell_type": "markdown",
      "metadata": {
        "id": "SXXetS7AHiXz",
        "colab_type": "text"
      },
      "source": [
        "Preparando os dados"
      ]
    },
    {
      "cell_type": "code",
      "metadata": {
        "id": "Ai2si0SMFKVX",
        "colab_type": "code",
        "colab": {}
      },
      "source": [
        "# remove as colunas colineares, variavel alvo e a coluna categorias\n",
        "X = data.drop(['RAD','TAX','MEDV','DIS','AGE','ZN','categorias'], axis=1)"
      ],
      "execution_count": 28,
      "outputs": []
    },
    {
      "cell_type": "code",
      "metadata": {
        "id": "vxOb-hwYFFJx",
        "colab_type": "code",
        "colab": {}
      },
      "source": [
        "# variável 'y' é nossa variável alvo\n",
        "y = data['MEDV']"
      ],
      "execution_count": 29,
      "outputs": []
    },
    {
      "cell_type": "code",
      "metadata": {
        "id": "EhagncsDLyk-",
        "colab_type": "code",
        "colab": {}
      },
      "source": [
        "# Dados na variável X\n",
        "X.head()"
      ],
      "execution_count": 30,
      "outputs": [
        {
          "output_type": "execute_result",
          "data": {
            "text/plain": "      CRIM  INDUS  CHAS    NOX  RM  PTRATIO       B  LSTAT\n0  0.00632   2.31   0.0  0.538   6     15.3  396.90   4.98\n1  0.02731   7.07   0.0  0.469   6     17.8  396.90   9.14\n2  0.02729   7.07   0.0  0.469   7     17.8  392.83   4.03\n3  0.03237   2.18   0.0  0.458   6     18.7  394.63   2.94\n4  0.06905   2.18   0.0  0.458   7     18.7  396.90   5.33",
            "text/html": "<div>\n<style scoped>\n    .dataframe tbody tr th:only-of-type {\n        vertical-align: middle;\n    }\n\n    .dataframe tbody tr th {\n        vertical-align: top;\n    }\n\n    .dataframe thead th {\n        text-align: right;\n    }\n</style>\n<table border=\"1\" class=\"dataframe\">\n  <thead>\n    <tr style=\"text-align: right;\">\n      <th></th>\n      <th>CRIM</th>\n      <th>INDUS</th>\n      <th>CHAS</th>\n      <th>NOX</th>\n      <th>RM</th>\n      <th>PTRATIO</th>\n      <th>B</th>\n      <th>LSTAT</th>\n    </tr>\n  </thead>\n  <tbody>\n    <tr>\n      <th>0</th>\n      <td>0.00632</td>\n      <td>2.31</td>\n      <td>0.0</td>\n      <td>0.538</td>\n      <td>6</td>\n      <td>15.3</td>\n      <td>396.90</td>\n      <td>4.98</td>\n    </tr>\n    <tr>\n      <th>1</th>\n      <td>0.02731</td>\n      <td>7.07</td>\n      <td>0.0</td>\n      <td>0.469</td>\n      <td>6</td>\n      <td>17.8</td>\n      <td>396.90</td>\n      <td>9.14</td>\n    </tr>\n    <tr>\n      <th>2</th>\n      <td>0.02729</td>\n      <td>7.07</td>\n      <td>0.0</td>\n      <td>0.469</td>\n      <td>7</td>\n      <td>17.8</td>\n      <td>392.83</td>\n      <td>4.03</td>\n    </tr>\n    <tr>\n      <th>3</th>\n      <td>0.03237</td>\n      <td>2.18</td>\n      <td>0.0</td>\n      <td>0.458</td>\n      <td>6</td>\n      <td>18.7</td>\n      <td>394.63</td>\n      <td>2.94</td>\n    </tr>\n    <tr>\n      <th>4</th>\n      <td>0.06905</td>\n      <td>2.18</td>\n      <td>0.0</td>\n      <td>0.458</td>\n      <td>7</td>\n      <td>18.7</td>\n      <td>396.90</td>\n      <td>5.33</td>\n    </tr>\n  </tbody>\n</table>\n</div>"
          },
          "metadata": {},
          "execution_count": 30
        }
      ]
    },
    {
      "cell_type": "code",
      "metadata": {
        "id": "W3He9wgaL5W7",
        "colab_type": "code",
        "colab": {}
      },
      "source": [
        "# Variável alvo\n",
        "y.head()"
      ],
      "execution_count": 31,
      "outputs": [
        {
          "output_type": "execute_result",
          "data": {
            "text/plain": "0    24.0\n1    21.6\n2    34.7\n3    33.4\n4    36.2\nName: MEDV, dtype: float64"
          },
          "metadata": {},
          "execution_count": 31
        }
      ]
    },
    {
      "cell_type": "markdown",
      "metadata": {
        "id": "B0I1geDbH2cV",
        "colab_type": "text"
      },
      "source": [
        "Separando os conjuntos de treino e teste"
      ]
    },
    {
      "cell_type": "code",
      "metadata": {
        "id": "13W2Fe2PfoK2",
        "colab_type": "code",
        "colab": {}
      },
      "source": [
        "# carrega o método train_test_split\n",
        "from sklearn.model_selection import train_test_split"
      ],
      "execution_count": 32,
      "outputs": []
    },
    {
      "cell_type": "code",
      "metadata": {
        "id": "FaFtnr62AJ74",
        "colab_type": "code",
        "colab": {}
      },
      "source": [
        "# divide os dados entre o conjunto de treino e teste, 80% e 20% respectivamente.\n",
        "# define qualquer valor para o parâmetro random_state.\n",
        "X_train, X_test, y_train, y_test = train_test_split(X, y, test_size = 0.2, random_state=5)"
      ],
      "execution_count": 33,
      "outputs": []
    },
    {
      "cell_type": "code",
      "metadata": {
        "id": "BiUsFzXQAJ38",
        "colab_type": "code",
        "colab": {}
      },
      "source": [
        "# imprime a quantidade de linhas dos conjuntos\n",
        "print ('X_train: numero de linhas e colunas: {}'.format(X_train.shape))\n",
        "print ('X_test: numero de linhas e colunas: {}'.format(X_test.shape))\n",
        "print ('y_train: numero de linhas e colunas: {}'.format(y_train.shape))\n",
        "print ('y_test: numero de linhas e colunas: {}'.format(y_test.shape))"
      ],
      "execution_count": 34,
      "outputs": [
        {
          "output_type": "stream",
          "name": "stdout",
          "text": "X_train: numero de linhas e colunas: (392, 8)\nX_test: numero de linhas e colunas: (98, 8)\ny_train: numero de linhas e colunas: (392,)\ny_test: numero de linhas e colunas: (98,)\n"
        }
      ]
    },
    {
      "cell_type": "markdown",
      "metadata": {
        "id": "Wu94wESmFQqy",
        "colab_type": "text"
      },
      "source": [
        "Modelo de baseline"
      ]
    },
    {
      "cell_type": "code",
      "metadata": {
        "id": "FI97hd4HFPtR",
        "colab_type": "code",
        "colab": {}
      },
      "source": [
        "# imprimindo as 5 primeiras linhas dos dados de teste\n",
        "X_test.head()"
      ],
      "execution_count": 35,
      "outputs": [
        {
          "output_type": "execute_result",
          "data": {
            "text/plain": "        CRIM  INDUS  CHAS    NOX  RM  PTRATIO       B  LSTAT\n245  0.19133   5.86   0.0  0.431   5     19.1  389.13  18.46\n456  4.66883  18.10   0.0  0.713   5     20.2   10.48  19.01\n75   0.09512  12.83   0.0  0.437   6     18.7  383.23   8.94\n238  0.08244   4.93   0.0  0.428   6     16.6  379.41   6.36\n362  3.67822  18.10   0.0  0.770   5     20.2  380.79  10.19",
            "text/html": "<div>\n<style scoped>\n    .dataframe tbody tr th:only-of-type {\n        vertical-align: middle;\n    }\n\n    .dataframe tbody tr th {\n        vertical-align: top;\n    }\n\n    .dataframe thead th {\n        text-align: right;\n    }\n</style>\n<table border=\"1\" class=\"dataframe\">\n  <thead>\n    <tr style=\"text-align: right;\">\n      <th></th>\n      <th>CRIM</th>\n      <th>INDUS</th>\n      <th>CHAS</th>\n      <th>NOX</th>\n      <th>RM</th>\n      <th>PTRATIO</th>\n      <th>B</th>\n      <th>LSTAT</th>\n    </tr>\n  </thead>\n  <tbody>\n    <tr>\n      <th>245</th>\n      <td>0.19133</td>\n      <td>5.86</td>\n      <td>0.0</td>\n      <td>0.431</td>\n      <td>5</td>\n      <td>19.1</td>\n      <td>389.13</td>\n      <td>18.46</td>\n    </tr>\n    <tr>\n      <th>456</th>\n      <td>4.66883</td>\n      <td>18.10</td>\n      <td>0.0</td>\n      <td>0.713</td>\n      <td>5</td>\n      <td>20.2</td>\n      <td>10.48</td>\n      <td>19.01</td>\n    </tr>\n    <tr>\n      <th>75</th>\n      <td>0.09512</td>\n      <td>12.83</td>\n      <td>0.0</td>\n      <td>0.437</td>\n      <td>6</td>\n      <td>18.7</td>\n      <td>383.23</td>\n      <td>8.94</td>\n    </tr>\n    <tr>\n      <th>238</th>\n      <td>0.08244</td>\n      <td>4.93</td>\n      <td>0.0</td>\n      <td>0.428</td>\n      <td>6</td>\n      <td>16.6</td>\n      <td>379.41</td>\n      <td>6.36</td>\n    </tr>\n    <tr>\n      <th>362</th>\n      <td>3.67822</td>\n      <td>18.10</td>\n      <td>0.0</td>\n      <td>0.770</td>\n      <td>5</td>\n      <td>20.2</td>\n      <td>380.79</td>\n      <td>10.19</td>\n    </tr>\n  </tbody>\n</table>\n</div>"
          },
          "metadata": {},
          "execution_count": 35
        }
      ]
    },
    {
      "cell_type": "code",
      "metadata": {
        "id": "vRGvzY2jFbvD",
        "colab_type": "code",
        "colab": {}
      },
      "source": [
        "# definindo uma lista de predicoes\n",
        "predicoes = []\n"
      ],
      "execution_count": 49,
      "outputs": []
    },
    {
      "cell_type": "code",
      "metadata": {
        "id": "xZ09WeQcGdL0",
        "colab_type": "code",
        "colab": {}
      },
      "source": [
        "# para cada elemento do teste alimenta a lista predicoes\n",
        "for i in X_test.RM.iteritems():\n",
        "  n_quartos = i[1]\n",
        "  predicoes.append(retorna_baseline(n_quartos))"
      ],
      "execution_count": 50,
      "outputs": []
    },
    {
      "cell_type": "code",
      "metadata": {
        "id": "Zn-1qKZYF16H",
        "colab_type": "code",
        "colab": {}
      },
      "source": [
        "# imprime as 10 primeiras linhas da lista de predicoes\n",
        "predicoes[:10]"
      ],
      "execution_count": 51,
      "outputs": [
        {
          "output_type": "execute_result",
          "data": {
            "text/plain": "[20.1304245283019,\n 20.1304245283019,\n 20.1304245283019,\n 20.1304245283019,\n 20.1304245283019,\n 20.1304245283019,\n 20.1304245283019,\n 20.1304245283019,\n 35.71923076923077,\n 35.71923076923077]"
          },
          "metadata": {},
          "execution_count": 51
        }
      ]
    },
    {
      "cell_type": "markdown",
      "metadata": {
        "id": "CM3QVVQ-Ug5L",
        "colab_type": "text"
      },
      "source": [
        "Atribuindo resultados a um dataframe\n",
        "\n",
        "-   `Manteremos um log ao longo do projeto`\n",
        "-   `Permite a evolução dado o baseline`\n",
        "\n"
      ]
    },
    {
      "cell_type": "code",
      "metadata": {
        "id": "dMr0oUucnuy-",
        "colab_type": "code",
        "colab": {}
      },
      "source": [
        "# cria um dataframe vazio\n",
        "df_results = pd.DataFrame()"
      ],
      "execution_count": 52,
      "outputs": []
    },
    {
      "cell_type": "code",
      "metadata": {
        "id": "9T5FnjHnUDTA",
        "colab_type": "code",
        "colab": {}
      },
      "source": [
        "# adiciona a coluna valor_real\n",
        "df_results['valor_real'] = y_test.values\n",
        "print(len(y_test.values))\n",
        "print(len(predicoes))"
      ],
      "execution_count": 53,
      "outputs": [
        {
          "output_type": "stream",
          "name": "stdout",
          "text": "98\n98\n"
        }
      ]
    },
    {
      "cell_type": "code",
      "metadata": {
        "id": "seteWjL0UDL3",
        "colab_type": "code",
        "colab": {}
      },
      "source": [
        "# cria a coluna valor_predito_baseline com as predicoes\n",
        "df_results['valor_predito_baseline'] = predicoes"
      ],
      "execution_count": 54,
      "outputs": []
    },
    {
      "cell_type": "code",
      "metadata": {
        "id": "6e34IoHyUC77",
        "colab_type": "code",
        "colab": {}
      },
      "source": [
        "# imprimindo as 10 primeiras linhas do df_results\n",
        "df_results.head(10)"
      ],
      "execution_count": 55,
      "outputs": [
        {
          "output_type": "execute_result",
          "data": {
            "text/plain": "   valor_real  valor_predito_baseline\n0        18.5               20.130425\n1        12.7               20.130425\n2        21.4               20.130425\n3        23.7               20.130425\n4        20.8               20.130425\n5        25.0               20.130425\n6         9.7               20.130425\n7        14.9               20.130425\n8        34.9               35.719231\n9        31.6               35.719231",
            "text/html": "<div>\n<style scoped>\n    .dataframe tbody tr th:only-of-type {\n        vertical-align: middle;\n    }\n\n    .dataframe tbody tr th {\n        vertical-align: top;\n    }\n\n    .dataframe thead th {\n        text-align: right;\n    }\n</style>\n<table border=\"1\" class=\"dataframe\">\n  <thead>\n    <tr style=\"text-align: right;\">\n      <th></th>\n      <th>valor_real</th>\n      <th>valor_predito_baseline</th>\n    </tr>\n  </thead>\n  <tbody>\n    <tr>\n      <th>0</th>\n      <td>18.5</td>\n      <td>20.130425</td>\n    </tr>\n    <tr>\n      <th>1</th>\n      <td>12.7</td>\n      <td>20.130425</td>\n    </tr>\n    <tr>\n      <th>2</th>\n      <td>21.4</td>\n      <td>20.130425</td>\n    </tr>\n    <tr>\n      <th>3</th>\n      <td>23.7</td>\n      <td>20.130425</td>\n    </tr>\n    <tr>\n      <th>4</th>\n      <td>20.8</td>\n      <td>20.130425</td>\n    </tr>\n    <tr>\n      <th>5</th>\n      <td>25.0</td>\n      <td>20.130425</td>\n    </tr>\n    <tr>\n      <th>6</th>\n      <td>9.7</td>\n      <td>20.130425</td>\n    </tr>\n    <tr>\n      <th>7</th>\n      <td>14.9</td>\n      <td>20.130425</td>\n    </tr>\n    <tr>\n      <th>8</th>\n      <td>34.9</td>\n      <td>35.719231</td>\n    </tr>\n    <tr>\n      <th>9</th>\n      <td>31.6</td>\n      <td>35.719231</td>\n    </tr>\n  </tbody>\n</table>\n</div>"
          },
          "metadata": {},
          "execution_count": 55
        }
      ]
    },
    {
      "cell_type": "markdown",
      "metadata": {
        "id": "HNRa3fuzVX_6",
        "colab_type": "text"
      },
      "source": [
        "Plota o valor real e o baseline"
      ]
    },
    {
      "cell_type": "code",
      "metadata": {
        "id": "wcrc2krAVJCN",
        "colab_type": "code",
        "colab": {}
      },
      "source": [
        "import plotly.graph_objects as go\n",
        "\n",
        "# Create traces\n",
        "fig = go.Figure()\n",
        "\n",
        "# Linha com os dados de teste\n",
        "fig.add_trace(go.Scatter(x=df_results.index,\n",
        "                         y=df_results.valor_real,\n",
        "                         mode='lines+markers',\n",
        "                         name='Valor Real'))\n",
        "\n",
        "# Linha com os dados preditos\n",
        "fig.add_trace(go.Scatter(x=df_results.index,\n",
        "                         y=df_results.valor_predito_baseline,\n",
        "                         mode='lines+markers',\n",
        "                         name='Valor Predito Baseline'))\n",
        "# Plota a figura\n",
        "fig.show()"
      ],
      "execution_count": 56,
      "outputs": [
        {
          "output_type": "display_data",
          "data": {
            "application/vnd.plotly.v1+json": {
              "config": {
                "plotlyServerURL": "https://plot.ly"
              },
              "data": [
                {
                  "mode": "lines+markers",
                  "name": "Valor Real",
                  "type": "scatter",
                  "x": [
                    0,
                    1,
                    2,
                    3,
                    4,
                    5,
                    6,
                    7,
                    8,
                    9,
                    10,
                    11,
                    12,
                    13,
                    14,
                    15,
                    16,
                    17,
                    18,
                    19,
                    20,
                    21,
                    22,
                    23,
                    24,
                    25,
                    26,
                    27,
                    28,
                    29,
                    30,
                    31,
                    32,
                    33,
                    34,
                    35,
                    36,
                    37,
                    38,
                    39,
                    40,
                    41,
                    42,
                    43,
                    44,
                    45,
                    46,
                    47,
                    48,
                    49,
                    50,
                    51,
                    52,
                    53,
                    54,
                    55,
                    56,
                    57,
                    58,
                    59,
                    60,
                    61,
                    62,
                    63,
                    64,
                    65,
                    66,
                    67,
                    68,
                    69,
                    70,
                    71,
                    72,
                    73,
                    74,
                    75,
                    76,
                    77,
                    78,
                    79,
                    80,
                    81,
                    82,
                    83,
                    84,
                    85,
                    86,
                    87,
                    88,
                    89,
                    90,
                    91,
                    92,
                    93,
                    94,
                    95,
                    96,
                    97
                  ],
                  "y": [
                    18.5,
                    12.7,
                    21.4,
                    23.7,
                    20.8,
                    25,
                    9.7,
                    14.9,
                    34.9,
                    31.6,
                    24.7,
                    22.9,
                    33.2,
                    9.6,
                    30.5,
                    19.2,
                    30.3,
                    15.4,
                    24.3,
                    24.4,
                    21.5,
                    27.9,
                    17.3,
                    21.4,
                    21.7,
                    24.4,
                    8.5,
                    15,
                    11.5,
                    13.6,
                    24.4,
                    7.4,
                    44,
                    21.7,
                    19.3,
                    16.1,
                    29,
                    26.4,
                    20.3,
                    10.8,
                    5,
                    19.6,
                    23.1,
                    23.9,
                    17.5,
                    13.5,
                    48.8,
                    26.2,
                    19.7,
                    14.2,
                    11,
                    19,
                    21.7,
                    18.4,
                    33.4,
                    14,
                    24.7,
                    43.8,
                    48.5,
                    25,
                    22.6,
                    21.2,
                    22.4,
                    23.8,
                    19.9,
                    16.5,
                    16.7,
                    17.2,
                    13.1,
                    19.1,
                    18.5,
                    22.2,
                    22.6,
                    19.4,
                    15.2,
                    19.8,
                    19.4,
                    21.6,
                    18.2,
                    19.6,
                    19.6,
                    23,
                    7,
                    17.6,
                    25,
                    41.3,
                    24.1,
                    22.6,
                    18.7,
                    22.6,
                    13.1,
                    22.2,
                    16.1,
                    39.8,
                    25,
                    20.5,
                    10.4,
                    20.4
                  ]
                },
                {
                  "mode": "lines+markers",
                  "name": "Valor Predito Baseline",
                  "type": "scatter",
                  "x": [
                    0,
                    1,
                    2,
                    3,
                    4,
                    5,
                    6,
                    7,
                    8,
                    9,
                    10,
                    11,
                    12,
                    13,
                    14,
                    15,
                    16,
                    17,
                    18,
                    19,
                    20,
                    21,
                    22,
                    23,
                    24,
                    25,
                    26,
                    27,
                    28,
                    29,
                    30,
                    31,
                    32,
                    33,
                    34,
                    35,
                    36,
                    37,
                    38,
                    39,
                    40,
                    41,
                    42,
                    43,
                    44,
                    45,
                    46,
                    47,
                    48,
                    49,
                    50,
                    51,
                    52,
                    53,
                    54,
                    55,
                    56,
                    57,
                    58,
                    59,
                    60,
                    61,
                    62,
                    63,
                    64,
                    65,
                    66,
                    67,
                    68,
                    69,
                    70,
                    71,
                    72,
                    73,
                    74,
                    75,
                    76,
                    77,
                    78,
                    79,
                    80,
                    81,
                    82,
                    83,
                    84,
                    85,
                    86,
                    87,
                    88,
                    89,
                    90,
                    91,
                    92,
                    93,
                    94,
                    95,
                    96,
                    97
                  ],
                  "y": [
                    20.1304245283019,
                    20.1304245283019,
                    20.1304245283019,
                    20.1304245283019,
                    20.1304245283019,
                    20.1304245283019,
                    20.1304245283019,
                    20.1304245283019,
                    35.71923076923077,
                    35.71923076923077,
                    20.1304245283019,
                    20.1304245283019,
                    35.71923076923077,
                    20.1304245283019,
                    20.1304245283019,
                    20.1304245283019,
                    35.71923076923077,
                    20.1304245283019,
                    20.1304245283019,
                    20.1304245283019,
                    20.1304245283019,
                    20.1304245283019,
                    20.1304245283019,
                    20.1304245283019,
                    20.1304245283019,
                    20.1304245283019,
                    20.1304245283019,
                    35.71923076923077,
                    20.1304245283019,
                    20.1304245283019,
                    20.1304245283019,
                    20.1304245283019,
                    35.71923076923077,
                    20.1304245283019,
                    20.1304245283019,
                    14.921428571428574,
                    35.71923076923077,
                    20.1304245283019,
                    20.1304245283019,
                    20.1304245283019,
                    20.1304245283019,
                    20.1304245283019,
                    20.1304245283019,
                    20.1304245283019,
                    20.1304245283019,
                    20.1304245283019,
                    35.71923076923077,
                    20.1304245283019,
                    20.1304245283019,
                    20.1304245283019,
                    20.1304245283019,
                    20.1304245283019,
                    20.1304245283019,
                    20.1304245283019,
                    35.71923076923077,
                    20.1304245283019,
                    20.1304245283019,
                    35.71923076923077,
                    35.71923076923077,
                    20.1304245283019,
                    20.1304245283019,
                    20.1304245283019,
                    20.1304245283019,
                    20.1304245283019,
                    20.1304245283019,
                    20.1304245283019,
                    20.1304245283019,
                    20.1304245283019,
                    20.1304245283019,
                    20.1304245283019,
                    20.1304245283019,
                    20.1304245283019,
                    20.1304245283019,
                    20.1304245283019,
                    20.1304245283019,
                    20.1304245283019,
                    20.1304245283019,
                    20.1304245283019,
                    20.1304245283019,
                    20.1304245283019,
                    20.1304245283019,
                    20.1304245283019,
                    14.921428571428574,
                    20.1304245283019,
                    20.1304245283019,
                    20.1304245283019,
                    20.1304245283019,
                    20.1304245283019,
                    20.1304245283019,
                    20.1304245283019,
                    20.1304245283019,
                    20.1304245283019,
                    20.1304245283019,
                    35.71923076923077,
                    35.71923076923077,
                    20.1304245283019,
                    20.1304245283019,
                    20.1304245283019
                  ]
                }
              ],
              "layout": {
                "template": {
                  "data": {
                    "bar": [
                      {
                        "error_x": {
                          "color": "#2a3f5f"
                        },
                        "error_y": {
                          "color": "#2a3f5f"
                        },
                        "marker": {
                          "line": {
                            "color": "#E5ECF6",
                            "width": 0.5
                          }
                        },
                        "type": "bar"
                      }
                    ],
                    "barpolar": [
                      {
                        "marker": {
                          "line": {
                            "color": "#E5ECF6",
                            "width": 0.5
                          }
                        },
                        "type": "barpolar"
                      }
                    ],
                    "carpet": [
                      {
                        "aaxis": {
                          "endlinecolor": "#2a3f5f",
                          "gridcolor": "white",
                          "linecolor": "white",
                          "minorgridcolor": "white",
                          "startlinecolor": "#2a3f5f"
                        },
                        "baxis": {
                          "endlinecolor": "#2a3f5f",
                          "gridcolor": "white",
                          "linecolor": "white",
                          "minorgridcolor": "white",
                          "startlinecolor": "#2a3f5f"
                        },
                        "type": "carpet"
                      }
                    ],
                    "choropleth": [
                      {
                        "colorbar": {
                          "outlinewidth": 0,
                          "ticks": ""
                        },
                        "type": "choropleth"
                      }
                    ],
                    "contour": [
                      {
                        "colorbar": {
                          "outlinewidth": 0,
                          "ticks": ""
                        },
                        "colorscale": [
                          [
                            0,
                            "#0d0887"
                          ],
                          [
                            0.1111111111111111,
                            "#46039f"
                          ],
                          [
                            0.2222222222222222,
                            "#7201a8"
                          ],
                          [
                            0.3333333333333333,
                            "#9c179e"
                          ],
                          [
                            0.4444444444444444,
                            "#bd3786"
                          ],
                          [
                            0.5555555555555556,
                            "#d8576b"
                          ],
                          [
                            0.6666666666666666,
                            "#ed7953"
                          ],
                          [
                            0.7777777777777778,
                            "#fb9f3a"
                          ],
                          [
                            0.8888888888888888,
                            "#fdca26"
                          ],
                          [
                            1,
                            "#f0f921"
                          ]
                        ],
                        "type": "contour"
                      }
                    ],
                    "contourcarpet": [
                      {
                        "colorbar": {
                          "outlinewidth": 0,
                          "ticks": ""
                        },
                        "type": "contourcarpet"
                      }
                    ],
                    "heatmap": [
                      {
                        "colorbar": {
                          "outlinewidth": 0,
                          "ticks": ""
                        },
                        "colorscale": [
                          [
                            0,
                            "#0d0887"
                          ],
                          [
                            0.1111111111111111,
                            "#46039f"
                          ],
                          [
                            0.2222222222222222,
                            "#7201a8"
                          ],
                          [
                            0.3333333333333333,
                            "#9c179e"
                          ],
                          [
                            0.4444444444444444,
                            "#bd3786"
                          ],
                          [
                            0.5555555555555556,
                            "#d8576b"
                          ],
                          [
                            0.6666666666666666,
                            "#ed7953"
                          ],
                          [
                            0.7777777777777778,
                            "#fb9f3a"
                          ],
                          [
                            0.8888888888888888,
                            "#fdca26"
                          ],
                          [
                            1,
                            "#f0f921"
                          ]
                        ],
                        "type": "heatmap"
                      }
                    ],
                    "heatmapgl": [
                      {
                        "colorbar": {
                          "outlinewidth": 0,
                          "ticks": ""
                        },
                        "colorscale": [
                          [
                            0,
                            "#0d0887"
                          ],
                          [
                            0.1111111111111111,
                            "#46039f"
                          ],
                          [
                            0.2222222222222222,
                            "#7201a8"
                          ],
                          [
                            0.3333333333333333,
                            "#9c179e"
                          ],
                          [
                            0.4444444444444444,
                            "#bd3786"
                          ],
                          [
                            0.5555555555555556,
                            "#d8576b"
                          ],
                          [
                            0.6666666666666666,
                            "#ed7953"
                          ],
                          [
                            0.7777777777777778,
                            "#fb9f3a"
                          ],
                          [
                            0.8888888888888888,
                            "#fdca26"
                          ],
                          [
                            1,
                            "#f0f921"
                          ]
                        ],
                        "type": "heatmapgl"
                      }
                    ],
                    "histogram": [
                      {
                        "marker": {
                          "colorbar": {
                            "outlinewidth": 0,
                            "ticks": ""
                          }
                        },
                        "type": "histogram"
                      }
                    ],
                    "histogram2d": [
                      {
                        "colorbar": {
                          "outlinewidth": 0,
                          "ticks": ""
                        },
                        "colorscale": [
                          [
                            0,
                            "#0d0887"
                          ],
                          [
                            0.1111111111111111,
                            "#46039f"
                          ],
                          [
                            0.2222222222222222,
                            "#7201a8"
                          ],
                          [
                            0.3333333333333333,
                            "#9c179e"
                          ],
                          [
                            0.4444444444444444,
                            "#bd3786"
                          ],
                          [
                            0.5555555555555556,
                            "#d8576b"
                          ],
                          [
                            0.6666666666666666,
                            "#ed7953"
                          ],
                          [
                            0.7777777777777778,
                            "#fb9f3a"
                          ],
                          [
                            0.8888888888888888,
                            "#fdca26"
                          ],
                          [
                            1,
                            "#f0f921"
                          ]
                        ],
                        "type": "histogram2d"
                      }
                    ],
                    "histogram2dcontour": [
                      {
                        "colorbar": {
                          "outlinewidth": 0,
                          "ticks": ""
                        },
                        "colorscale": [
                          [
                            0,
                            "#0d0887"
                          ],
                          [
                            0.1111111111111111,
                            "#46039f"
                          ],
                          [
                            0.2222222222222222,
                            "#7201a8"
                          ],
                          [
                            0.3333333333333333,
                            "#9c179e"
                          ],
                          [
                            0.4444444444444444,
                            "#bd3786"
                          ],
                          [
                            0.5555555555555556,
                            "#d8576b"
                          ],
                          [
                            0.6666666666666666,
                            "#ed7953"
                          ],
                          [
                            0.7777777777777778,
                            "#fb9f3a"
                          ],
                          [
                            0.8888888888888888,
                            "#fdca26"
                          ],
                          [
                            1,
                            "#f0f921"
                          ]
                        ],
                        "type": "histogram2dcontour"
                      }
                    ],
                    "mesh3d": [
                      {
                        "colorbar": {
                          "outlinewidth": 0,
                          "ticks": ""
                        },
                        "type": "mesh3d"
                      }
                    ],
                    "parcoords": [
                      {
                        "line": {
                          "colorbar": {
                            "outlinewidth": 0,
                            "ticks": ""
                          }
                        },
                        "type": "parcoords"
                      }
                    ],
                    "pie": [
                      {
                        "automargin": true,
                        "type": "pie"
                      }
                    ],
                    "scatter": [
                      {
                        "marker": {
                          "colorbar": {
                            "outlinewidth": 0,
                            "ticks": ""
                          }
                        },
                        "type": "scatter"
                      }
                    ],
                    "scatter3d": [
                      {
                        "line": {
                          "colorbar": {
                            "outlinewidth": 0,
                            "ticks": ""
                          }
                        },
                        "marker": {
                          "colorbar": {
                            "outlinewidth": 0,
                            "ticks": ""
                          }
                        },
                        "type": "scatter3d"
                      }
                    ],
                    "scattercarpet": [
                      {
                        "marker": {
                          "colorbar": {
                            "outlinewidth": 0,
                            "ticks": ""
                          }
                        },
                        "type": "scattercarpet"
                      }
                    ],
                    "scattergeo": [
                      {
                        "marker": {
                          "colorbar": {
                            "outlinewidth": 0,
                            "ticks": ""
                          }
                        },
                        "type": "scattergeo"
                      }
                    ],
                    "scattergl": [
                      {
                        "marker": {
                          "colorbar": {
                            "outlinewidth": 0,
                            "ticks": ""
                          }
                        },
                        "type": "scattergl"
                      }
                    ],
                    "scattermapbox": [
                      {
                        "marker": {
                          "colorbar": {
                            "outlinewidth": 0,
                            "ticks": ""
                          }
                        },
                        "type": "scattermapbox"
                      }
                    ],
                    "scatterpolar": [
                      {
                        "marker": {
                          "colorbar": {
                            "outlinewidth": 0,
                            "ticks": ""
                          }
                        },
                        "type": "scatterpolar"
                      }
                    ],
                    "scatterpolargl": [
                      {
                        "marker": {
                          "colorbar": {
                            "outlinewidth": 0,
                            "ticks": ""
                          }
                        },
                        "type": "scatterpolargl"
                      }
                    ],
                    "scatterternary": [
                      {
                        "marker": {
                          "colorbar": {
                            "outlinewidth": 0,
                            "ticks": ""
                          }
                        },
                        "type": "scatterternary"
                      }
                    ],
                    "surface": [
                      {
                        "colorbar": {
                          "outlinewidth": 0,
                          "ticks": ""
                        },
                        "colorscale": [
                          [
                            0,
                            "#0d0887"
                          ],
                          [
                            0.1111111111111111,
                            "#46039f"
                          ],
                          [
                            0.2222222222222222,
                            "#7201a8"
                          ],
                          [
                            0.3333333333333333,
                            "#9c179e"
                          ],
                          [
                            0.4444444444444444,
                            "#bd3786"
                          ],
                          [
                            0.5555555555555556,
                            "#d8576b"
                          ],
                          [
                            0.6666666666666666,
                            "#ed7953"
                          ],
                          [
                            0.7777777777777778,
                            "#fb9f3a"
                          ],
                          [
                            0.8888888888888888,
                            "#fdca26"
                          ],
                          [
                            1,
                            "#f0f921"
                          ]
                        ],
                        "type": "surface"
                      }
                    ],
                    "table": [
                      {
                        "cells": {
                          "fill": {
                            "color": "#EBF0F8"
                          },
                          "line": {
                            "color": "white"
                          }
                        },
                        "header": {
                          "fill": {
                            "color": "#C8D4E3"
                          },
                          "line": {
                            "color": "white"
                          }
                        },
                        "type": "table"
                      }
                    ]
                  },
                  "layout": {
                    "annotationdefaults": {
                      "arrowcolor": "#2a3f5f",
                      "arrowhead": 0,
                      "arrowwidth": 1
                    },
                    "coloraxis": {
                      "colorbar": {
                        "outlinewidth": 0,
                        "ticks": ""
                      }
                    },
                    "colorscale": {
                      "diverging": [
                        [
                          0,
                          "#8e0152"
                        ],
                        [
                          0.1,
                          "#c51b7d"
                        ],
                        [
                          0.2,
                          "#de77ae"
                        ],
                        [
                          0.3,
                          "#f1b6da"
                        ],
                        [
                          0.4,
                          "#fde0ef"
                        ],
                        [
                          0.5,
                          "#f7f7f7"
                        ],
                        [
                          0.6,
                          "#e6f5d0"
                        ],
                        [
                          0.7,
                          "#b8e186"
                        ],
                        [
                          0.8,
                          "#7fbc41"
                        ],
                        [
                          0.9,
                          "#4d9221"
                        ],
                        [
                          1,
                          "#276419"
                        ]
                      ],
                      "sequential": [
                        [
                          0,
                          "#0d0887"
                        ],
                        [
                          0.1111111111111111,
                          "#46039f"
                        ],
                        [
                          0.2222222222222222,
                          "#7201a8"
                        ],
                        [
                          0.3333333333333333,
                          "#9c179e"
                        ],
                        [
                          0.4444444444444444,
                          "#bd3786"
                        ],
                        [
                          0.5555555555555556,
                          "#d8576b"
                        ],
                        [
                          0.6666666666666666,
                          "#ed7953"
                        ],
                        [
                          0.7777777777777778,
                          "#fb9f3a"
                        ],
                        [
                          0.8888888888888888,
                          "#fdca26"
                        ],
                        [
                          1,
                          "#f0f921"
                        ]
                      ],
                      "sequentialminus": [
                        [
                          0,
                          "#0d0887"
                        ],
                        [
                          0.1111111111111111,
                          "#46039f"
                        ],
                        [
                          0.2222222222222222,
                          "#7201a8"
                        ],
                        [
                          0.3333333333333333,
                          "#9c179e"
                        ],
                        [
                          0.4444444444444444,
                          "#bd3786"
                        ],
                        [
                          0.5555555555555556,
                          "#d8576b"
                        ],
                        [
                          0.6666666666666666,
                          "#ed7953"
                        ],
                        [
                          0.7777777777777778,
                          "#fb9f3a"
                        ],
                        [
                          0.8888888888888888,
                          "#fdca26"
                        ],
                        [
                          1,
                          "#f0f921"
                        ]
                      ]
                    },
                    "colorway": [
                      "#636efa",
                      "#EF553B",
                      "#00cc96",
                      "#ab63fa",
                      "#FFA15A",
                      "#19d3f3",
                      "#FF6692",
                      "#B6E880",
                      "#FF97FF",
                      "#FECB52"
                    ],
                    "font": {
                      "color": "#2a3f5f"
                    },
                    "geo": {
                      "bgcolor": "white",
                      "lakecolor": "white",
                      "landcolor": "#E5ECF6",
                      "showlakes": true,
                      "showland": true,
                      "subunitcolor": "white"
                    },
                    "hoverlabel": {
                      "align": "left"
                    },
                    "hovermode": "closest",
                    "mapbox": {
                      "style": "light"
                    },
                    "paper_bgcolor": "white",
                    "plot_bgcolor": "#E5ECF6",
                    "polar": {
                      "angularaxis": {
                        "gridcolor": "white",
                        "linecolor": "white",
                        "ticks": ""
                      },
                      "bgcolor": "#E5ECF6",
                      "radialaxis": {
                        "gridcolor": "white",
                        "linecolor": "white",
                        "ticks": ""
                      }
                    },
                    "scene": {
                      "xaxis": {
                        "backgroundcolor": "#E5ECF6",
                        "gridcolor": "white",
                        "gridwidth": 2,
                        "linecolor": "white",
                        "showbackground": true,
                        "ticks": "",
                        "zerolinecolor": "white"
                      },
                      "yaxis": {
                        "backgroundcolor": "#E5ECF6",
                        "gridcolor": "white",
                        "gridwidth": 2,
                        "linecolor": "white",
                        "showbackground": true,
                        "ticks": "",
                        "zerolinecolor": "white"
                      },
                      "zaxis": {
                        "backgroundcolor": "#E5ECF6",
                        "gridcolor": "white",
                        "gridwidth": 2,
                        "linecolor": "white",
                        "showbackground": true,
                        "ticks": "",
                        "zerolinecolor": "white"
                      }
                    },
                    "shapedefaults": {
                      "line": {
                        "color": "#2a3f5f"
                      }
                    },
                    "ternary": {
                      "aaxis": {
                        "gridcolor": "white",
                        "linecolor": "white",
                        "ticks": ""
                      },
                      "baxis": {
                        "gridcolor": "white",
                        "linecolor": "white",
                        "ticks": ""
                      },
                      "bgcolor": "#E5ECF6",
                      "caxis": {
                        "gridcolor": "white",
                        "linecolor": "white",
                        "ticks": ""
                      }
                    },
                    "title": {
                      "x": 0.05
                    },
                    "xaxis": {
                      "automargin": true,
                      "gridcolor": "white",
                      "linecolor": "white",
                      "ticks": "",
                      "title": {
                        "standoff": 15
                      },
                      "zerolinecolor": "white",
                      "zerolinewidth": 2
                    },
                    "yaxis": {
                      "automargin": true,
                      "gridcolor": "white",
                      "linecolor": "white",
                      "ticks": "",
                      "title": {
                        "standoff": 15
                      },
                      "zerolinecolor": "white",
                      "zerolinewidth": 2
                    }
                  }
                }
              }
            }
          },
          "metadata": {}
        }
      ]
    },
    {
      "cell_type": "markdown",
      "metadata": {
        "id": "IUt81GVWGHLb",
        "colab_type": "text"
      },
      "source": [
        "Avaliação do modelo baseline"
      ]
    },
    {
      "cell_type": "code",
      "metadata": {
        "id": "ACJFie9JF7iq",
        "colab_type": "code",
        "colab": {}
      },
      "source": [
        "# calcula a métrica rmse\n",
        "from sklearn.metrics import mean_squared_error\n",
        "from math import sqrt"
      ],
      "execution_count": 57,
      "outputs": []
    },
    {
      "cell_type": "code",
      "metadata": {
        "id": "6UO0iZm44Gl_",
        "colab_type": "code",
        "colab": {}
      },
      "source": [
        "rmse = (np.sqrt(mean_squared_error(y_test, predicoes)))"
      ],
      "execution_count": 58,
      "outputs": []
    },
    {
      "cell_type": "code",
      "metadata": {
        "id": "aFThM7L9GDA6",
        "colab_type": "code",
        "colab": {}
      },
      "source": [
        "# imprime a performance do modelo\n",
        "print ('Performance do modelo baseline:')\n",
        "print('\\nRMSE é: {} '.format(rmse))"
      ],
      "execution_count": 59,
      "outputs": [
        {
          "output_type": "stream",
          "name": "stdout",
          "text": "Performance do modelo baseline:\n\nRMSE é: 6.205816494411828 \n"
        }
      ]
    },
    {
      "cell_type": "markdown",
      "metadata": {
        "id": "6jL-gszHYgZY",
        "colab_type": "text"
      },
      "source": [
        "### Machine Learning"
      ]
    },
    {
      "cell_type": "markdown",
      "metadata": {
        "id": "8rokdiRpzTry",
        "colab_type": "text"
      },
      "source": [
        "#### Regressão Linear"
      ]
    },
    {
      "cell_type": "markdown",
      "metadata": {
        "id": "nEbWBlL3Ir9M",
        "colab_type": "text"
      },
      "source": [
        "- `Devido a correlação entre algumas features podemos usar uma regressão linear.`\n",
        "- `Modelo simples e eficiente.`\n",
        "- `Solução rápida e robusta.`"
      ]
    },
    {
      "cell_type": "code",
      "metadata": {
        "id": "xy7zx_pJIw6e",
        "colab_type": "code",
        "colab": {}
      },
      "source": [
        "# carrega o pacote LinearRegression\n",
        "from sklearn.linear_model import LinearRegression"
      ],
      "execution_count": 60,
      "outputs": []
    },
    {
      "cell_type": "code",
      "metadata": {
        "id": "fRgZ6NHUfvzM",
        "colab_type": "code",
        "colab": {}
      },
      "source": [
        "# cria o objeto do tipo LinearRegression\n",
        "lin_model = LinearRegression()"
      ],
      "execution_count": 61,
      "outputs": []
    },
    {
      "cell_type": "code",
      "metadata": {
        "id": "EP4-r-x9fyMF",
        "colab_type": "code",
        "colab": {}
      },
      "source": [
        "# treina o algoritmo de regressão linear\n",
        "lin_model.fit(X_train, y_train)"
      ],
      "execution_count": 62,
      "outputs": [
        {
          "output_type": "execute_result",
          "data": {
            "text/plain": "LinearRegression(copy_X=True, fit_intercept=True, n_jobs=None, normalize=False)"
          },
          "metadata": {},
          "execution_count": 62
        }
      ]
    },
    {
      "cell_type": "code",
      "metadata": {
        "id": "XwIaD1k1NVzg",
        "colab_type": "code",
        "colab": {}
      },
      "source": [
        "# avaliação do modelo nos dados de teste\n",
        "y_pred = lin_model.predict(X_test)"
      ],
      "execution_count": 63,
      "outputs": []
    },
    {
      "cell_type": "code",
      "metadata": {
        "id": "Wx7arH2JoHGU",
        "colab_type": "code",
        "colab": {}
      },
      "source": [
        "# calcula a métrica rmse\n",
        "rmse = (np.sqrt(mean_squared_error(y_test, y_pred)))"
      ],
      "execution_count": 64,
      "outputs": []
    },
    {
      "cell_type": "code",
      "metadata": {
        "id": "zi54cRQwNcPm",
        "colab_type": "code",
        "colab": {}
      },
      "source": [
        "# imprime a performance do modelo\n",
        "print ('Performance do modelo avaliado com os dados de teste:')\n",
        "print('\\nRMSE é: {} '.format(rmse))"
      ],
      "execution_count": 65,
      "outputs": [
        {
          "output_type": "stream",
          "name": "stdout",
          "text": "Performance do modelo avaliado com os dados de teste:\n\nRMSE é: 4.460277295153907 \n"
        }
      ]
    },
    {
      "cell_type": "code",
      "metadata": {
        "id": "Fc4Cy6ehSRz7",
        "colab_type": "code",
        "colab": {}
      },
      "source": [
        "# atribui os resultados no dataframe df_results\n",
        "df_results['valor_predito_reg_linear'] = lin_model.predict(X_test)"
      ],
      "execution_count": 66,
      "outputs": []
    },
    {
      "cell_type": "code",
      "metadata": {
        "id": "vY6sddMASRrj",
        "colab_type": "code",
        "colab": {}
      },
      "source": [
        "df_results.head(10)"
      ],
      "execution_count": 67,
      "outputs": [
        {
          "output_type": "execute_result",
          "data": {
            "text/plain": "   valor_real  valor_predito_baseline  valor_predito_reg_linear\n0        18.5               20.130425                 18.459170\n1        12.7               20.130425                 12.279894\n2        21.4               20.130425                 24.588307\n3        23.7               20.130425                 28.254693\n4        20.8               20.130425                 18.195439\n5        25.0               20.130425                 21.630648\n6         9.7               20.130425                 11.319198\n7        14.9               20.130425                 14.561032\n8        34.9               35.719231                 31.623717\n9        31.6               35.719231                 29.588133",
            "text/html": "<div>\n<style scoped>\n    .dataframe tbody tr th:only-of-type {\n        vertical-align: middle;\n    }\n\n    .dataframe tbody tr th {\n        vertical-align: top;\n    }\n\n    .dataframe thead th {\n        text-align: right;\n    }\n</style>\n<table border=\"1\" class=\"dataframe\">\n  <thead>\n    <tr style=\"text-align: right;\">\n      <th></th>\n      <th>valor_real</th>\n      <th>valor_predito_baseline</th>\n      <th>valor_predito_reg_linear</th>\n    </tr>\n  </thead>\n  <tbody>\n    <tr>\n      <th>0</th>\n      <td>18.5</td>\n      <td>20.130425</td>\n      <td>18.459170</td>\n    </tr>\n    <tr>\n      <th>1</th>\n      <td>12.7</td>\n      <td>20.130425</td>\n      <td>12.279894</td>\n    </tr>\n    <tr>\n      <th>2</th>\n      <td>21.4</td>\n      <td>20.130425</td>\n      <td>24.588307</td>\n    </tr>\n    <tr>\n      <th>3</th>\n      <td>23.7</td>\n      <td>20.130425</td>\n      <td>28.254693</td>\n    </tr>\n    <tr>\n      <th>4</th>\n      <td>20.8</td>\n      <td>20.130425</td>\n      <td>18.195439</td>\n    </tr>\n    <tr>\n      <th>5</th>\n      <td>25.0</td>\n      <td>20.130425</td>\n      <td>21.630648</td>\n    </tr>\n    <tr>\n      <th>6</th>\n      <td>9.7</td>\n      <td>20.130425</td>\n      <td>11.319198</td>\n    </tr>\n    <tr>\n      <th>7</th>\n      <td>14.9</td>\n      <td>20.130425</td>\n      <td>14.561032</td>\n    </tr>\n    <tr>\n      <th>8</th>\n      <td>34.9</td>\n      <td>35.719231</td>\n      <td>31.623717</td>\n    </tr>\n    <tr>\n      <th>9</th>\n      <td>31.6</td>\n      <td>35.719231</td>\n      <td>29.588133</td>\n    </tr>\n  </tbody>\n</table>\n</div>"
          },
          "metadata": {},
          "execution_count": 67
        }
      ]
    },
    {
      "cell_type": "code",
      "metadata": {
        "id": "qojh6XHzSDHZ",
        "colab_type": "code",
        "colab": {}
      },
      "source": [
        "import plotly.graph_objects as go\n",
        "\n",
        "# Create traces\n",
        "fig = go.Figure()\n",
        "\n",
        "# Linha com os dados de teste\n",
        "fig.add_trace(go.Scatter(x=df_results.index,\n",
        "                         y=df_results.valor_real,\n",
        "                         mode='lines+markers',\n",
        "                         name='Valor Real'))\n",
        "\n",
        "# Linha com os dados de baseline\n",
        "fig.add_trace(go.Scatter(x=df_results.index,\n",
        "                         y=df_results.valor_predito_baseline,\n",
        "                         mode='lines+markers',\n",
        "                         name='Baseline'))\n",
        "\n",
        "# Linha com os dados preditos pela regressão linear\n",
        "fig.add_trace(go.Scatter(x=df_results.index,\n",
        "                         y=df_results.valor_predito_reg_linear,\n",
        "                         mode='lines',\n",
        "                         line = dict(color = '#FEBFB3'),\n",
        "                         name='Valor Predito Regressão Linear'))\n",
        "\n",
        "# Plota a figura\n",
        "fig.show()"
      ],
      "execution_count": 68,
      "outputs": [
        {
          "output_type": "display_data",
          "data": {
            "application/vnd.plotly.v1+json": {
              "config": {
                "plotlyServerURL": "https://plot.ly"
              },
              "data": [
                {
                  "mode": "lines+markers",
                  "name": "Valor Real",
                  "type": "scatter",
                  "x": [
                    0,
                    1,
                    2,
                    3,
                    4,
                    5,
                    6,
                    7,
                    8,
                    9,
                    10,
                    11,
                    12,
                    13,
                    14,
                    15,
                    16,
                    17,
                    18,
                    19,
                    20,
                    21,
                    22,
                    23,
                    24,
                    25,
                    26,
                    27,
                    28,
                    29,
                    30,
                    31,
                    32,
                    33,
                    34,
                    35,
                    36,
                    37,
                    38,
                    39,
                    40,
                    41,
                    42,
                    43,
                    44,
                    45,
                    46,
                    47,
                    48,
                    49,
                    50,
                    51,
                    52,
                    53,
                    54,
                    55,
                    56,
                    57,
                    58,
                    59,
                    60,
                    61,
                    62,
                    63,
                    64,
                    65,
                    66,
                    67,
                    68,
                    69,
                    70,
                    71,
                    72,
                    73,
                    74,
                    75,
                    76,
                    77,
                    78,
                    79,
                    80,
                    81,
                    82,
                    83,
                    84,
                    85,
                    86,
                    87,
                    88,
                    89,
                    90,
                    91,
                    92,
                    93,
                    94,
                    95,
                    96,
                    97
                  ],
                  "y": [
                    18.5,
                    12.7,
                    21.4,
                    23.7,
                    20.8,
                    25,
                    9.7,
                    14.9,
                    34.9,
                    31.6,
                    24.7,
                    22.9,
                    33.2,
                    9.6,
                    30.5,
                    19.2,
                    30.3,
                    15.4,
                    24.3,
                    24.4,
                    21.5,
                    27.9,
                    17.3,
                    21.4,
                    21.7,
                    24.4,
                    8.5,
                    15,
                    11.5,
                    13.6,
                    24.4,
                    7.4,
                    44,
                    21.7,
                    19.3,
                    16.1,
                    29,
                    26.4,
                    20.3,
                    10.8,
                    5,
                    19.6,
                    23.1,
                    23.9,
                    17.5,
                    13.5,
                    48.8,
                    26.2,
                    19.7,
                    14.2,
                    11,
                    19,
                    21.7,
                    18.4,
                    33.4,
                    14,
                    24.7,
                    43.8,
                    48.5,
                    25,
                    22.6,
                    21.2,
                    22.4,
                    23.8,
                    19.9,
                    16.5,
                    16.7,
                    17.2,
                    13.1,
                    19.1,
                    18.5,
                    22.2,
                    22.6,
                    19.4,
                    15.2,
                    19.8,
                    19.4,
                    21.6,
                    18.2,
                    19.6,
                    19.6,
                    23,
                    7,
                    17.6,
                    25,
                    41.3,
                    24.1,
                    22.6,
                    18.7,
                    22.6,
                    13.1,
                    22.2,
                    16.1,
                    39.8,
                    25,
                    20.5,
                    10.4,
                    20.4
                  ]
                },
                {
                  "mode": "lines+markers",
                  "name": "Baseline",
                  "type": "scatter",
                  "x": [
                    0,
                    1,
                    2,
                    3,
                    4,
                    5,
                    6,
                    7,
                    8,
                    9,
                    10,
                    11,
                    12,
                    13,
                    14,
                    15,
                    16,
                    17,
                    18,
                    19,
                    20,
                    21,
                    22,
                    23,
                    24,
                    25,
                    26,
                    27,
                    28,
                    29,
                    30,
                    31,
                    32,
                    33,
                    34,
                    35,
                    36,
                    37,
                    38,
                    39,
                    40,
                    41,
                    42,
                    43,
                    44,
                    45,
                    46,
                    47,
                    48,
                    49,
                    50,
                    51,
                    52,
                    53,
                    54,
                    55,
                    56,
                    57,
                    58,
                    59,
                    60,
                    61,
                    62,
                    63,
                    64,
                    65,
                    66,
                    67,
                    68,
                    69,
                    70,
                    71,
                    72,
                    73,
                    74,
                    75,
                    76,
                    77,
                    78,
                    79,
                    80,
                    81,
                    82,
                    83,
                    84,
                    85,
                    86,
                    87,
                    88,
                    89,
                    90,
                    91,
                    92,
                    93,
                    94,
                    95,
                    96,
                    97
                  ],
                  "y": [
                    20.1304245283019,
                    20.1304245283019,
                    20.1304245283019,
                    20.1304245283019,
                    20.1304245283019,
                    20.1304245283019,
                    20.1304245283019,
                    20.1304245283019,
                    35.71923076923077,
                    35.71923076923077,
                    20.1304245283019,
                    20.1304245283019,
                    35.71923076923077,
                    20.1304245283019,
                    20.1304245283019,
                    20.1304245283019,
                    35.71923076923077,
                    20.1304245283019,
                    20.1304245283019,
                    20.1304245283019,
                    20.1304245283019,
                    20.1304245283019,
                    20.1304245283019,
                    20.1304245283019,
                    20.1304245283019,
                    20.1304245283019,
                    20.1304245283019,
                    35.71923076923077,
                    20.1304245283019,
                    20.1304245283019,
                    20.1304245283019,
                    20.1304245283019,
                    35.71923076923077,
                    20.1304245283019,
                    20.1304245283019,
                    14.921428571428574,
                    35.71923076923077,
                    20.1304245283019,
                    20.1304245283019,
                    20.1304245283019,
                    20.1304245283019,
                    20.1304245283019,
                    20.1304245283019,
                    20.1304245283019,
                    20.1304245283019,
                    20.1304245283019,
                    35.71923076923077,
                    20.1304245283019,
                    20.1304245283019,
                    20.1304245283019,
                    20.1304245283019,
                    20.1304245283019,
                    20.1304245283019,
                    20.1304245283019,
                    35.71923076923077,
                    20.1304245283019,
                    20.1304245283019,
                    35.71923076923077,
                    35.71923076923077,
                    20.1304245283019,
                    20.1304245283019,
                    20.1304245283019,
                    20.1304245283019,
                    20.1304245283019,
                    20.1304245283019,
                    20.1304245283019,
                    20.1304245283019,
                    20.1304245283019,
                    20.1304245283019,
                    20.1304245283019,
                    20.1304245283019,
                    20.1304245283019,
                    20.1304245283019,
                    20.1304245283019,
                    20.1304245283019,
                    20.1304245283019,
                    20.1304245283019,
                    20.1304245283019,
                    20.1304245283019,
                    20.1304245283019,
                    20.1304245283019,
                    20.1304245283019,
                    14.921428571428574,
                    20.1304245283019,
                    20.1304245283019,
                    20.1304245283019,
                    20.1304245283019,
                    20.1304245283019,
                    20.1304245283019,
                    20.1304245283019,
                    20.1304245283019,
                    20.1304245283019,
                    20.1304245283019,
                    35.71923076923077,
                    35.71923076923077,
                    20.1304245283019,
                    20.1304245283019,
                    20.1304245283019
                  ]
                },
                {
                  "line": {
                    "color": "#FEBFB3"
                  },
                  "mode": "lines",
                  "name": "Valor Predito Regressão Linear",
                  "type": "scatter",
                  "x": [
                    0,
                    1,
                    2,
                    3,
                    4,
                    5,
                    6,
                    7,
                    8,
                    9,
                    10,
                    11,
                    12,
                    13,
                    14,
                    15,
                    16,
                    17,
                    18,
                    19,
                    20,
                    21,
                    22,
                    23,
                    24,
                    25,
                    26,
                    27,
                    28,
                    29,
                    30,
                    31,
                    32,
                    33,
                    34,
                    35,
                    36,
                    37,
                    38,
                    39,
                    40,
                    41,
                    42,
                    43,
                    44,
                    45,
                    46,
                    47,
                    48,
                    49,
                    50,
                    51,
                    52,
                    53,
                    54,
                    55,
                    56,
                    57,
                    58,
                    59,
                    60,
                    61,
                    62,
                    63,
                    64,
                    65,
                    66,
                    67,
                    68,
                    69,
                    70,
                    71,
                    72,
                    73,
                    74,
                    75,
                    76,
                    77,
                    78,
                    79,
                    80,
                    81,
                    82,
                    83,
                    84,
                    85,
                    86,
                    87,
                    88,
                    89,
                    90,
                    91,
                    92,
                    93,
                    94,
                    95,
                    96,
                    97
                  ],
                  "y": [
                    18.459169620175622,
                    12.27989416415652,
                    24.588306565387427,
                    28.2546932806687,
                    18.195438537343794,
                    21.630648235689584,
                    11.319198030946154,
                    14.561032219959824,
                    31.62371677304009,
                    29.588132607557004,
                    28.603936015257425,
                    26.482125815783228,
                    29.966034207781306,
                    14.553173045326123,
                    30.278248711999726,
                    24.630039158761864,
                    33.23345824950146,
                    16.931248570273684,
                    24.99446421909778,
                    26.46644144086013,
                    22.813639524070084,
                    27.10339073181635,
                    12.524996632311233,
                    19.379297519749333,
                    21.58154597100254,
                    23.877006702039058,
                    14.085855797820356,
                    21.230146967559783,
                    13.643973122717863,
                    14.716712882017287,
                    25.800161542012095,
                    7.867171947538871,
                    33.02051098404502,
                    26.04521891780928,
                    24.036781665116372,
                    17.77540345668654,
                    33.22709163662169,
                    27.517944398741665,
                    21.18738356258344,
                    10.957868727277681,
                    7.507685772949113,
                    19.41858658453992,
                    27.39333995128659,
                    23.8410182563615,
                    24.74227083856386,
                    16.990723698020272,
                    35.47974424493102,
                    26.15991291761714,
                    22.496912181783877,
                    17.90478819611412,
                    14.154116782257073,
                    21.181885684574734,
                    20.624525388320663,
                    21.177587641065532,
                    29.49552122400647,
                    14.230041126797467,
                    26.544112805265776,
                    31.088045066806597,
                    33.726935599253906,
                    24.89158173535178,
                    24.187944371239205,
                    23.86472590886008,
                    22.052781673616483,
                    21.38994045785448,
                    18.845951646544716,
                    27.841582054943295,
                    17.93632331758325,
                    13.823897089289785,
                    17.67613991103613,
                    19.294638279682893,
                    20.582306559638145,
                    25.39064984663409,
                    26.23596042344075,
                    18.89486986816471,
                    14.748302917740688,
                    26.81867562501565,
                    24.878238751496408,
                    25.213916812117628,
                    21.19251508313218,
                    20.512703338801487,
                    18.27047762963257,
                    21.370391016885534,
                    -0.0944426495523345,
                    20.958291503542682,
                    28.55253759121914,
                    28.021862079991507,
                    27.66690749195503,
                    21.45842164716916,
                    21.377824334771667,
                    27.62100650340493,
                    16.075247361056487,
                    26.092542124103048,
                    17.756087552806495,
                    29.38959640373895,
                    25.474439973258512,
                    15.839468986221023,
                    8.44698583407829,
                    20.760205429443275
                  ]
                }
              ],
              "layout": {
                "template": {
                  "data": {
                    "bar": [
                      {
                        "error_x": {
                          "color": "#2a3f5f"
                        },
                        "error_y": {
                          "color": "#2a3f5f"
                        },
                        "marker": {
                          "line": {
                            "color": "#E5ECF6",
                            "width": 0.5
                          }
                        },
                        "type": "bar"
                      }
                    ],
                    "barpolar": [
                      {
                        "marker": {
                          "line": {
                            "color": "#E5ECF6",
                            "width": 0.5
                          }
                        },
                        "type": "barpolar"
                      }
                    ],
                    "carpet": [
                      {
                        "aaxis": {
                          "endlinecolor": "#2a3f5f",
                          "gridcolor": "white",
                          "linecolor": "white",
                          "minorgridcolor": "white",
                          "startlinecolor": "#2a3f5f"
                        },
                        "baxis": {
                          "endlinecolor": "#2a3f5f",
                          "gridcolor": "white",
                          "linecolor": "white",
                          "minorgridcolor": "white",
                          "startlinecolor": "#2a3f5f"
                        },
                        "type": "carpet"
                      }
                    ],
                    "choropleth": [
                      {
                        "colorbar": {
                          "outlinewidth": 0,
                          "ticks": ""
                        },
                        "type": "choropleth"
                      }
                    ],
                    "contour": [
                      {
                        "colorbar": {
                          "outlinewidth": 0,
                          "ticks": ""
                        },
                        "colorscale": [
                          [
                            0,
                            "#0d0887"
                          ],
                          [
                            0.1111111111111111,
                            "#46039f"
                          ],
                          [
                            0.2222222222222222,
                            "#7201a8"
                          ],
                          [
                            0.3333333333333333,
                            "#9c179e"
                          ],
                          [
                            0.4444444444444444,
                            "#bd3786"
                          ],
                          [
                            0.5555555555555556,
                            "#d8576b"
                          ],
                          [
                            0.6666666666666666,
                            "#ed7953"
                          ],
                          [
                            0.7777777777777778,
                            "#fb9f3a"
                          ],
                          [
                            0.8888888888888888,
                            "#fdca26"
                          ],
                          [
                            1,
                            "#f0f921"
                          ]
                        ],
                        "type": "contour"
                      }
                    ],
                    "contourcarpet": [
                      {
                        "colorbar": {
                          "outlinewidth": 0,
                          "ticks": ""
                        },
                        "type": "contourcarpet"
                      }
                    ],
                    "heatmap": [
                      {
                        "colorbar": {
                          "outlinewidth": 0,
                          "ticks": ""
                        },
                        "colorscale": [
                          [
                            0,
                            "#0d0887"
                          ],
                          [
                            0.1111111111111111,
                            "#46039f"
                          ],
                          [
                            0.2222222222222222,
                            "#7201a8"
                          ],
                          [
                            0.3333333333333333,
                            "#9c179e"
                          ],
                          [
                            0.4444444444444444,
                            "#bd3786"
                          ],
                          [
                            0.5555555555555556,
                            "#d8576b"
                          ],
                          [
                            0.6666666666666666,
                            "#ed7953"
                          ],
                          [
                            0.7777777777777778,
                            "#fb9f3a"
                          ],
                          [
                            0.8888888888888888,
                            "#fdca26"
                          ],
                          [
                            1,
                            "#f0f921"
                          ]
                        ],
                        "type": "heatmap"
                      }
                    ],
                    "heatmapgl": [
                      {
                        "colorbar": {
                          "outlinewidth": 0,
                          "ticks": ""
                        },
                        "colorscale": [
                          [
                            0,
                            "#0d0887"
                          ],
                          [
                            0.1111111111111111,
                            "#46039f"
                          ],
                          [
                            0.2222222222222222,
                            "#7201a8"
                          ],
                          [
                            0.3333333333333333,
                            "#9c179e"
                          ],
                          [
                            0.4444444444444444,
                            "#bd3786"
                          ],
                          [
                            0.5555555555555556,
                            "#d8576b"
                          ],
                          [
                            0.6666666666666666,
                            "#ed7953"
                          ],
                          [
                            0.7777777777777778,
                            "#fb9f3a"
                          ],
                          [
                            0.8888888888888888,
                            "#fdca26"
                          ],
                          [
                            1,
                            "#f0f921"
                          ]
                        ],
                        "type": "heatmapgl"
                      }
                    ],
                    "histogram": [
                      {
                        "marker": {
                          "colorbar": {
                            "outlinewidth": 0,
                            "ticks": ""
                          }
                        },
                        "type": "histogram"
                      }
                    ],
                    "histogram2d": [
                      {
                        "colorbar": {
                          "outlinewidth": 0,
                          "ticks": ""
                        },
                        "colorscale": [
                          [
                            0,
                            "#0d0887"
                          ],
                          [
                            0.1111111111111111,
                            "#46039f"
                          ],
                          [
                            0.2222222222222222,
                            "#7201a8"
                          ],
                          [
                            0.3333333333333333,
                            "#9c179e"
                          ],
                          [
                            0.4444444444444444,
                            "#bd3786"
                          ],
                          [
                            0.5555555555555556,
                            "#d8576b"
                          ],
                          [
                            0.6666666666666666,
                            "#ed7953"
                          ],
                          [
                            0.7777777777777778,
                            "#fb9f3a"
                          ],
                          [
                            0.8888888888888888,
                            "#fdca26"
                          ],
                          [
                            1,
                            "#f0f921"
                          ]
                        ],
                        "type": "histogram2d"
                      }
                    ],
                    "histogram2dcontour": [
                      {
                        "colorbar": {
                          "outlinewidth": 0,
                          "ticks": ""
                        },
                        "colorscale": [
                          [
                            0,
                            "#0d0887"
                          ],
                          [
                            0.1111111111111111,
                            "#46039f"
                          ],
                          [
                            0.2222222222222222,
                            "#7201a8"
                          ],
                          [
                            0.3333333333333333,
                            "#9c179e"
                          ],
                          [
                            0.4444444444444444,
                            "#bd3786"
                          ],
                          [
                            0.5555555555555556,
                            "#d8576b"
                          ],
                          [
                            0.6666666666666666,
                            "#ed7953"
                          ],
                          [
                            0.7777777777777778,
                            "#fb9f3a"
                          ],
                          [
                            0.8888888888888888,
                            "#fdca26"
                          ],
                          [
                            1,
                            "#f0f921"
                          ]
                        ],
                        "type": "histogram2dcontour"
                      }
                    ],
                    "mesh3d": [
                      {
                        "colorbar": {
                          "outlinewidth": 0,
                          "ticks": ""
                        },
                        "type": "mesh3d"
                      }
                    ],
                    "parcoords": [
                      {
                        "line": {
                          "colorbar": {
                            "outlinewidth": 0,
                            "ticks": ""
                          }
                        },
                        "type": "parcoords"
                      }
                    ],
                    "pie": [
                      {
                        "automargin": true,
                        "type": "pie"
                      }
                    ],
                    "scatter": [
                      {
                        "marker": {
                          "colorbar": {
                            "outlinewidth": 0,
                            "ticks": ""
                          }
                        },
                        "type": "scatter"
                      }
                    ],
                    "scatter3d": [
                      {
                        "line": {
                          "colorbar": {
                            "outlinewidth": 0,
                            "ticks": ""
                          }
                        },
                        "marker": {
                          "colorbar": {
                            "outlinewidth": 0,
                            "ticks": ""
                          }
                        },
                        "type": "scatter3d"
                      }
                    ],
                    "scattercarpet": [
                      {
                        "marker": {
                          "colorbar": {
                            "outlinewidth": 0,
                            "ticks": ""
                          }
                        },
                        "type": "scattercarpet"
                      }
                    ],
                    "scattergeo": [
                      {
                        "marker": {
                          "colorbar": {
                            "outlinewidth": 0,
                            "ticks": ""
                          }
                        },
                        "type": "scattergeo"
                      }
                    ],
                    "scattergl": [
                      {
                        "marker": {
                          "colorbar": {
                            "outlinewidth": 0,
                            "ticks": ""
                          }
                        },
                        "type": "scattergl"
                      }
                    ],
                    "scattermapbox": [
                      {
                        "marker": {
                          "colorbar": {
                            "outlinewidth": 0,
                            "ticks": ""
                          }
                        },
                        "type": "scattermapbox"
                      }
                    ],
                    "scatterpolar": [
                      {
                        "marker": {
                          "colorbar": {
                            "outlinewidth": 0,
                            "ticks": ""
                          }
                        },
                        "type": "scatterpolar"
                      }
                    ],
                    "scatterpolargl": [
                      {
                        "marker": {
                          "colorbar": {
                            "outlinewidth": 0,
                            "ticks": ""
                          }
                        },
                        "type": "scatterpolargl"
                      }
                    ],
                    "scatterternary": [
                      {
                        "marker": {
                          "colorbar": {
                            "outlinewidth": 0,
                            "ticks": ""
                          }
                        },
                        "type": "scatterternary"
                      }
                    ],
                    "surface": [
                      {
                        "colorbar": {
                          "outlinewidth": 0,
                          "ticks": ""
                        },
                        "colorscale": [
                          [
                            0,
                            "#0d0887"
                          ],
                          [
                            0.1111111111111111,
                            "#46039f"
                          ],
                          [
                            0.2222222222222222,
                            "#7201a8"
                          ],
                          [
                            0.3333333333333333,
                            "#9c179e"
                          ],
                          [
                            0.4444444444444444,
                            "#bd3786"
                          ],
                          [
                            0.5555555555555556,
                            "#d8576b"
                          ],
                          [
                            0.6666666666666666,
                            "#ed7953"
                          ],
                          [
                            0.7777777777777778,
                            "#fb9f3a"
                          ],
                          [
                            0.8888888888888888,
                            "#fdca26"
                          ],
                          [
                            1,
                            "#f0f921"
                          ]
                        ],
                        "type": "surface"
                      }
                    ],
                    "table": [
                      {
                        "cells": {
                          "fill": {
                            "color": "#EBF0F8"
                          },
                          "line": {
                            "color": "white"
                          }
                        },
                        "header": {
                          "fill": {
                            "color": "#C8D4E3"
                          },
                          "line": {
                            "color": "white"
                          }
                        },
                        "type": "table"
                      }
                    ]
                  },
                  "layout": {
                    "annotationdefaults": {
                      "arrowcolor": "#2a3f5f",
                      "arrowhead": 0,
                      "arrowwidth": 1
                    },
                    "coloraxis": {
                      "colorbar": {
                        "outlinewidth": 0,
                        "ticks": ""
                      }
                    },
                    "colorscale": {
                      "diverging": [
                        [
                          0,
                          "#8e0152"
                        ],
                        [
                          0.1,
                          "#c51b7d"
                        ],
                        [
                          0.2,
                          "#de77ae"
                        ],
                        [
                          0.3,
                          "#f1b6da"
                        ],
                        [
                          0.4,
                          "#fde0ef"
                        ],
                        [
                          0.5,
                          "#f7f7f7"
                        ],
                        [
                          0.6,
                          "#e6f5d0"
                        ],
                        [
                          0.7,
                          "#b8e186"
                        ],
                        [
                          0.8,
                          "#7fbc41"
                        ],
                        [
                          0.9,
                          "#4d9221"
                        ],
                        [
                          1,
                          "#276419"
                        ]
                      ],
                      "sequential": [
                        [
                          0,
                          "#0d0887"
                        ],
                        [
                          0.1111111111111111,
                          "#46039f"
                        ],
                        [
                          0.2222222222222222,
                          "#7201a8"
                        ],
                        [
                          0.3333333333333333,
                          "#9c179e"
                        ],
                        [
                          0.4444444444444444,
                          "#bd3786"
                        ],
                        [
                          0.5555555555555556,
                          "#d8576b"
                        ],
                        [
                          0.6666666666666666,
                          "#ed7953"
                        ],
                        [
                          0.7777777777777778,
                          "#fb9f3a"
                        ],
                        [
                          0.8888888888888888,
                          "#fdca26"
                        ],
                        [
                          1,
                          "#f0f921"
                        ]
                      ],
                      "sequentialminus": [
                        [
                          0,
                          "#0d0887"
                        ],
                        [
                          0.1111111111111111,
                          "#46039f"
                        ],
                        [
                          0.2222222222222222,
                          "#7201a8"
                        ],
                        [
                          0.3333333333333333,
                          "#9c179e"
                        ],
                        [
                          0.4444444444444444,
                          "#bd3786"
                        ],
                        [
                          0.5555555555555556,
                          "#d8576b"
                        ],
                        [
                          0.6666666666666666,
                          "#ed7953"
                        ],
                        [
                          0.7777777777777778,
                          "#fb9f3a"
                        ],
                        [
                          0.8888888888888888,
                          "#fdca26"
                        ],
                        [
                          1,
                          "#f0f921"
                        ]
                      ]
                    },
                    "colorway": [
                      "#636efa",
                      "#EF553B",
                      "#00cc96",
                      "#ab63fa",
                      "#FFA15A",
                      "#19d3f3",
                      "#FF6692",
                      "#B6E880",
                      "#FF97FF",
                      "#FECB52"
                    ],
                    "font": {
                      "color": "#2a3f5f"
                    },
                    "geo": {
                      "bgcolor": "white",
                      "lakecolor": "white",
                      "landcolor": "#E5ECF6",
                      "showlakes": true,
                      "showland": true,
                      "subunitcolor": "white"
                    },
                    "hoverlabel": {
                      "align": "left"
                    },
                    "hovermode": "closest",
                    "mapbox": {
                      "style": "light"
                    },
                    "paper_bgcolor": "white",
                    "plot_bgcolor": "#E5ECF6",
                    "polar": {
                      "angularaxis": {
                        "gridcolor": "white",
                        "linecolor": "white",
                        "ticks": ""
                      },
                      "bgcolor": "#E5ECF6",
                      "radialaxis": {
                        "gridcolor": "white",
                        "linecolor": "white",
                        "ticks": ""
                      }
                    },
                    "scene": {
                      "xaxis": {
                        "backgroundcolor": "#E5ECF6",
                        "gridcolor": "white",
                        "gridwidth": 2,
                        "linecolor": "white",
                        "showbackground": true,
                        "ticks": "",
                        "zerolinecolor": "white"
                      },
                      "yaxis": {
                        "backgroundcolor": "#E5ECF6",
                        "gridcolor": "white",
                        "gridwidth": 2,
                        "linecolor": "white",
                        "showbackground": true,
                        "ticks": "",
                        "zerolinecolor": "white"
                      },
                      "zaxis": {
                        "backgroundcolor": "#E5ECF6",
                        "gridcolor": "white",
                        "gridwidth": 2,
                        "linecolor": "white",
                        "showbackground": true,
                        "ticks": "",
                        "zerolinecolor": "white"
                      }
                    },
                    "shapedefaults": {
                      "line": {
                        "color": "#2a3f5f"
                      }
                    },
                    "ternary": {
                      "aaxis": {
                        "gridcolor": "white",
                        "linecolor": "white",
                        "ticks": ""
                      },
                      "baxis": {
                        "gridcolor": "white",
                        "linecolor": "white",
                        "ticks": ""
                      },
                      "bgcolor": "#E5ECF6",
                      "caxis": {
                        "gridcolor": "white",
                        "linecolor": "white",
                        "ticks": ""
                      }
                    },
                    "title": {
                      "x": 0.05
                    },
                    "xaxis": {
                      "automargin": true,
                      "gridcolor": "white",
                      "linecolor": "white",
                      "ticks": "",
                      "title": {
                        "standoff": 15
                      },
                      "zerolinecolor": "white",
                      "zerolinewidth": 2
                    },
                    "yaxis": {
                      "automargin": true,
                      "gridcolor": "white",
                      "linecolor": "white",
                      "ticks": "",
                      "title": {
                        "standoff": 15
                      },
                      "zerolinecolor": "white",
                      "zerolinewidth": 2
                    }
                  }
                }
              }
            }
          },
          "metadata": {}
        }
      ]
    },
    {
      "cell_type": "markdown",
      "metadata": {
        "id": "yhHrta_etlaE",
        "colab_type": "text"
      },
      "source": [
        "##### Arvore de decisão\n",
        "\n",
        "*   `Algoritmo de aprendizado supervisionado`\n",
        "*   `Explicabilidade do Modelo`\n",
        "*   `Simples`\n"
      ]
    },
    {
      "cell_type": "code",
      "metadata": {
        "id": "s6AMt-S1tklE",
        "colab_type": "code",
        "colab": {}
      },
      "source": [
        "# importa o pacote DecisionTreeRegressor\n",
        "from sklearn.tree import DecisionTreeRegressor"
      ],
      "execution_count": 69,
      "outputs": []
    },
    {
      "cell_type": "code",
      "metadata": {
        "id": "9GWqPqMatkiv",
        "colab_type": "code",
        "colab": {}
      },
      "source": [
        "# cria um objeto do tipo DecisionTreeRegressor\n",
        "regressor = DecisionTreeRegressor()"
      ],
      "execution_count": 70,
      "outputs": []
    },
    {
      "cell_type": "code",
      "metadata": {
        "id": "aesYvbgetkgX",
        "colab_type": "code",
        "colab": {}
      },
      "source": [
        "# treina o algoritmo\n",
        "regressor.fit(X_train, y_train)"
      ],
      "execution_count": 71,
      "outputs": [
        {
          "output_type": "execute_result",
          "data": {
            "text/plain": "DecisionTreeRegressor(criterion='mse', max_depth=None, max_features=None,\n                      max_leaf_nodes=None, min_impurity_decrease=0.0,\n                      min_impurity_split=None, min_samples_leaf=1,\n                      min_samples_split=2, min_weight_fraction_leaf=0.0,\n                      presort=False, random_state=None, splitter='best')"
          },
          "metadata": {},
          "execution_count": 71
        }
      ]
    },
    {
      "cell_type": "markdown",
      "metadata": {
        "id": "WHDUHZgHyztm",
        "colab_type": "text"
      },
      "source": [
        "Avaliando o modelo de Árvore de Decisão"
      ]
    },
    {
      "cell_type": "code",
      "metadata": {
        "id": "3rnUwS6Vtkdw",
        "colab_type": "code",
        "colab": {}
      },
      "source": [
        "# fazendo as previsões\n",
        "y_pred = regressor.predict(X_test)"
      ],
      "execution_count": 72,
      "outputs": []
    },
    {
      "cell_type": "code",
      "metadata": {
        "id": "WPIrhQh_Lt4i",
        "colab_type": "code",
        "colab": {}
      },
      "source": [
        "# Adicionando o valor do modelo no dataframe df_results\n",
        "df_results['valor_predito_arvore'] = y_pred"
      ],
      "execution_count": 73,
      "outputs": []
    },
    {
      "cell_type": "code",
      "metadata": {
        "id": "z3bMNJK0LASe",
        "colab_type": "code",
        "colab": {}
      },
      "source": [
        "# visualiza o dataframe df_results\n",
        "df_results.head(10)"
      ],
      "execution_count": 74,
      "outputs": [
        {
          "output_type": "execute_result",
          "data": {
            "text/plain": "   valor_real  valor_predito_baseline  valor_predito_reg_linear  \\\n0        18.5               20.130425                 18.459170   \n1        12.7               20.130425                 12.279894   \n2        21.4               20.130425                 24.588307   \n3        23.7               20.130425                 28.254693   \n4        20.8               20.130425                 18.195439   \n5        25.0               20.130425                 21.630648   \n6         9.7               20.130425                 11.319198   \n7        14.9               20.130425                 14.561032   \n8        34.9               35.719231                 31.623717   \n9        31.6               35.719231                 29.588133   \n\n   valor_predito_arvore  \n0                  16.6  \n1                  23.2  \n2                  24.5  \n3                  23.3  \n4                  23.0  \n5                  27.5  \n6                   7.2  \n7                  17.1  \n8                  36.4  \n9                  31.7  ",
            "text/html": "<div>\n<style scoped>\n    .dataframe tbody tr th:only-of-type {\n        vertical-align: middle;\n    }\n\n    .dataframe tbody tr th {\n        vertical-align: top;\n    }\n\n    .dataframe thead th {\n        text-align: right;\n    }\n</style>\n<table border=\"1\" class=\"dataframe\">\n  <thead>\n    <tr style=\"text-align: right;\">\n      <th></th>\n      <th>valor_real</th>\n      <th>valor_predito_baseline</th>\n      <th>valor_predito_reg_linear</th>\n      <th>valor_predito_arvore</th>\n    </tr>\n  </thead>\n  <tbody>\n    <tr>\n      <th>0</th>\n      <td>18.5</td>\n      <td>20.130425</td>\n      <td>18.459170</td>\n      <td>16.6</td>\n    </tr>\n    <tr>\n      <th>1</th>\n      <td>12.7</td>\n      <td>20.130425</td>\n      <td>12.279894</td>\n      <td>23.2</td>\n    </tr>\n    <tr>\n      <th>2</th>\n      <td>21.4</td>\n      <td>20.130425</td>\n      <td>24.588307</td>\n      <td>24.5</td>\n    </tr>\n    <tr>\n      <th>3</th>\n      <td>23.7</td>\n      <td>20.130425</td>\n      <td>28.254693</td>\n      <td>23.3</td>\n    </tr>\n    <tr>\n      <th>4</th>\n      <td>20.8</td>\n      <td>20.130425</td>\n      <td>18.195439</td>\n      <td>23.0</td>\n    </tr>\n    <tr>\n      <th>5</th>\n      <td>25.0</td>\n      <td>20.130425</td>\n      <td>21.630648</td>\n      <td>27.5</td>\n    </tr>\n    <tr>\n      <th>6</th>\n      <td>9.7</td>\n      <td>20.130425</td>\n      <td>11.319198</td>\n      <td>7.2</td>\n    </tr>\n    <tr>\n      <th>7</th>\n      <td>14.9</td>\n      <td>20.130425</td>\n      <td>14.561032</td>\n      <td>17.1</td>\n    </tr>\n    <tr>\n      <th>8</th>\n      <td>34.9</td>\n      <td>35.719231</td>\n      <td>31.623717</td>\n      <td>36.4</td>\n    </tr>\n    <tr>\n      <th>9</th>\n      <td>31.6</td>\n      <td>35.719231</td>\n      <td>29.588133</td>\n      <td>31.7</td>\n    </tr>\n  </tbody>\n</table>\n</div>"
          },
          "metadata": {},
          "execution_count": 74
        }
      ]
    },
    {
      "cell_type": "code",
      "metadata": {
        "id": "PV-RAtLPN12A",
        "colab_type": "code",
        "colab": {}
      },
      "source": [
        "import plotly.graph_objects as go\n",
        "\n",
        "# cria uma figura\n",
        "fig = go.Figure()\n",
        "\n",
        "# Linha com os dados de teste\n",
        "fig.add_trace(go.Scatter(x=df_results.index,\n",
        "                         y=df_results.valor_real,\n",
        "                         mode='lines+markers',\n",
        "                         name='Valor Real'))\n",
        "\n",
        "# Linha com os dados de teste\n",
        "fig.add_trace(go.Scatter(x=df_results.index,\n",
        "                         y=df_results.valor_predito_baseline,\n",
        "                         mode='lines+markers',\n",
        "                         name='Valor Predito Baseline'))\n",
        "\n",
        "\n",
        "# Linha com os dados de teste\n",
        "fig.add_trace(go.Scatter(x=df_results.index,\n",
        "                         y=df_results.valor_predito_reg_linear,\n",
        "                         mode='lines+markers',\n",
        "                         name='Valor Predito Reg Liner'))\n",
        "\n",
        "# Linha com os dados preditos\n",
        "fig.add_trace(go.Scatter(x=df_results.index,\n",
        "                         y=df_results.valor_predito_arvore,\n",
        "                         mode='lines+markers',\n",
        "                         name='Valor Predito Arvore'))\n",
        "# Plota a figura\n",
        "fig.show()"
      ],
      "execution_count": 75,
      "outputs": [
        {
          "output_type": "display_data",
          "data": {
            "application/vnd.plotly.v1+json": {
              "config": {
                "plotlyServerURL": "https://plot.ly"
              },
              "data": [
                {
                  "mode": "lines+markers",
                  "name": "Valor Real",
                  "type": "scatter",
                  "x": [
                    0,
                    1,
                    2,
                    3,
                    4,
                    5,
                    6,
                    7,
                    8,
                    9,
                    10,
                    11,
                    12,
                    13,
                    14,
                    15,
                    16,
                    17,
                    18,
                    19,
                    20,
                    21,
                    22,
                    23,
                    24,
                    25,
                    26,
                    27,
                    28,
                    29,
                    30,
                    31,
                    32,
                    33,
                    34,
                    35,
                    36,
                    37,
                    38,
                    39,
                    40,
                    41,
                    42,
                    43,
                    44,
                    45,
                    46,
                    47,
                    48,
                    49,
                    50,
                    51,
                    52,
                    53,
                    54,
                    55,
                    56,
                    57,
                    58,
                    59,
                    60,
                    61,
                    62,
                    63,
                    64,
                    65,
                    66,
                    67,
                    68,
                    69,
                    70,
                    71,
                    72,
                    73,
                    74,
                    75,
                    76,
                    77,
                    78,
                    79,
                    80,
                    81,
                    82,
                    83,
                    84,
                    85,
                    86,
                    87,
                    88,
                    89,
                    90,
                    91,
                    92,
                    93,
                    94,
                    95,
                    96,
                    97
                  ],
                  "y": [
                    18.5,
                    12.7,
                    21.4,
                    23.7,
                    20.8,
                    25,
                    9.7,
                    14.9,
                    34.9,
                    31.6,
                    24.7,
                    22.9,
                    33.2,
                    9.6,
                    30.5,
                    19.2,
                    30.3,
                    15.4,
                    24.3,
                    24.4,
                    21.5,
                    27.9,
                    17.3,
                    21.4,
                    21.7,
                    24.4,
                    8.5,
                    15,
                    11.5,
                    13.6,
                    24.4,
                    7.4,
                    44,
                    21.7,
                    19.3,
                    16.1,
                    29,
                    26.4,
                    20.3,
                    10.8,
                    5,
                    19.6,
                    23.1,
                    23.9,
                    17.5,
                    13.5,
                    48.8,
                    26.2,
                    19.7,
                    14.2,
                    11,
                    19,
                    21.7,
                    18.4,
                    33.4,
                    14,
                    24.7,
                    43.8,
                    48.5,
                    25,
                    22.6,
                    21.2,
                    22.4,
                    23.8,
                    19.9,
                    16.5,
                    16.7,
                    17.2,
                    13.1,
                    19.1,
                    18.5,
                    22.2,
                    22.6,
                    19.4,
                    15.2,
                    19.8,
                    19.4,
                    21.6,
                    18.2,
                    19.6,
                    19.6,
                    23,
                    7,
                    17.6,
                    25,
                    41.3,
                    24.1,
                    22.6,
                    18.7,
                    22.6,
                    13.1,
                    22.2,
                    16.1,
                    39.8,
                    25,
                    20.5,
                    10.4,
                    20.4
                  ]
                },
                {
                  "mode": "lines+markers",
                  "name": "Valor Predito Baseline",
                  "type": "scatter",
                  "x": [
                    0,
                    1,
                    2,
                    3,
                    4,
                    5,
                    6,
                    7,
                    8,
                    9,
                    10,
                    11,
                    12,
                    13,
                    14,
                    15,
                    16,
                    17,
                    18,
                    19,
                    20,
                    21,
                    22,
                    23,
                    24,
                    25,
                    26,
                    27,
                    28,
                    29,
                    30,
                    31,
                    32,
                    33,
                    34,
                    35,
                    36,
                    37,
                    38,
                    39,
                    40,
                    41,
                    42,
                    43,
                    44,
                    45,
                    46,
                    47,
                    48,
                    49,
                    50,
                    51,
                    52,
                    53,
                    54,
                    55,
                    56,
                    57,
                    58,
                    59,
                    60,
                    61,
                    62,
                    63,
                    64,
                    65,
                    66,
                    67,
                    68,
                    69,
                    70,
                    71,
                    72,
                    73,
                    74,
                    75,
                    76,
                    77,
                    78,
                    79,
                    80,
                    81,
                    82,
                    83,
                    84,
                    85,
                    86,
                    87,
                    88,
                    89,
                    90,
                    91,
                    92,
                    93,
                    94,
                    95,
                    96,
                    97
                  ],
                  "y": [
                    20.1304245283019,
                    20.1304245283019,
                    20.1304245283019,
                    20.1304245283019,
                    20.1304245283019,
                    20.1304245283019,
                    20.1304245283019,
                    20.1304245283019,
                    35.71923076923077,
                    35.71923076923077,
                    20.1304245283019,
                    20.1304245283019,
                    35.71923076923077,
                    20.1304245283019,
                    20.1304245283019,
                    20.1304245283019,
                    35.71923076923077,
                    20.1304245283019,
                    20.1304245283019,
                    20.1304245283019,
                    20.1304245283019,
                    20.1304245283019,
                    20.1304245283019,
                    20.1304245283019,
                    20.1304245283019,
                    20.1304245283019,
                    20.1304245283019,
                    35.71923076923077,
                    20.1304245283019,
                    20.1304245283019,
                    20.1304245283019,
                    20.1304245283019,
                    35.71923076923077,
                    20.1304245283019,
                    20.1304245283019,
                    14.921428571428574,
                    35.71923076923077,
                    20.1304245283019,
                    20.1304245283019,
                    20.1304245283019,
                    20.1304245283019,
                    20.1304245283019,
                    20.1304245283019,
                    20.1304245283019,
                    20.1304245283019,
                    20.1304245283019,
                    35.71923076923077,
                    20.1304245283019,
                    20.1304245283019,
                    20.1304245283019,
                    20.1304245283019,
                    20.1304245283019,
                    20.1304245283019,
                    20.1304245283019,
                    35.71923076923077,
                    20.1304245283019,
                    20.1304245283019,
                    35.71923076923077,
                    35.71923076923077,
                    20.1304245283019,
                    20.1304245283019,
                    20.1304245283019,
                    20.1304245283019,
                    20.1304245283019,
                    20.1304245283019,
                    20.1304245283019,
                    20.1304245283019,
                    20.1304245283019,
                    20.1304245283019,
                    20.1304245283019,
                    20.1304245283019,
                    20.1304245283019,
                    20.1304245283019,
                    20.1304245283019,
                    20.1304245283019,
                    20.1304245283019,
                    20.1304245283019,
                    20.1304245283019,
                    20.1304245283019,
                    20.1304245283019,
                    20.1304245283019,
                    20.1304245283019,
                    14.921428571428574,
                    20.1304245283019,
                    20.1304245283019,
                    20.1304245283019,
                    20.1304245283019,
                    20.1304245283019,
                    20.1304245283019,
                    20.1304245283019,
                    20.1304245283019,
                    20.1304245283019,
                    20.1304245283019,
                    35.71923076923077,
                    35.71923076923077,
                    20.1304245283019,
                    20.1304245283019,
                    20.1304245283019
                  ]
                },
                {
                  "mode": "lines+markers",
                  "name": "Valor Predito Reg Liner",
                  "type": "scatter",
                  "x": [
                    0,
                    1,
                    2,
                    3,
                    4,
                    5,
                    6,
                    7,
                    8,
                    9,
                    10,
                    11,
                    12,
                    13,
                    14,
                    15,
                    16,
                    17,
                    18,
                    19,
                    20,
                    21,
                    22,
                    23,
                    24,
                    25,
                    26,
                    27,
                    28,
                    29,
                    30,
                    31,
                    32,
                    33,
                    34,
                    35,
                    36,
                    37,
                    38,
                    39,
                    40,
                    41,
                    42,
                    43,
                    44,
                    45,
                    46,
                    47,
                    48,
                    49,
                    50,
                    51,
                    52,
                    53,
                    54,
                    55,
                    56,
                    57,
                    58,
                    59,
                    60,
                    61,
                    62,
                    63,
                    64,
                    65,
                    66,
                    67,
                    68,
                    69,
                    70,
                    71,
                    72,
                    73,
                    74,
                    75,
                    76,
                    77,
                    78,
                    79,
                    80,
                    81,
                    82,
                    83,
                    84,
                    85,
                    86,
                    87,
                    88,
                    89,
                    90,
                    91,
                    92,
                    93,
                    94,
                    95,
                    96,
                    97
                  ],
                  "y": [
                    18.459169620175622,
                    12.27989416415652,
                    24.588306565387427,
                    28.2546932806687,
                    18.195438537343794,
                    21.630648235689584,
                    11.319198030946154,
                    14.561032219959824,
                    31.62371677304009,
                    29.588132607557004,
                    28.603936015257425,
                    26.482125815783228,
                    29.966034207781306,
                    14.553173045326123,
                    30.278248711999726,
                    24.630039158761864,
                    33.23345824950146,
                    16.931248570273684,
                    24.99446421909778,
                    26.46644144086013,
                    22.813639524070084,
                    27.10339073181635,
                    12.524996632311233,
                    19.379297519749333,
                    21.58154597100254,
                    23.877006702039058,
                    14.085855797820356,
                    21.230146967559783,
                    13.643973122717863,
                    14.716712882017287,
                    25.800161542012095,
                    7.867171947538871,
                    33.02051098404502,
                    26.04521891780928,
                    24.036781665116372,
                    17.77540345668654,
                    33.22709163662169,
                    27.517944398741665,
                    21.18738356258344,
                    10.957868727277681,
                    7.507685772949113,
                    19.41858658453992,
                    27.39333995128659,
                    23.8410182563615,
                    24.74227083856386,
                    16.990723698020272,
                    35.47974424493102,
                    26.15991291761714,
                    22.496912181783877,
                    17.90478819611412,
                    14.154116782257073,
                    21.181885684574734,
                    20.624525388320663,
                    21.177587641065532,
                    29.49552122400647,
                    14.230041126797467,
                    26.544112805265776,
                    31.088045066806597,
                    33.726935599253906,
                    24.89158173535178,
                    24.187944371239205,
                    23.86472590886008,
                    22.052781673616483,
                    21.38994045785448,
                    18.845951646544716,
                    27.841582054943295,
                    17.93632331758325,
                    13.823897089289785,
                    17.67613991103613,
                    19.294638279682893,
                    20.582306559638145,
                    25.39064984663409,
                    26.23596042344075,
                    18.89486986816471,
                    14.748302917740688,
                    26.81867562501565,
                    24.878238751496408,
                    25.213916812117628,
                    21.19251508313218,
                    20.512703338801487,
                    18.27047762963257,
                    21.370391016885534,
                    -0.0944426495523345,
                    20.958291503542682,
                    28.55253759121914,
                    28.021862079991507,
                    27.66690749195503,
                    21.45842164716916,
                    21.377824334771667,
                    27.62100650340493,
                    16.075247361056487,
                    26.092542124103048,
                    17.756087552806495,
                    29.38959640373895,
                    25.474439973258512,
                    15.839468986221023,
                    8.44698583407829,
                    20.760205429443275
                  ]
                },
                {
                  "mode": "lines+markers",
                  "name": "Valor Predito Arvore",
                  "type": "scatter",
                  "x": [
                    0,
                    1,
                    2,
                    3,
                    4,
                    5,
                    6,
                    7,
                    8,
                    9,
                    10,
                    11,
                    12,
                    13,
                    14,
                    15,
                    16,
                    17,
                    18,
                    19,
                    20,
                    21,
                    22,
                    23,
                    24,
                    25,
                    26,
                    27,
                    28,
                    29,
                    30,
                    31,
                    32,
                    33,
                    34,
                    35,
                    36,
                    37,
                    38,
                    39,
                    40,
                    41,
                    42,
                    43,
                    44,
                    45,
                    46,
                    47,
                    48,
                    49,
                    50,
                    51,
                    52,
                    53,
                    54,
                    55,
                    56,
                    57,
                    58,
                    59,
                    60,
                    61,
                    62,
                    63,
                    64,
                    65,
                    66,
                    67,
                    68,
                    69,
                    70,
                    71,
                    72,
                    73,
                    74,
                    75,
                    76,
                    77,
                    78,
                    79,
                    80,
                    81,
                    82,
                    83,
                    84,
                    85,
                    86,
                    87,
                    88,
                    89,
                    90,
                    91,
                    92,
                    93,
                    94,
                    95,
                    96,
                    97
                  ],
                  "y": [
                    16.6,
                    23.2,
                    24.5,
                    23.3,
                    23,
                    27.5,
                    7.2,
                    17.1,
                    36.4,
                    31.7,
                    24.5,
                    22.2,
                    35.4,
                    14.6,
                    29.8,
                    23.1,
                    21.9,
                    13.8,
                    24.5,
                    23.9,
                    15.3,
                    28.5,
                    15,
                    20.6,
                    23.4,
                    18.5,
                    12.1,
                    30.7,
                    12.8,
                    14.3,
                    22.2,
                    10.5,
                    45.4,
                    23.2,
                    23.2,
                    14.5,
                    32.2,
                    23.3,
                    18.8,
                    8.4,
                    5.6,
                    19.2,
                    25,
                    22.2,
                    17.2,
                    14.5,
                    43.1,
                    23.3,
                    17.1,
                    22.4,
                    9.5,
                    19.5,
                    19.6,
                    21.7,
                    36.1,
                    14.4,
                    23.8,
                    38.7,
                    34.7,
                    24.3,
                    27.1,
                    21,
                    26.5,
                    19.1,
                    15.2,
                    22,
                    20.1,
                    27.5,
                    15.6,
                    20,
                    19.4,
                    20.7,
                    20.5,
                    22.4,
                    14.3,
                    19.4,
                    23.2,
                    23.8,
                    25,
                    15.3,
                    19.3,
                    20.6,
                    8.3,
                    17.4,
                    34.9,
                    27,
                    23.7,
                    19.3,
                    19.5,
                    32,
                    12.7,
                    22,
                    18.4,
                    36.1,
                    28.7,
                    18.8,
                    8.3,
                    19.3
                  ]
                }
              ],
              "layout": {
                "template": {
                  "data": {
                    "bar": [
                      {
                        "error_x": {
                          "color": "#2a3f5f"
                        },
                        "error_y": {
                          "color": "#2a3f5f"
                        },
                        "marker": {
                          "line": {
                            "color": "#E5ECF6",
                            "width": 0.5
                          }
                        },
                        "type": "bar"
                      }
                    ],
                    "barpolar": [
                      {
                        "marker": {
                          "line": {
                            "color": "#E5ECF6",
                            "width": 0.5
                          }
                        },
                        "type": "barpolar"
                      }
                    ],
                    "carpet": [
                      {
                        "aaxis": {
                          "endlinecolor": "#2a3f5f",
                          "gridcolor": "white",
                          "linecolor": "white",
                          "minorgridcolor": "white",
                          "startlinecolor": "#2a3f5f"
                        },
                        "baxis": {
                          "endlinecolor": "#2a3f5f",
                          "gridcolor": "white",
                          "linecolor": "white",
                          "minorgridcolor": "white",
                          "startlinecolor": "#2a3f5f"
                        },
                        "type": "carpet"
                      }
                    ],
                    "choropleth": [
                      {
                        "colorbar": {
                          "outlinewidth": 0,
                          "ticks": ""
                        },
                        "type": "choropleth"
                      }
                    ],
                    "contour": [
                      {
                        "colorbar": {
                          "outlinewidth": 0,
                          "ticks": ""
                        },
                        "colorscale": [
                          [
                            0,
                            "#0d0887"
                          ],
                          [
                            0.1111111111111111,
                            "#46039f"
                          ],
                          [
                            0.2222222222222222,
                            "#7201a8"
                          ],
                          [
                            0.3333333333333333,
                            "#9c179e"
                          ],
                          [
                            0.4444444444444444,
                            "#bd3786"
                          ],
                          [
                            0.5555555555555556,
                            "#d8576b"
                          ],
                          [
                            0.6666666666666666,
                            "#ed7953"
                          ],
                          [
                            0.7777777777777778,
                            "#fb9f3a"
                          ],
                          [
                            0.8888888888888888,
                            "#fdca26"
                          ],
                          [
                            1,
                            "#f0f921"
                          ]
                        ],
                        "type": "contour"
                      }
                    ],
                    "contourcarpet": [
                      {
                        "colorbar": {
                          "outlinewidth": 0,
                          "ticks": ""
                        },
                        "type": "contourcarpet"
                      }
                    ],
                    "heatmap": [
                      {
                        "colorbar": {
                          "outlinewidth": 0,
                          "ticks": ""
                        },
                        "colorscale": [
                          [
                            0,
                            "#0d0887"
                          ],
                          [
                            0.1111111111111111,
                            "#46039f"
                          ],
                          [
                            0.2222222222222222,
                            "#7201a8"
                          ],
                          [
                            0.3333333333333333,
                            "#9c179e"
                          ],
                          [
                            0.4444444444444444,
                            "#bd3786"
                          ],
                          [
                            0.5555555555555556,
                            "#d8576b"
                          ],
                          [
                            0.6666666666666666,
                            "#ed7953"
                          ],
                          [
                            0.7777777777777778,
                            "#fb9f3a"
                          ],
                          [
                            0.8888888888888888,
                            "#fdca26"
                          ],
                          [
                            1,
                            "#f0f921"
                          ]
                        ],
                        "type": "heatmap"
                      }
                    ],
                    "heatmapgl": [
                      {
                        "colorbar": {
                          "outlinewidth": 0,
                          "ticks": ""
                        },
                        "colorscale": [
                          [
                            0,
                            "#0d0887"
                          ],
                          [
                            0.1111111111111111,
                            "#46039f"
                          ],
                          [
                            0.2222222222222222,
                            "#7201a8"
                          ],
                          [
                            0.3333333333333333,
                            "#9c179e"
                          ],
                          [
                            0.4444444444444444,
                            "#bd3786"
                          ],
                          [
                            0.5555555555555556,
                            "#d8576b"
                          ],
                          [
                            0.6666666666666666,
                            "#ed7953"
                          ],
                          [
                            0.7777777777777778,
                            "#fb9f3a"
                          ],
                          [
                            0.8888888888888888,
                            "#fdca26"
                          ],
                          [
                            1,
                            "#f0f921"
                          ]
                        ],
                        "type": "heatmapgl"
                      }
                    ],
                    "histogram": [
                      {
                        "marker": {
                          "colorbar": {
                            "outlinewidth": 0,
                            "ticks": ""
                          }
                        },
                        "type": "histogram"
                      }
                    ],
                    "histogram2d": [
                      {
                        "colorbar": {
                          "outlinewidth": 0,
                          "ticks": ""
                        },
                        "colorscale": [
                          [
                            0,
                            "#0d0887"
                          ],
                          [
                            0.1111111111111111,
                            "#46039f"
                          ],
                          [
                            0.2222222222222222,
                            "#7201a8"
                          ],
                          [
                            0.3333333333333333,
                            "#9c179e"
                          ],
                          [
                            0.4444444444444444,
                            "#bd3786"
                          ],
                          [
                            0.5555555555555556,
                            "#d8576b"
                          ],
                          [
                            0.6666666666666666,
                            "#ed7953"
                          ],
                          [
                            0.7777777777777778,
                            "#fb9f3a"
                          ],
                          [
                            0.8888888888888888,
                            "#fdca26"
                          ],
                          [
                            1,
                            "#f0f921"
                          ]
                        ],
                        "type": "histogram2d"
                      }
                    ],
                    "histogram2dcontour": [
                      {
                        "colorbar": {
                          "outlinewidth": 0,
                          "ticks": ""
                        },
                        "colorscale": [
                          [
                            0,
                            "#0d0887"
                          ],
                          [
                            0.1111111111111111,
                            "#46039f"
                          ],
                          [
                            0.2222222222222222,
                            "#7201a8"
                          ],
                          [
                            0.3333333333333333,
                            "#9c179e"
                          ],
                          [
                            0.4444444444444444,
                            "#bd3786"
                          ],
                          [
                            0.5555555555555556,
                            "#d8576b"
                          ],
                          [
                            0.6666666666666666,
                            "#ed7953"
                          ],
                          [
                            0.7777777777777778,
                            "#fb9f3a"
                          ],
                          [
                            0.8888888888888888,
                            "#fdca26"
                          ],
                          [
                            1,
                            "#f0f921"
                          ]
                        ],
                        "type": "histogram2dcontour"
                      }
                    ],
                    "mesh3d": [
                      {
                        "colorbar": {
                          "outlinewidth": 0,
                          "ticks": ""
                        },
                        "type": "mesh3d"
                      }
                    ],
                    "parcoords": [
                      {
                        "line": {
                          "colorbar": {
                            "outlinewidth": 0,
                            "ticks": ""
                          }
                        },
                        "type": "parcoords"
                      }
                    ],
                    "pie": [
                      {
                        "automargin": true,
                        "type": "pie"
                      }
                    ],
                    "scatter": [
                      {
                        "marker": {
                          "colorbar": {
                            "outlinewidth": 0,
                            "ticks": ""
                          }
                        },
                        "type": "scatter"
                      }
                    ],
                    "scatter3d": [
                      {
                        "line": {
                          "colorbar": {
                            "outlinewidth": 0,
                            "ticks": ""
                          }
                        },
                        "marker": {
                          "colorbar": {
                            "outlinewidth": 0,
                            "ticks": ""
                          }
                        },
                        "type": "scatter3d"
                      }
                    ],
                    "scattercarpet": [
                      {
                        "marker": {
                          "colorbar": {
                            "outlinewidth": 0,
                            "ticks": ""
                          }
                        },
                        "type": "scattercarpet"
                      }
                    ],
                    "scattergeo": [
                      {
                        "marker": {
                          "colorbar": {
                            "outlinewidth": 0,
                            "ticks": ""
                          }
                        },
                        "type": "scattergeo"
                      }
                    ],
                    "scattergl": [
                      {
                        "marker": {
                          "colorbar": {
                            "outlinewidth": 0,
                            "ticks": ""
                          }
                        },
                        "type": "scattergl"
                      }
                    ],
                    "scattermapbox": [
                      {
                        "marker": {
                          "colorbar": {
                            "outlinewidth": 0,
                            "ticks": ""
                          }
                        },
                        "type": "scattermapbox"
                      }
                    ],
                    "scatterpolar": [
                      {
                        "marker": {
                          "colorbar": {
                            "outlinewidth": 0,
                            "ticks": ""
                          }
                        },
                        "type": "scatterpolar"
                      }
                    ],
                    "scatterpolargl": [
                      {
                        "marker": {
                          "colorbar": {
                            "outlinewidth": 0,
                            "ticks": ""
                          }
                        },
                        "type": "scatterpolargl"
                      }
                    ],
                    "scatterternary": [
                      {
                        "marker": {
                          "colorbar": {
                            "outlinewidth": 0,
                            "ticks": ""
                          }
                        },
                        "type": "scatterternary"
                      }
                    ],
                    "surface": [
                      {
                        "colorbar": {
                          "outlinewidth": 0,
                          "ticks": ""
                        },
                        "colorscale": [
                          [
                            0,
                            "#0d0887"
                          ],
                          [
                            0.1111111111111111,
                            "#46039f"
                          ],
                          [
                            0.2222222222222222,
                            "#7201a8"
                          ],
                          [
                            0.3333333333333333,
                            "#9c179e"
                          ],
                          [
                            0.4444444444444444,
                            "#bd3786"
                          ],
                          [
                            0.5555555555555556,
                            "#d8576b"
                          ],
                          [
                            0.6666666666666666,
                            "#ed7953"
                          ],
                          [
                            0.7777777777777778,
                            "#fb9f3a"
                          ],
                          [
                            0.8888888888888888,
                            "#fdca26"
                          ],
                          [
                            1,
                            "#f0f921"
                          ]
                        ],
                        "type": "surface"
                      }
                    ],
                    "table": [
                      {
                        "cells": {
                          "fill": {
                            "color": "#EBF0F8"
                          },
                          "line": {
                            "color": "white"
                          }
                        },
                        "header": {
                          "fill": {
                            "color": "#C8D4E3"
                          },
                          "line": {
                            "color": "white"
                          }
                        },
                        "type": "table"
                      }
                    ]
                  },
                  "layout": {
                    "annotationdefaults": {
                      "arrowcolor": "#2a3f5f",
                      "arrowhead": 0,
                      "arrowwidth": 1
                    },
                    "coloraxis": {
                      "colorbar": {
                        "outlinewidth": 0,
                        "ticks": ""
                      }
                    },
                    "colorscale": {
                      "diverging": [
                        [
                          0,
                          "#8e0152"
                        ],
                        [
                          0.1,
                          "#c51b7d"
                        ],
                        [
                          0.2,
                          "#de77ae"
                        ],
                        [
                          0.3,
                          "#f1b6da"
                        ],
                        [
                          0.4,
                          "#fde0ef"
                        ],
                        [
                          0.5,
                          "#f7f7f7"
                        ],
                        [
                          0.6,
                          "#e6f5d0"
                        ],
                        [
                          0.7,
                          "#b8e186"
                        ],
                        [
                          0.8,
                          "#7fbc41"
                        ],
                        [
                          0.9,
                          "#4d9221"
                        ],
                        [
                          1,
                          "#276419"
                        ]
                      ],
                      "sequential": [
                        [
                          0,
                          "#0d0887"
                        ],
                        [
                          0.1111111111111111,
                          "#46039f"
                        ],
                        [
                          0.2222222222222222,
                          "#7201a8"
                        ],
                        [
                          0.3333333333333333,
                          "#9c179e"
                        ],
                        [
                          0.4444444444444444,
                          "#bd3786"
                        ],
                        [
                          0.5555555555555556,
                          "#d8576b"
                        ],
                        [
                          0.6666666666666666,
                          "#ed7953"
                        ],
                        [
                          0.7777777777777778,
                          "#fb9f3a"
                        ],
                        [
                          0.8888888888888888,
                          "#fdca26"
                        ],
                        [
                          1,
                          "#f0f921"
                        ]
                      ],
                      "sequentialminus": [
                        [
                          0,
                          "#0d0887"
                        ],
                        [
                          0.1111111111111111,
                          "#46039f"
                        ],
                        [
                          0.2222222222222222,
                          "#7201a8"
                        ],
                        [
                          0.3333333333333333,
                          "#9c179e"
                        ],
                        [
                          0.4444444444444444,
                          "#bd3786"
                        ],
                        [
                          0.5555555555555556,
                          "#d8576b"
                        ],
                        [
                          0.6666666666666666,
                          "#ed7953"
                        ],
                        [
                          0.7777777777777778,
                          "#fb9f3a"
                        ],
                        [
                          0.8888888888888888,
                          "#fdca26"
                        ],
                        [
                          1,
                          "#f0f921"
                        ]
                      ]
                    },
                    "colorway": [
                      "#636efa",
                      "#EF553B",
                      "#00cc96",
                      "#ab63fa",
                      "#FFA15A",
                      "#19d3f3",
                      "#FF6692",
                      "#B6E880",
                      "#FF97FF",
                      "#FECB52"
                    ],
                    "font": {
                      "color": "#2a3f5f"
                    },
                    "geo": {
                      "bgcolor": "white",
                      "lakecolor": "white",
                      "landcolor": "#E5ECF6",
                      "showlakes": true,
                      "showland": true,
                      "subunitcolor": "white"
                    },
                    "hoverlabel": {
                      "align": "left"
                    },
                    "hovermode": "closest",
                    "mapbox": {
                      "style": "light"
                    },
                    "paper_bgcolor": "white",
                    "plot_bgcolor": "#E5ECF6",
                    "polar": {
                      "angularaxis": {
                        "gridcolor": "white",
                        "linecolor": "white",
                        "ticks": ""
                      },
                      "bgcolor": "#E5ECF6",
                      "radialaxis": {
                        "gridcolor": "white",
                        "linecolor": "white",
                        "ticks": ""
                      }
                    },
                    "scene": {
                      "xaxis": {
                        "backgroundcolor": "#E5ECF6",
                        "gridcolor": "white",
                        "gridwidth": 2,
                        "linecolor": "white",
                        "showbackground": true,
                        "ticks": "",
                        "zerolinecolor": "white"
                      },
                      "yaxis": {
                        "backgroundcolor": "#E5ECF6",
                        "gridcolor": "white",
                        "gridwidth": 2,
                        "linecolor": "white",
                        "showbackground": true,
                        "ticks": "",
                        "zerolinecolor": "white"
                      },
                      "zaxis": {
                        "backgroundcolor": "#E5ECF6",
                        "gridcolor": "white",
                        "gridwidth": 2,
                        "linecolor": "white",
                        "showbackground": true,
                        "ticks": "",
                        "zerolinecolor": "white"
                      }
                    },
                    "shapedefaults": {
                      "line": {
                        "color": "#2a3f5f"
                      }
                    },
                    "ternary": {
                      "aaxis": {
                        "gridcolor": "white",
                        "linecolor": "white",
                        "ticks": ""
                      },
                      "baxis": {
                        "gridcolor": "white",
                        "linecolor": "white",
                        "ticks": ""
                      },
                      "bgcolor": "#E5ECF6",
                      "caxis": {
                        "gridcolor": "white",
                        "linecolor": "white",
                        "ticks": ""
                      }
                    },
                    "title": {
                      "x": 0.05
                    },
                    "xaxis": {
                      "automargin": true,
                      "gridcolor": "white",
                      "linecolor": "white",
                      "ticks": "",
                      "title": {
                        "standoff": 15
                      },
                      "zerolinecolor": "white",
                      "zerolinewidth": 2
                    },
                    "yaxis": {
                      "automargin": true,
                      "gridcolor": "white",
                      "linecolor": "white",
                      "ticks": "",
                      "title": {
                        "standoff": 15
                      },
                      "zerolinecolor": "white",
                      "zerolinewidth": 2
                    }
                  }
                }
              }
            }
          },
          "metadata": {}
        }
      ]
    },
    {
      "cell_type": "markdown",
      "metadata": {
        "id": "exqvETJrM0BB",
        "colab_type": "text"
      },
      "source": [
        "Avaliação do Modelo"
      ]
    },
    {
      "cell_type": "code",
      "metadata": {
        "id": "VpR1FT389JN_",
        "colab_type": "code",
        "colab": {}
      },
      "source": [
        "# calcula a métrica rmse\n",
        "rmse = (np.sqrt(mean_squared_error(y_test, y_pred)))"
      ],
      "execution_count": 76,
      "outputs": []
    },
    {
      "cell_type": "code",
      "metadata": {
        "id": "cEBz7JpJyYcm",
        "colab_type": "code",
        "colab": {}
      },
      "source": [
        "# imprime a performance do modelo\n",
        "print ('Performance do modelo avaliado com os dados de teste:')\n",
        "print('\\nRMSE é: {} '.format(rmse))"
      ],
      "execution_count": 77,
      "outputs": [
        {
          "output_type": "stream",
          "name": "stdout",
          "text": "Performance do modelo avaliado com os dados de teste:\n\nRMSE é: 4.322591342975571 \n"
        }
      ]
    },
    {
      "cell_type": "markdown",
      "metadata": {
        "id": "IPf53dk8cQ4A",
        "colab_type": "text"
      },
      "source": [
        "#### Random Forest\n",
        "\n",
        "- `Método Ensemble`\n",
        "- `Mais robustez para os modelos`"
      ]
    },
    {
      "cell_type": "code",
      "metadata": {
        "id": "dXpfe5pfWcxs",
        "colab_type": "code",
        "colab": {}
      },
      "source": [
        "# Importa o método RandomForestRegressor\n",
        "from sklearn.ensemble import RandomForestRegressor"
      ],
      "execution_count": 78,
      "outputs": []
    },
    {
      "cell_type": "code",
      "metadata": {
        "id": "G-TcDYH6WcqX",
        "colab_type": "code",
        "colab": {}
      },
      "source": [
        "# cria o objeto rf_regressor\n",
        "rf_regressor = RandomForestRegressor()"
      ],
      "execution_count": 97,
      "outputs": []
    },
    {
      "cell_type": "code",
      "metadata": {
        "id": "PXwdpDXdWcm5",
        "colab_type": "code",
        "colab": {}
      },
      "source": [
        "# treina o algoritmo\n",
        "rf_regressor.fit(X_train, y_train)"
      ],
      "execution_count": 98,
      "outputs": [
        {
          "output_type": "execute_result",
          "data": {
            "text/plain": "RandomForestRegressor(bootstrap=True, criterion='mse', max_depth=None,\n                      max_features='auto', max_leaf_nodes=None,\n                      min_impurity_decrease=0.0, min_impurity_split=None,\n                      min_samples_leaf=1, min_samples_split=2,\n                      min_weight_fraction_leaf=0.0, n_estimators=10,\n                      n_jobs=None, oob_score=False, random_state=None,\n                      verbose=0, warm_start=False)"
          },
          "metadata": {},
          "execution_count": 98
        }
      ]
    },
    {
      "cell_type": "code",
      "metadata": {
        "id": "YJp4BOStc5bS",
        "colab_type": "code",
        "colab": {}
      },
      "source": [
        "# avaliação do modelo nos dados de teste\n",
        "y_pred = rf_regressor.predict(X_test)"
      ],
      "execution_count": 99,
      "outputs": []
    },
    {
      "cell_type": "code",
      "metadata": {
        "id": "2jH8pO-PdD3I",
        "colab_type": "code",
        "colab": {}
      },
      "source": [
        "# adiciona os resultados no dataframe df_results\n",
        "\n",
        "df_results['valor_predito_random_forest'] = rf_regressor.predict(X_test)\n",
        "df_results.head()"
      ],
      "execution_count": 100,
      "outputs": [
        {
          "output_type": "execute_result",
          "data": {
            "text/plain": "   valor_real  valor_predito_baseline  valor_predito_reg_linear  \\\n0        18.5               20.130425                 18.459170   \n1        12.7               20.130425                 12.279894   \n2        21.4               20.130425                 24.588307   \n3        23.7               20.130425                 28.254693   \n4        20.8               20.130425                 18.195439   \n\n   valor_predito_arvore  valor_predito_random_forest  \n0                  16.6                        19.36  \n1                  23.2                        15.28  \n2                  24.5                        24.44  \n3                  23.3                        24.62  \n4                  23.0                        22.30  ",
            "text/html": "<div>\n<style scoped>\n    .dataframe tbody tr th:only-of-type {\n        vertical-align: middle;\n    }\n\n    .dataframe tbody tr th {\n        vertical-align: top;\n    }\n\n    .dataframe thead th {\n        text-align: right;\n    }\n</style>\n<table border=\"1\" class=\"dataframe\">\n  <thead>\n    <tr style=\"text-align: right;\">\n      <th></th>\n      <th>valor_real</th>\n      <th>valor_predito_baseline</th>\n      <th>valor_predito_reg_linear</th>\n      <th>valor_predito_arvore</th>\n      <th>valor_predito_random_forest</th>\n    </tr>\n  </thead>\n  <tbody>\n    <tr>\n      <th>0</th>\n      <td>18.5</td>\n      <td>20.130425</td>\n      <td>18.459170</td>\n      <td>16.6</td>\n      <td>19.36</td>\n    </tr>\n    <tr>\n      <th>1</th>\n      <td>12.7</td>\n      <td>20.130425</td>\n      <td>12.279894</td>\n      <td>23.2</td>\n      <td>15.28</td>\n    </tr>\n    <tr>\n      <th>2</th>\n      <td>21.4</td>\n      <td>20.130425</td>\n      <td>24.588307</td>\n      <td>24.5</td>\n      <td>24.44</td>\n    </tr>\n    <tr>\n      <th>3</th>\n      <td>23.7</td>\n      <td>20.130425</td>\n      <td>28.254693</td>\n      <td>23.3</td>\n      <td>24.62</td>\n    </tr>\n    <tr>\n      <th>4</th>\n      <td>20.8</td>\n      <td>20.130425</td>\n      <td>18.195439</td>\n      <td>23.0</td>\n      <td>22.30</td>\n    </tr>\n  </tbody>\n</table>\n</div>"
          },
          "metadata": {},
          "execution_count": 100
        }
      ]
    },
    {
      "cell_type": "code",
      "metadata": {
        "id": "WLxMyfruc5UO",
        "colab_type": "code",
        "colab": {}
      },
      "source": [
        "# calcula a métrica rmse\n",
        "rmse = (np.sqrt(mean_squared_error(y_test, y_pred)))"
      ],
      "execution_count": 101,
      "outputs": []
    },
    {
      "cell_type": "code",
      "metadata": {
        "id": "V7Yt6UAxc5MQ",
        "colab_type": "code",
        "colab": {}
      },
      "source": [
        "# imprime a performance do modelo\n",
        "print ('Performance do modelo avaliado com os dados de teste:')\n",
        "print('\\nRMSE é: {} '.format(rmse))"
      ],
      "execution_count": 102,
      "outputs": [
        {
          "output_type": "stream",
          "name": "stdout",
          "text": "Performance do modelo avaliado com os dados de teste:\n\nRMSE é: 3.360005010929208 \n"
        }
      ]
    },
    {
      "cell_type": "code",
      "metadata": {
        "id": "xKy2c8eidpdW",
        "colab_type": "code",
        "colab": {}
      },
      "source": [
        "# plota os resultados dos modelos e o valor real.\n",
        "import plotly.graph_objects as go\n",
        "\n",
        "# Create traces\n",
        "fig = go.Figure()\n",
        "\n",
        "# Linha com os dados de teste\n",
        "fig.add_trace(go.Scatter(x=df_results.index,\n",
        "                         y=df_results.valor_real,\n",
        "                         mode='markers',\n",
        "                         name='Valor Real'))\n",
        "\n",
        "# Linha com os dados da baseline\n",
        "fig.add_trace(go.Scatter(x=df_results.index,\n",
        "                         y=df_results.valor_predito_baseline,\n",
        "                         mode='lines+markers',\n",
        "                         line = dict(color = '#FF00FF'),\n",
        "                         name='Valor da Baseline'))\n",
        "\n",
        "# Linha com os dados preditos pela arvore\n",
        "fig.add_trace(go.Scatter(x=df_results.index,\n",
        "                         y=df_results.valor_predito_arvore,\n",
        "                         mode='lines',\n",
        "                         line = dict(color = '#B2FF66'),\n",
        "                         name='Valor Predito Árvore'))\n",
        "\n",
        "# Linha com os dados preditos pela regressão linear\n",
        "fig.add_trace(go.Scatter(x=df_results.index,\n",
        "                         y=df_results.valor_predito_reg_linear,\n",
        "                         mode='lines',\n",
        "                         line = dict(color = '#17BECF'),\n",
        "                         name='Valor Predito Regressão Linear'))\n",
        "\n",
        "\n",
        "# Linha com os dados preditos pela Random Forest\n",
        "fig.add_trace(go.Scatter(x=df_results.index,\n",
        "                         y=df_results.valor_predito_random_forest,\n",
        "                         mode='lines',\n",
        "                         line = dict(color = '#7F7F7F'),\n",
        "                         name='Valor Predito Random Forest'))\n",
        "\n",
        "# Plota a figura\n",
        "fig.show()"
      ],
      "execution_count": 85,
      "outputs": [
        {
          "output_type": "display_data",
          "data": {
            "application/vnd.plotly.v1+json": {
              "config": {
                "plotlyServerURL": "https://plot.ly"
              },
              "data": [
                {
                  "mode": "markers",
                  "name": "Valor Real",
                  "type": "scatter",
                  "x": [
                    0,
                    1,
                    2,
                    3,
                    4,
                    5,
                    6,
                    7,
                    8,
                    9,
                    10,
                    11,
                    12,
                    13,
                    14,
                    15,
                    16,
                    17,
                    18,
                    19,
                    20,
                    21,
                    22,
                    23,
                    24,
                    25,
                    26,
                    27,
                    28,
                    29,
                    30,
                    31,
                    32,
                    33,
                    34,
                    35,
                    36,
                    37,
                    38,
                    39,
                    40,
                    41,
                    42,
                    43,
                    44,
                    45,
                    46,
                    47,
                    48,
                    49,
                    50,
                    51,
                    52,
                    53,
                    54,
                    55,
                    56,
                    57,
                    58,
                    59,
                    60,
                    61,
                    62,
                    63,
                    64,
                    65,
                    66,
                    67,
                    68,
                    69,
                    70,
                    71,
                    72,
                    73,
                    74,
                    75,
                    76,
                    77,
                    78,
                    79,
                    80,
                    81,
                    82,
                    83,
                    84,
                    85,
                    86,
                    87,
                    88,
                    89,
                    90,
                    91,
                    92,
                    93,
                    94,
                    95,
                    96,
                    97
                  ],
                  "y": [
                    18.5,
                    12.7,
                    21.4,
                    23.7,
                    20.8,
                    25,
                    9.7,
                    14.9,
                    34.9,
                    31.6,
                    24.7,
                    22.9,
                    33.2,
                    9.6,
                    30.5,
                    19.2,
                    30.3,
                    15.4,
                    24.3,
                    24.4,
                    21.5,
                    27.9,
                    17.3,
                    21.4,
                    21.7,
                    24.4,
                    8.5,
                    15,
                    11.5,
                    13.6,
                    24.4,
                    7.4,
                    44,
                    21.7,
                    19.3,
                    16.1,
                    29,
                    26.4,
                    20.3,
                    10.8,
                    5,
                    19.6,
                    23.1,
                    23.9,
                    17.5,
                    13.5,
                    48.8,
                    26.2,
                    19.7,
                    14.2,
                    11,
                    19,
                    21.7,
                    18.4,
                    33.4,
                    14,
                    24.7,
                    43.8,
                    48.5,
                    25,
                    22.6,
                    21.2,
                    22.4,
                    23.8,
                    19.9,
                    16.5,
                    16.7,
                    17.2,
                    13.1,
                    19.1,
                    18.5,
                    22.2,
                    22.6,
                    19.4,
                    15.2,
                    19.8,
                    19.4,
                    21.6,
                    18.2,
                    19.6,
                    19.6,
                    23,
                    7,
                    17.6,
                    25,
                    41.3,
                    24.1,
                    22.6,
                    18.7,
                    22.6,
                    13.1,
                    22.2,
                    16.1,
                    39.8,
                    25,
                    20.5,
                    10.4,
                    20.4
                  ]
                },
                {
                  "line": {
                    "color": "#FF00FF"
                  },
                  "mode": "lines+markers",
                  "name": "Valor da Baseline",
                  "type": "scatter",
                  "x": [
                    0,
                    1,
                    2,
                    3,
                    4,
                    5,
                    6,
                    7,
                    8,
                    9,
                    10,
                    11,
                    12,
                    13,
                    14,
                    15,
                    16,
                    17,
                    18,
                    19,
                    20,
                    21,
                    22,
                    23,
                    24,
                    25,
                    26,
                    27,
                    28,
                    29,
                    30,
                    31,
                    32,
                    33,
                    34,
                    35,
                    36,
                    37,
                    38,
                    39,
                    40,
                    41,
                    42,
                    43,
                    44,
                    45,
                    46,
                    47,
                    48,
                    49,
                    50,
                    51,
                    52,
                    53,
                    54,
                    55,
                    56,
                    57,
                    58,
                    59,
                    60,
                    61,
                    62,
                    63,
                    64,
                    65,
                    66,
                    67,
                    68,
                    69,
                    70,
                    71,
                    72,
                    73,
                    74,
                    75,
                    76,
                    77,
                    78,
                    79,
                    80,
                    81,
                    82,
                    83,
                    84,
                    85,
                    86,
                    87,
                    88,
                    89,
                    90,
                    91,
                    92,
                    93,
                    94,
                    95,
                    96,
                    97
                  ],
                  "y": [
                    20.1304245283019,
                    20.1304245283019,
                    20.1304245283019,
                    20.1304245283019,
                    20.1304245283019,
                    20.1304245283019,
                    20.1304245283019,
                    20.1304245283019,
                    35.71923076923077,
                    35.71923076923077,
                    20.1304245283019,
                    20.1304245283019,
                    35.71923076923077,
                    20.1304245283019,
                    20.1304245283019,
                    20.1304245283019,
                    35.71923076923077,
                    20.1304245283019,
                    20.1304245283019,
                    20.1304245283019,
                    20.1304245283019,
                    20.1304245283019,
                    20.1304245283019,
                    20.1304245283019,
                    20.1304245283019,
                    20.1304245283019,
                    20.1304245283019,
                    35.71923076923077,
                    20.1304245283019,
                    20.1304245283019,
                    20.1304245283019,
                    20.1304245283019,
                    35.71923076923077,
                    20.1304245283019,
                    20.1304245283019,
                    14.921428571428574,
                    35.71923076923077,
                    20.1304245283019,
                    20.1304245283019,
                    20.1304245283019,
                    20.1304245283019,
                    20.1304245283019,
                    20.1304245283019,
                    20.1304245283019,
                    20.1304245283019,
                    20.1304245283019,
                    35.71923076923077,
                    20.1304245283019,
                    20.1304245283019,
                    20.1304245283019,
                    20.1304245283019,
                    20.1304245283019,
                    20.1304245283019,
                    20.1304245283019,
                    35.71923076923077,
                    20.1304245283019,
                    20.1304245283019,
                    35.71923076923077,
                    35.71923076923077,
                    20.1304245283019,
                    20.1304245283019,
                    20.1304245283019,
                    20.1304245283019,
                    20.1304245283019,
                    20.1304245283019,
                    20.1304245283019,
                    20.1304245283019,
                    20.1304245283019,
                    20.1304245283019,
                    20.1304245283019,
                    20.1304245283019,
                    20.1304245283019,
                    20.1304245283019,
                    20.1304245283019,
                    20.1304245283019,
                    20.1304245283019,
                    20.1304245283019,
                    20.1304245283019,
                    20.1304245283019,
                    20.1304245283019,
                    20.1304245283019,
                    20.1304245283019,
                    14.921428571428574,
                    20.1304245283019,
                    20.1304245283019,
                    20.1304245283019,
                    20.1304245283019,
                    20.1304245283019,
                    20.1304245283019,
                    20.1304245283019,
                    20.1304245283019,
                    20.1304245283019,
                    20.1304245283019,
                    35.71923076923077,
                    35.71923076923077,
                    20.1304245283019,
                    20.1304245283019,
                    20.1304245283019
                  ]
                },
                {
                  "line": {
                    "color": "#B2FF66"
                  },
                  "mode": "lines",
                  "name": "Valor Predito Árvore",
                  "type": "scatter",
                  "x": [
                    0,
                    1,
                    2,
                    3,
                    4,
                    5,
                    6,
                    7,
                    8,
                    9,
                    10,
                    11,
                    12,
                    13,
                    14,
                    15,
                    16,
                    17,
                    18,
                    19,
                    20,
                    21,
                    22,
                    23,
                    24,
                    25,
                    26,
                    27,
                    28,
                    29,
                    30,
                    31,
                    32,
                    33,
                    34,
                    35,
                    36,
                    37,
                    38,
                    39,
                    40,
                    41,
                    42,
                    43,
                    44,
                    45,
                    46,
                    47,
                    48,
                    49,
                    50,
                    51,
                    52,
                    53,
                    54,
                    55,
                    56,
                    57,
                    58,
                    59,
                    60,
                    61,
                    62,
                    63,
                    64,
                    65,
                    66,
                    67,
                    68,
                    69,
                    70,
                    71,
                    72,
                    73,
                    74,
                    75,
                    76,
                    77,
                    78,
                    79,
                    80,
                    81,
                    82,
                    83,
                    84,
                    85,
                    86,
                    87,
                    88,
                    89,
                    90,
                    91,
                    92,
                    93,
                    94,
                    95,
                    96,
                    97
                  ],
                  "y": [
                    16.6,
                    23.2,
                    24.5,
                    23.3,
                    23,
                    27.5,
                    7.2,
                    17.1,
                    36.4,
                    31.7,
                    24.5,
                    22.2,
                    35.4,
                    14.6,
                    29.8,
                    23.1,
                    21.9,
                    13.8,
                    24.5,
                    23.9,
                    15.3,
                    28.5,
                    15,
                    20.6,
                    23.4,
                    18.5,
                    12.1,
                    30.7,
                    12.8,
                    14.3,
                    22.2,
                    10.5,
                    45.4,
                    23.2,
                    23.2,
                    14.5,
                    32.2,
                    23.3,
                    18.8,
                    8.4,
                    5.6,
                    19.2,
                    25,
                    22.2,
                    17.2,
                    14.5,
                    43.1,
                    23.3,
                    17.1,
                    22.4,
                    9.5,
                    19.5,
                    19.6,
                    21.7,
                    36.1,
                    14.4,
                    23.8,
                    38.7,
                    34.7,
                    24.3,
                    27.1,
                    21,
                    26.5,
                    19.1,
                    15.2,
                    22,
                    20.1,
                    27.5,
                    15.6,
                    20,
                    19.4,
                    20.7,
                    20.5,
                    22.4,
                    14.3,
                    19.4,
                    23.2,
                    23.8,
                    25,
                    15.3,
                    19.3,
                    20.6,
                    8.3,
                    17.4,
                    34.9,
                    27,
                    23.7,
                    19.3,
                    19.5,
                    32,
                    12.7,
                    22,
                    18.4,
                    36.1,
                    28.7,
                    18.8,
                    8.3,
                    19.3
                  ]
                },
                {
                  "line": {
                    "color": "#17BECF"
                  },
                  "mode": "lines",
                  "name": "Valor Predito Regressão Linear",
                  "type": "scatter",
                  "x": [
                    0,
                    1,
                    2,
                    3,
                    4,
                    5,
                    6,
                    7,
                    8,
                    9,
                    10,
                    11,
                    12,
                    13,
                    14,
                    15,
                    16,
                    17,
                    18,
                    19,
                    20,
                    21,
                    22,
                    23,
                    24,
                    25,
                    26,
                    27,
                    28,
                    29,
                    30,
                    31,
                    32,
                    33,
                    34,
                    35,
                    36,
                    37,
                    38,
                    39,
                    40,
                    41,
                    42,
                    43,
                    44,
                    45,
                    46,
                    47,
                    48,
                    49,
                    50,
                    51,
                    52,
                    53,
                    54,
                    55,
                    56,
                    57,
                    58,
                    59,
                    60,
                    61,
                    62,
                    63,
                    64,
                    65,
                    66,
                    67,
                    68,
                    69,
                    70,
                    71,
                    72,
                    73,
                    74,
                    75,
                    76,
                    77,
                    78,
                    79,
                    80,
                    81,
                    82,
                    83,
                    84,
                    85,
                    86,
                    87,
                    88,
                    89,
                    90,
                    91,
                    92,
                    93,
                    94,
                    95,
                    96,
                    97
                  ],
                  "y": [
                    18.459169620175622,
                    12.27989416415652,
                    24.588306565387427,
                    28.2546932806687,
                    18.195438537343794,
                    21.630648235689584,
                    11.319198030946154,
                    14.561032219959824,
                    31.62371677304009,
                    29.588132607557004,
                    28.603936015257425,
                    26.482125815783228,
                    29.966034207781306,
                    14.553173045326123,
                    30.278248711999726,
                    24.630039158761864,
                    33.23345824950146,
                    16.931248570273684,
                    24.99446421909778,
                    26.46644144086013,
                    22.813639524070084,
                    27.10339073181635,
                    12.524996632311233,
                    19.379297519749333,
                    21.58154597100254,
                    23.877006702039058,
                    14.085855797820356,
                    21.230146967559783,
                    13.643973122717863,
                    14.716712882017287,
                    25.800161542012095,
                    7.867171947538871,
                    33.02051098404502,
                    26.04521891780928,
                    24.036781665116372,
                    17.77540345668654,
                    33.22709163662169,
                    27.517944398741665,
                    21.18738356258344,
                    10.957868727277681,
                    7.507685772949113,
                    19.41858658453992,
                    27.39333995128659,
                    23.8410182563615,
                    24.74227083856386,
                    16.990723698020272,
                    35.47974424493102,
                    26.15991291761714,
                    22.496912181783877,
                    17.90478819611412,
                    14.154116782257073,
                    21.181885684574734,
                    20.624525388320663,
                    21.177587641065532,
                    29.49552122400647,
                    14.230041126797467,
                    26.544112805265776,
                    31.088045066806597,
                    33.726935599253906,
                    24.89158173535178,
                    24.187944371239205,
                    23.86472590886008,
                    22.052781673616483,
                    21.38994045785448,
                    18.845951646544716,
                    27.841582054943295,
                    17.93632331758325,
                    13.823897089289785,
                    17.67613991103613,
                    19.294638279682893,
                    20.582306559638145,
                    25.39064984663409,
                    26.23596042344075,
                    18.89486986816471,
                    14.748302917740688,
                    26.81867562501565,
                    24.878238751496408,
                    25.213916812117628,
                    21.19251508313218,
                    20.512703338801487,
                    18.27047762963257,
                    21.370391016885534,
                    -0.0944426495523345,
                    20.958291503542682,
                    28.55253759121914,
                    28.021862079991507,
                    27.66690749195503,
                    21.45842164716916,
                    21.377824334771667,
                    27.62100650340493,
                    16.075247361056487,
                    26.092542124103048,
                    17.756087552806495,
                    29.38959640373895,
                    25.474439973258512,
                    15.839468986221023,
                    8.44698583407829,
                    20.760205429443275
                  ]
                },
                {
                  "line": {
                    "color": "#7F7F7F"
                  },
                  "mode": "lines",
                  "name": "Valor Predito Random Forest",
                  "type": "scatter",
                  "x": [
                    0,
                    1,
                    2,
                    3,
                    4,
                    5,
                    6,
                    7,
                    8,
                    9,
                    10,
                    11,
                    12,
                    13,
                    14,
                    15,
                    16,
                    17,
                    18,
                    19,
                    20,
                    21,
                    22,
                    23,
                    24,
                    25,
                    26,
                    27,
                    28,
                    29,
                    30,
                    31,
                    32,
                    33,
                    34,
                    35,
                    36,
                    37,
                    38,
                    39,
                    40,
                    41,
                    42,
                    43,
                    44,
                    45,
                    46,
                    47,
                    48,
                    49,
                    50,
                    51,
                    52,
                    53,
                    54,
                    55,
                    56,
                    57,
                    58,
                    59,
                    60,
                    61,
                    62,
                    63,
                    64,
                    65,
                    66,
                    67,
                    68,
                    69,
                    70,
                    71,
                    72,
                    73,
                    74,
                    75,
                    76,
                    77,
                    78,
                    79,
                    80,
                    81,
                    82,
                    83,
                    84,
                    85,
                    86,
                    87,
                    88,
                    89,
                    90,
                    91,
                    92,
                    93,
                    94,
                    95,
                    96,
                    97
                  ],
                  "y": [
                    19.05,
                    16.28,
                    23.91,
                    24.39,
                    22.110000000000003,
                    21.8,
                    9.040000000000001,
                    14.180000000000001,
                    39.379999999999995,
                    31.789999999999992,
                    23.86,
                    25.72,
                    33.589999999999996,
                    12.01,
                    33.17999999999999,
                    21.57,
                    33.00000000000001,
                    15.040000000000001,
                    22.740000000000002,
                    24.689999999999998,
                    17.59,
                    30.389999999999997,
                    13.469999999999999,
                    20.89,
                    21.37,
                    21.85,
                    11.85,
                    19.369999999999997,
                    12.219999999999999,
                    15.73,
                    23.08,
                    8.370000000000001,
                    42.34,
                    22.389999999999997,
                    23.809999999999995,
                    20.85,
                    35.46,
                    24.999999999999996,
                    20.07,
                    9.780000000000001,
                    6.720000000000001,
                    19.95,
                    24.46,
                    20.5,
                    20.56,
                    14.440000000000001,
                    37.74,
                    24.009999999999998,
                    18.169999999999998,
                    15.160000000000002,
                    11.360000000000001,
                    19.17,
                    20.779999999999998,
                    18.2,
                    34.79,
                    13.329999999999998,
                    25.29,
                    37.669999999999995,
                    40.79,
                    24.750000000000004,
                    23.229999999999997,
                    19.79,
                    22.849999999999998,
                    20.51,
                    18.87,
                    21.93,
                    12.929999999999998,
                    15.73,
                    15.559999999999999,
                    18.03,
                    20.82,
                    22.29,
                    23.720000000000002,
                    16.41,
                    15.85,
                    24.26,
                    22.79,
                    22.85,
                    20.279999999999998,
                    17.529999999999998,
                    18.259999999999998,
                    21.13,
                    8.17,
                    18.279999999999998,
                    28.01,
                    26.75,
                    25.04,
                    20.579999999999995,
                    19.68,
                    30.65,
                    15.23,
                    23.15,
                    17.869999999999997,
                    34.379999999999995,
                    30.709999999999997,
                    19.889999999999997,
                    8.559999999999999,
                    20.490000000000002
                  ]
                }
              ],
              "layout": {
                "template": {
                  "data": {
                    "bar": [
                      {
                        "error_x": {
                          "color": "#2a3f5f"
                        },
                        "error_y": {
                          "color": "#2a3f5f"
                        },
                        "marker": {
                          "line": {
                            "color": "#E5ECF6",
                            "width": 0.5
                          }
                        },
                        "type": "bar"
                      }
                    ],
                    "barpolar": [
                      {
                        "marker": {
                          "line": {
                            "color": "#E5ECF6",
                            "width": 0.5
                          }
                        },
                        "type": "barpolar"
                      }
                    ],
                    "carpet": [
                      {
                        "aaxis": {
                          "endlinecolor": "#2a3f5f",
                          "gridcolor": "white",
                          "linecolor": "white",
                          "minorgridcolor": "white",
                          "startlinecolor": "#2a3f5f"
                        },
                        "baxis": {
                          "endlinecolor": "#2a3f5f",
                          "gridcolor": "white",
                          "linecolor": "white",
                          "minorgridcolor": "white",
                          "startlinecolor": "#2a3f5f"
                        },
                        "type": "carpet"
                      }
                    ],
                    "choropleth": [
                      {
                        "colorbar": {
                          "outlinewidth": 0,
                          "ticks": ""
                        },
                        "type": "choropleth"
                      }
                    ],
                    "contour": [
                      {
                        "colorbar": {
                          "outlinewidth": 0,
                          "ticks": ""
                        },
                        "colorscale": [
                          [
                            0,
                            "#0d0887"
                          ],
                          [
                            0.1111111111111111,
                            "#46039f"
                          ],
                          [
                            0.2222222222222222,
                            "#7201a8"
                          ],
                          [
                            0.3333333333333333,
                            "#9c179e"
                          ],
                          [
                            0.4444444444444444,
                            "#bd3786"
                          ],
                          [
                            0.5555555555555556,
                            "#d8576b"
                          ],
                          [
                            0.6666666666666666,
                            "#ed7953"
                          ],
                          [
                            0.7777777777777778,
                            "#fb9f3a"
                          ],
                          [
                            0.8888888888888888,
                            "#fdca26"
                          ],
                          [
                            1,
                            "#f0f921"
                          ]
                        ],
                        "type": "contour"
                      }
                    ],
                    "contourcarpet": [
                      {
                        "colorbar": {
                          "outlinewidth": 0,
                          "ticks": ""
                        },
                        "type": "contourcarpet"
                      }
                    ],
                    "heatmap": [
                      {
                        "colorbar": {
                          "outlinewidth": 0,
                          "ticks": ""
                        },
                        "colorscale": [
                          [
                            0,
                            "#0d0887"
                          ],
                          [
                            0.1111111111111111,
                            "#46039f"
                          ],
                          [
                            0.2222222222222222,
                            "#7201a8"
                          ],
                          [
                            0.3333333333333333,
                            "#9c179e"
                          ],
                          [
                            0.4444444444444444,
                            "#bd3786"
                          ],
                          [
                            0.5555555555555556,
                            "#d8576b"
                          ],
                          [
                            0.6666666666666666,
                            "#ed7953"
                          ],
                          [
                            0.7777777777777778,
                            "#fb9f3a"
                          ],
                          [
                            0.8888888888888888,
                            "#fdca26"
                          ],
                          [
                            1,
                            "#f0f921"
                          ]
                        ],
                        "type": "heatmap"
                      }
                    ],
                    "heatmapgl": [
                      {
                        "colorbar": {
                          "outlinewidth": 0,
                          "ticks": ""
                        },
                        "colorscale": [
                          [
                            0,
                            "#0d0887"
                          ],
                          [
                            0.1111111111111111,
                            "#46039f"
                          ],
                          [
                            0.2222222222222222,
                            "#7201a8"
                          ],
                          [
                            0.3333333333333333,
                            "#9c179e"
                          ],
                          [
                            0.4444444444444444,
                            "#bd3786"
                          ],
                          [
                            0.5555555555555556,
                            "#d8576b"
                          ],
                          [
                            0.6666666666666666,
                            "#ed7953"
                          ],
                          [
                            0.7777777777777778,
                            "#fb9f3a"
                          ],
                          [
                            0.8888888888888888,
                            "#fdca26"
                          ],
                          [
                            1,
                            "#f0f921"
                          ]
                        ],
                        "type": "heatmapgl"
                      }
                    ],
                    "histogram": [
                      {
                        "marker": {
                          "colorbar": {
                            "outlinewidth": 0,
                            "ticks": ""
                          }
                        },
                        "type": "histogram"
                      }
                    ],
                    "histogram2d": [
                      {
                        "colorbar": {
                          "outlinewidth": 0,
                          "ticks": ""
                        },
                        "colorscale": [
                          [
                            0,
                            "#0d0887"
                          ],
                          [
                            0.1111111111111111,
                            "#46039f"
                          ],
                          [
                            0.2222222222222222,
                            "#7201a8"
                          ],
                          [
                            0.3333333333333333,
                            "#9c179e"
                          ],
                          [
                            0.4444444444444444,
                            "#bd3786"
                          ],
                          [
                            0.5555555555555556,
                            "#d8576b"
                          ],
                          [
                            0.6666666666666666,
                            "#ed7953"
                          ],
                          [
                            0.7777777777777778,
                            "#fb9f3a"
                          ],
                          [
                            0.8888888888888888,
                            "#fdca26"
                          ],
                          [
                            1,
                            "#f0f921"
                          ]
                        ],
                        "type": "histogram2d"
                      }
                    ],
                    "histogram2dcontour": [
                      {
                        "colorbar": {
                          "outlinewidth": 0,
                          "ticks": ""
                        },
                        "colorscale": [
                          [
                            0,
                            "#0d0887"
                          ],
                          [
                            0.1111111111111111,
                            "#46039f"
                          ],
                          [
                            0.2222222222222222,
                            "#7201a8"
                          ],
                          [
                            0.3333333333333333,
                            "#9c179e"
                          ],
                          [
                            0.4444444444444444,
                            "#bd3786"
                          ],
                          [
                            0.5555555555555556,
                            "#d8576b"
                          ],
                          [
                            0.6666666666666666,
                            "#ed7953"
                          ],
                          [
                            0.7777777777777778,
                            "#fb9f3a"
                          ],
                          [
                            0.8888888888888888,
                            "#fdca26"
                          ],
                          [
                            1,
                            "#f0f921"
                          ]
                        ],
                        "type": "histogram2dcontour"
                      }
                    ],
                    "mesh3d": [
                      {
                        "colorbar": {
                          "outlinewidth": 0,
                          "ticks": ""
                        },
                        "type": "mesh3d"
                      }
                    ],
                    "parcoords": [
                      {
                        "line": {
                          "colorbar": {
                            "outlinewidth": 0,
                            "ticks": ""
                          }
                        },
                        "type": "parcoords"
                      }
                    ],
                    "pie": [
                      {
                        "automargin": true,
                        "type": "pie"
                      }
                    ],
                    "scatter": [
                      {
                        "marker": {
                          "colorbar": {
                            "outlinewidth": 0,
                            "ticks": ""
                          }
                        },
                        "type": "scatter"
                      }
                    ],
                    "scatter3d": [
                      {
                        "line": {
                          "colorbar": {
                            "outlinewidth": 0,
                            "ticks": ""
                          }
                        },
                        "marker": {
                          "colorbar": {
                            "outlinewidth": 0,
                            "ticks": ""
                          }
                        },
                        "type": "scatter3d"
                      }
                    ],
                    "scattercarpet": [
                      {
                        "marker": {
                          "colorbar": {
                            "outlinewidth": 0,
                            "ticks": ""
                          }
                        },
                        "type": "scattercarpet"
                      }
                    ],
                    "scattergeo": [
                      {
                        "marker": {
                          "colorbar": {
                            "outlinewidth": 0,
                            "ticks": ""
                          }
                        },
                        "type": "scattergeo"
                      }
                    ],
                    "scattergl": [
                      {
                        "marker": {
                          "colorbar": {
                            "outlinewidth": 0,
                            "ticks": ""
                          }
                        },
                        "type": "scattergl"
                      }
                    ],
                    "scattermapbox": [
                      {
                        "marker": {
                          "colorbar": {
                            "outlinewidth": 0,
                            "ticks": ""
                          }
                        },
                        "type": "scattermapbox"
                      }
                    ],
                    "scatterpolar": [
                      {
                        "marker": {
                          "colorbar": {
                            "outlinewidth": 0,
                            "ticks": ""
                          }
                        },
                        "type": "scatterpolar"
                      }
                    ],
                    "scatterpolargl": [
                      {
                        "marker": {
                          "colorbar": {
                            "outlinewidth": 0,
                            "ticks": ""
                          }
                        },
                        "type": "scatterpolargl"
                      }
                    ],
                    "scatterternary": [
                      {
                        "marker": {
                          "colorbar": {
                            "outlinewidth": 0,
                            "ticks": ""
                          }
                        },
                        "type": "scatterternary"
                      }
                    ],
                    "surface": [
                      {
                        "colorbar": {
                          "outlinewidth": 0,
                          "ticks": ""
                        },
                        "colorscale": [
                          [
                            0,
                            "#0d0887"
                          ],
                          [
                            0.1111111111111111,
                            "#46039f"
                          ],
                          [
                            0.2222222222222222,
                            "#7201a8"
                          ],
                          [
                            0.3333333333333333,
                            "#9c179e"
                          ],
                          [
                            0.4444444444444444,
                            "#bd3786"
                          ],
                          [
                            0.5555555555555556,
                            "#d8576b"
                          ],
                          [
                            0.6666666666666666,
                            "#ed7953"
                          ],
                          [
                            0.7777777777777778,
                            "#fb9f3a"
                          ],
                          [
                            0.8888888888888888,
                            "#fdca26"
                          ],
                          [
                            1,
                            "#f0f921"
                          ]
                        ],
                        "type": "surface"
                      }
                    ],
                    "table": [
                      {
                        "cells": {
                          "fill": {
                            "color": "#EBF0F8"
                          },
                          "line": {
                            "color": "white"
                          }
                        },
                        "header": {
                          "fill": {
                            "color": "#C8D4E3"
                          },
                          "line": {
                            "color": "white"
                          }
                        },
                        "type": "table"
                      }
                    ]
                  },
                  "layout": {
                    "annotationdefaults": {
                      "arrowcolor": "#2a3f5f",
                      "arrowhead": 0,
                      "arrowwidth": 1
                    },
                    "coloraxis": {
                      "colorbar": {
                        "outlinewidth": 0,
                        "ticks": ""
                      }
                    },
                    "colorscale": {
                      "diverging": [
                        [
                          0,
                          "#8e0152"
                        ],
                        [
                          0.1,
                          "#c51b7d"
                        ],
                        [
                          0.2,
                          "#de77ae"
                        ],
                        [
                          0.3,
                          "#f1b6da"
                        ],
                        [
                          0.4,
                          "#fde0ef"
                        ],
                        [
                          0.5,
                          "#f7f7f7"
                        ],
                        [
                          0.6,
                          "#e6f5d0"
                        ],
                        [
                          0.7,
                          "#b8e186"
                        ],
                        [
                          0.8,
                          "#7fbc41"
                        ],
                        [
                          0.9,
                          "#4d9221"
                        ],
                        [
                          1,
                          "#276419"
                        ]
                      ],
                      "sequential": [
                        [
                          0,
                          "#0d0887"
                        ],
                        [
                          0.1111111111111111,
                          "#46039f"
                        ],
                        [
                          0.2222222222222222,
                          "#7201a8"
                        ],
                        [
                          0.3333333333333333,
                          "#9c179e"
                        ],
                        [
                          0.4444444444444444,
                          "#bd3786"
                        ],
                        [
                          0.5555555555555556,
                          "#d8576b"
                        ],
                        [
                          0.6666666666666666,
                          "#ed7953"
                        ],
                        [
                          0.7777777777777778,
                          "#fb9f3a"
                        ],
                        [
                          0.8888888888888888,
                          "#fdca26"
                        ],
                        [
                          1,
                          "#f0f921"
                        ]
                      ],
                      "sequentialminus": [
                        [
                          0,
                          "#0d0887"
                        ],
                        [
                          0.1111111111111111,
                          "#46039f"
                        ],
                        [
                          0.2222222222222222,
                          "#7201a8"
                        ],
                        [
                          0.3333333333333333,
                          "#9c179e"
                        ],
                        [
                          0.4444444444444444,
                          "#bd3786"
                        ],
                        [
                          0.5555555555555556,
                          "#d8576b"
                        ],
                        [
                          0.6666666666666666,
                          "#ed7953"
                        ],
                        [
                          0.7777777777777778,
                          "#fb9f3a"
                        ],
                        [
                          0.8888888888888888,
                          "#fdca26"
                        ],
                        [
                          1,
                          "#f0f921"
                        ]
                      ]
                    },
                    "colorway": [
                      "#636efa",
                      "#EF553B",
                      "#00cc96",
                      "#ab63fa",
                      "#FFA15A",
                      "#19d3f3",
                      "#FF6692",
                      "#B6E880",
                      "#FF97FF",
                      "#FECB52"
                    ],
                    "font": {
                      "color": "#2a3f5f"
                    },
                    "geo": {
                      "bgcolor": "white",
                      "lakecolor": "white",
                      "landcolor": "#E5ECF6",
                      "showlakes": true,
                      "showland": true,
                      "subunitcolor": "white"
                    },
                    "hoverlabel": {
                      "align": "left"
                    },
                    "hovermode": "closest",
                    "mapbox": {
                      "style": "light"
                    },
                    "paper_bgcolor": "white",
                    "plot_bgcolor": "#E5ECF6",
                    "polar": {
                      "angularaxis": {
                        "gridcolor": "white",
                        "linecolor": "white",
                        "ticks": ""
                      },
                      "bgcolor": "#E5ECF6",
                      "radialaxis": {
                        "gridcolor": "white",
                        "linecolor": "white",
                        "ticks": ""
                      }
                    },
                    "scene": {
                      "xaxis": {
                        "backgroundcolor": "#E5ECF6",
                        "gridcolor": "white",
                        "gridwidth": 2,
                        "linecolor": "white",
                        "showbackground": true,
                        "ticks": "",
                        "zerolinecolor": "white"
                      },
                      "yaxis": {
                        "backgroundcolor": "#E5ECF6",
                        "gridcolor": "white",
                        "gridwidth": 2,
                        "linecolor": "white",
                        "showbackground": true,
                        "ticks": "",
                        "zerolinecolor": "white"
                      },
                      "zaxis": {
                        "backgroundcolor": "#E5ECF6",
                        "gridcolor": "white",
                        "gridwidth": 2,
                        "linecolor": "white",
                        "showbackground": true,
                        "ticks": "",
                        "zerolinecolor": "white"
                      }
                    },
                    "shapedefaults": {
                      "line": {
                        "color": "#2a3f5f"
                      }
                    },
                    "ternary": {
                      "aaxis": {
                        "gridcolor": "white",
                        "linecolor": "white",
                        "ticks": ""
                      },
                      "baxis": {
                        "gridcolor": "white",
                        "linecolor": "white",
                        "ticks": ""
                      },
                      "bgcolor": "#E5ECF6",
                      "caxis": {
                        "gridcolor": "white",
                        "linecolor": "white",
                        "ticks": ""
                      }
                    },
                    "title": {
                      "x": 0.05
                    },
                    "xaxis": {
                      "automargin": true,
                      "gridcolor": "white",
                      "linecolor": "white",
                      "ticks": "",
                      "title": {
                        "standoff": 15
                      },
                      "zerolinecolor": "white",
                      "zerolinewidth": 2
                    },
                    "yaxis": {
                      "automargin": true,
                      "gridcolor": "white",
                      "linecolor": "white",
                      "ticks": "",
                      "title": {
                        "standoff": 15
                      },
                      "zerolinecolor": "white",
                      "zerolinewidth": 2
                    }
                  }
                }
              }
            }
          },
          "metadata": {}
        }
      ]
    },
    {
      "cell_type": "markdown",
      "metadata": {
        "id": "udB7k-TMe9tj",
        "colab_type": "text"
      },
      "source": [
        "### Tunning do Algoritmo de Machine Learning"
      ]
    },
    {
      "cell_type": "markdown",
      "metadata": {
        "id": "-ivExBIzzrmX",
        "colab_type": "text"
      },
      "source": [
        "**Parâmetros da Random Forest**\n",
        "\n",
        "- `O parâmetro n_estimators define a quantidade de árvores que serão usadas para criação dos modelos. Quanto maior o número de árvores, maior será o número de modelos no ensemble.`\n",
        "\n",
        "- `O parâmtro max_deph define a profundidade da árvore, quanto mais profunda a árvore, mais especializado nos dados de treino o nosso modelo estará.`\n",
        "\n",
        "- `O parâmetro max_features define a quantidade máxima de nós que serão usados para separar os níveis folha da árvore`"
      ]
    },
    {
      "cell_type": "markdown",
      "metadata": {
        "id": "Kt1_TcBfWn31",
        "colab_type": "text"
      },
      "source": [
        "Deploy da Aplicação"
      ]
    },
    {
      "cell_type": "code",
      "metadata": {
        "id": "o_vwA3soYjYq",
        "colab_type": "code",
        "colab": {}
      },
      "source": [
        "X['MEDV'] = y"
      ],
      "execution_count": 86,
      "outputs": []
    },
    {
      "cell_type": "code",
      "metadata": {
        "id": "x5-qVIdOZwdt",
        "colab_type": "code",
        "colab": {}
      },
      "source": [
        "X.head()"
      ],
      "execution_count": 87,
      "outputs": [
        {
          "output_type": "execute_result",
          "data": {
            "text/plain": "      CRIM  INDUS  CHAS    NOX  RM  PTRATIO       B  LSTAT  MEDV\n0  0.00632   2.31   0.0  0.538   6     15.3  396.90   4.98  24.0\n1  0.02731   7.07   0.0  0.469   6     17.8  396.90   9.14  21.6\n2  0.02729   7.07   0.0  0.469   7     17.8  392.83   4.03  34.7\n3  0.03237   2.18   0.0  0.458   6     18.7  394.63   2.94  33.4\n4  0.06905   2.18   0.0  0.458   7     18.7  396.90   5.33  36.2",
            "text/html": "<div>\n<style scoped>\n    .dataframe tbody tr th:only-of-type {\n        vertical-align: middle;\n    }\n\n    .dataframe tbody tr th {\n        vertical-align: top;\n    }\n\n    .dataframe thead th {\n        text-align: right;\n    }\n</style>\n<table border=\"1\" class=\"dataframe\">\n  <thead>\n    <tr style=\"text-align: right;\">\n      <th></th>\n      <th>CRIM</th>\n      <th>INDUS</th>\n      <th>CHAS</th>\n      <th>NOX</th>\n      <th>RM</th>\n      <th>PTRATIO</th>\n      <th>B</th>\n      <th>LSTAT</th>\n      <th>MEDV</th>\n    </tr>\n  </thead>\n  <tbody>\n    <tr>\n      <th>0</th>\n      <td>0.00632</td>\n      <td>2.31</td>\n      <td>0.0</td>\n      <td>0.538</td>\n      <td>6</td>\n      <td>15.3</td>\n      <td>396.90</td>\n      <td>4.98</td>\n      <td>24.0</td>\n    </tr>\n    <tr>\n      <th>1</th>\n      <td>0.02731</td>\n      <td>7.07</td>\n      <td>0.0</td>\n      <td>0.469</td>\n      <td>6</td>\n      <td>17.8</td>\n      <td>396.90</td>\n      <td>9.14</td>\n      <td>21.6</td>\n    </tr>\n    <tr>\n      <th>2</th>\n      <td>0.02729</td>\n      <td>7.07</td>\n      <td>0.0</td>\n      <td>0.469</td>\n      <td>7</td>\n      <td>17.8</td>\n      <td>392.83</td>\n      <td>4.03</td>\n      <td>34.7</td>\n    </tr>\n    <tr>\n      <th>3</th>\n      <td>0.03237</td>\n      <td>2.18</td>\n      <td>0.0</td>\n      <td>0.458</td>\n      <td>6</td>\n      <td>18.7</td>\n      <td>394.63</td>\n      <td>2.94</td>\n      <td>33.4</td>\n    </tr>\n    <tr>\n      <th>4</th>\n      <td>0.06905</td>\n      <td>2.18</td>\n      <td>0.0</td>\n      <td>0.458</td>\n      <td>7</td>\n      <td>18.7</td>\n      <td>396.90</td>\n      <td>5.33</td>\n      <td>36.2</td>\n    </tr>\n  </tbody>\n</table>\n</div>"
          },
          "metadata": {},
          "execution_count": 87
        }
      ]
    },
    {
      "cell_type": "code",
      "metadata": {
        "id": "vbPO7woOa7N0",
        "colab_type": "code",
        "colab": {}
      },
      "source": [
        "X.to_csv('model\\\\data.csv', index=False)"
      ],
      "execution_count": 103,
      "outputs": []
    },
    {
      "cell_type": "code",
      "execution_count": null,
      "metadata": {},
      "outputs": [],
      "source": []
    },
    {
      "cell_type": "code",
      "execution_count": null,
      "metadata": {},
      "outputs": [],
      "source": []
    }
  ],
  "metadata": {
    "anaconda-cloud": {},
    "kernelspec": {
      "display_name": "Python 3",
      "language": "python",
      "name": "python3"
    },
    "language_info": {
      "codemirror_mode": {
        "name": "ipython",
        "version": 3
      },
      "file_extension": ".py",
      "mimetype": "text/x-python",
      "name": "python",
      "nbconvert_exporter": "python",
      "pygments_lexer": "ipython3",
      "version": "3.7.4-final"
    },
    "colab": {
      "name": "aula03.ipynb",
      "provenance": [],
      "collapsed_sections": []
    }
  },
  "nbformat": 4,
  "nbformat_minor": 0
}